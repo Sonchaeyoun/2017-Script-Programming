{
 "cells": [
  {
   "cell_type": "markdown",
   "metadata": {
    "collapsed": true
   },
   "source": [
    "# 과제 3번 - 2016136062 손채연"
   ]
  },
  {
   "cell_type": "markdown",
   "metadata": {},
   "source": [
    "### 1번 문제"
   ]
  },
  {
   "cell_type": "markdown",
   "metadata": {},
   "source": [
    "* L=[1, 2, 3, 4, 5]일 때 다음 각 문장을 수행한 후의 결과를 보고 납득할 만한 이유를 설명하시오.  "
   ]
  },
  {
   "cell_type": "markdown",
   "metadata": {},
   "source": [
    "1)<pre>L[1:3] = [100]\n",
    "print(L)</pre>"
   ]
  },
  {
   "cell_type": "code",
   "execution_count": 10,
   "metadata": {},
   "outputs": [
    {
     "name": "stdout",
     "output_type": "stream",
     "text": [
      "[1, 100, 4, 5]\n"
     ]
    }
   ],
   "source": [
    "L = [1,2,3,4,5]\n",
    "L[1:3] = [100]\n",
    "print(L)"
   ]
  },
  {
   "cell_type": "markdown",
   "metadata": {
    "collapsed": true
   },
   "source": [
    "리스트는 변경 가능하고, 서로 다른 크기에 대한 슬라이스 치환이 가능하므로 이런 결과가 나온다."
   ]
  },
  {
   "cell_type": "markdown",
   "metadata": {},
   "source": [
    "2)<pre>L[1:3] = [(100)]\n",
    "print(L)</pre>"
   ]
  },
  {
   "cell_type": "code",
   "execution_count": 6,
   "metadata": {},
   "outputs": [
    {
     "name": "stdout",
     "output_type": "stream",
     "text": [
      "[1, 100, 4, 5]\n"
     ]
    }
   ],
   "source": [
    "L = [1,2,3,4,5]\n",
    "L[1:3] = [(100)]\n",
    "print(L)"
   ]
  },
  {
   "cell_type": "markdown",
   "metadata": {},
   "source": [
    "리스트 안의 자료가 튜플이어도 추출 가능하므로 서로 다른 크기에 대한 슬라이스 치환이 가능하여 이런 결과가 나온다."
   ]
  },
  {
   "cell_type": "markdown",
   "metadata": {},
   "source": [
    "3)<pre>L[1:3] = 100\n",
    "print(L)</pre>"
   ]
  },
  {
   "cell_type": "code",
   "execution_count": 7,
   "metadata": {},
   "outputs": [
    {
     "ename": "TypeError",
     "evalue": "can only assign an iterable",
     "output_type": "error",
     "traceback": [
      "\u001b[1;31m---------------------------------------------------------------------------\u001b[0m",
      "\u001b[1;31mTypeError\u001b[0m                                 Traceback (most recent call last)",
      "\u001b[1;32m<ipython-input-7-15464e5e216c>\u001b[0m in \u001b[0;36m<module>\u001b[1;34m()\u001b[0m\n\u001b[0;32m      1\u001b[0m \u001b[0mL\u001b[0m \u001b[1;33m=\u001b[0m \u001b[1;33m[\u001b[0m\u001b[1;36m1\u001b[0m\u001b[1;33m,\u001b[0m\u001b[1;36m2\u001b[0m\u001b[1;33m,\u001b[0m\u001b[1;36m3\u001b[0m\u001b[1;33m,\u001b[0m\u001b[1;36m4\u001b[0m\u001b[1;33m,\u001b[0m\u001b[1;36m5\u001b[0m\u001b[1;33m]\u001b[0m\u001b[1;33m\u001b[0m\u001b[0m\n\u001b[1;32m----> 2\u001b[1;33m \u001b[0mL\u001b[0m\u001b[1;33m[\u001b[0m\u001b[1;36m1\u001b[0m\u001b[1;33m:\u001b[0m\u001b[1;36m3\u001b[0m\u001b[1;33m]\u001b[0m \u001b[1;33m=\u001b[0m \u001b[1;36m100\u001b[0m\u001b[1;33m\u001b[0m\u001b[0m\n\u001b[0m\u001b[0;32m      3\u001b[0m \u001b[0mprint\u001b[0m\u001b[1;33m(\u001b[0m\u001b[0mL\u001b[0m\u001b[1;33m)\u001b[0m\u001b[1;33m\u001b[0m\u001b[0m\n",
      "\u001b[1;31mTypeError\u001b[0m: can only assign an iterable"
     ]
    }
   ],
   "source": [
    "L = [1,2,3,4,5]\n",
    "L[1:3] = 100\n",
    "print(L)"
   ]
  },
  {
   "cell_type": "markdown",
   "metadata": {},
   "source": [
    "리스트를 슬라이스한 것을 list, str 아니면 튜플같은 것으로는 치환할 수 있지만 곧바로 정수로 치환하는 것은 불가능하기 때문에 이런 결과가 나온다."
   ]
  },
  {
   "cell_type": "markdown",
   "metadata": {},
   "source": [
    "4)<pre>L[1:3] = (100)\n",
    "print(L)</pre>"
   ]
  },
  {
   "cell_type": "code",
   "execution_count": 13,
   "metadata": {},
   "outputs": [
    {
     "ename": "TypeError",
     "evalue": "can only assign an iterable",
     "output_type": "error",
     "traceback": [
      "\u001b[1;31m---------------------------------------------------------------------------\u001b[0m",
      "\u001b[1;31mTypeError\u001b[0m                                 Traceback (most recent call last)",
      "\u001b[1;32m<ipython-input-13-7131b7ae1ab5>\u001b[0m in \u001b[0;36m<module>\u001b[1;34m()\u001b[0m\n\u001b[0;32m      1\u001b[0m \u001b[0mL\u001b[0m \u001b[1;33m=\u001b[0m \u001b[1;33m[\u001b[0m\u001b[1;36m1\u001b[0m\u001b[1;33m,\u001b[0m\u001b[1;36m2\u001b[0m\u001b[1;33m,\u001b[0m\u001b[1;36m3\u001b[0m\u001b[1;33m,\u001b[0m\u001b[1;36m4\u001b[0m\u001b[1;33m,\u001b[0m\u001b[1;36m5\u001b[0m\u001b[1;33m]\u001b[0m\u001b[1;33m\u001b[0m\u001b[0m\n\u001b[1;32m----> 2\u001b[1;33m \u001b[0mL\u001b[0m\u001b[1;33m[\u001b[0m\u001b[1;36m1\u001b[0m\u001b[1;33m:\u001b[0m\u001b[1;36m3\u001b[0m\u001b[1;33m]\u001b[0m \u001b[1;33m=\u001b[0m \u001b[1;33m(\u001b[0m\u001b[1;36m100\u001b[0m\u001b[1;33m)\u001b[0m\u001b[1;33m\u001b[0m\u001b[0m\n\u001b[0m\u001b[0;32m      3\u001b[0m \u001b[0mprint\u001b[0m\u001b[1;33m(\u001b[0m\u001b[0mL\u001b[0m\u001b[1;33m)\u001b[0m\u001b[1;33m\u001b[0m\u001b[0m\n",
      "\u001b[1;31mTypeError\u001b[0m: can only assign an iterable"
     ]
    }
   ],
   "source": [
    "L = [1,2,3,4,5]\n",
    "L[1:3] = (100)\n",
    "print(L)"
   ]
  },
  {
   "cell_type": "markdown",
   "metadata": {},
   "source": [
    "(100)은 튜플이 아닌 일반값으로 연산되므로 (3)과 같은 이유로 치환할 수 없기 때문에 이런 결과가 나온다."
   ]
  },
  {
   "cell_type": "markdown",
   "metadata": {},
   "source": [
    "5)<pre>L[1:3] = (100, 101, 102)\n",
    "print(L)</pre>"
   ]
  },
  {
   "cell_type": "code",
   "execution_count": 15,
   "metadata": {},
   "outputs": [
    {
     "name": "stdout",
     "output_type": "stream",
     "text": [
      "[1, 100, 101, 102, 4, 5]\n"
     ]
    }
   ],
   "source": [
    "L = [1,2,3,4,5]\n",
    "L[1:3] = (100, 101, 102)\n",
    "print(L)"
   ]
  },
  {
   "cell_type": "markdown",
   "metadata": {},
   "source": [
    "리스트를 슬라이스한 것은 같은 iterable인 튜플로 치환이 가능한다. 따라서 이런 결과가 나올 수 있는 것이다."
   ]
  },
  {
   "cell_type": "markdown",
   "metadata": {},
   "source": [
    "6)<pre>L[1:3] = [100, 101, 102]\n",
    "print(L)</pre>"
   ]
  },
  {
   "cell_type": "code",
   "execution_count": 11,
   "metadata": {},
   "outputs": [
    {
     "name": "stdout",
     "output_type": "stream",
     "text": [
      "[1, 100, 101, 102, 4, 5]\n"
     ]
    }
   ],
   "source": [
    "L = [1,2,3,4,5]\n",
    "L[1:3] = [100, 101, 102]\n",
    "print(L)"
   ]
  },
  {
   "cell_type": "markdown",
   "metadata": {},
   "source": [
    "리스트는 변경 가능하고, 서로 다른 크기에 대한 슬라이스 치환이 가능하므로 이런 결과가 나온다."
   ]
  },
  {
   "cell_type": "markdown",
   "metadata": {},
   "source": [
    "7)<pre>L[1:3] = [(100, 101, 102)]\n",
    "print(L)</pre>"
   ]
  },
  {
   "cell_type": "code",
   "execution_count": 16,
   "metadata": {},
   "outputs": [
    {
     "name": "stdout",
     "output_type": "stream",
     "text": [
      "[1, (100, 101, 102), 4, 5]\n"
     ]
    }
   ],
   "source": [
    "L = [1,2,3,4,5]\n",
    "L[1:3] = [(100, 101, 102)]\n",
    "print(L)"
   ]
  },
  {
   "cell_type": "markdown",
   "metadata": {},
   "source": [
    "튜플을 내포한 리스트를 리스트 L을 슬라이스한 것과 치환하면 묶인 튜플 전체가 하나의 원소로서 리스트 L안에 들어가게 된다."
   ]
  },
  {
   "cell_type": "markdown",
   "metadata": {},
   "source": [
    "8)<pre>L[1:3] = [[100, 101, 102]]\n",
    "print(L)</pre>     "
   ]
  },
  {
   "cell_type": "code",
   "execution_count": 17,
   "metadata": {},
   "outputs": [
    {
     "name": "stdout",
     "output_type": "stream",
     "text": [
      "[1, [100, 101, 102], 4, 5]\n"
     ]
    }
   ],
   "source": [
    "L = [1,2,3,4,5]\n",
    "L[1:3] = [[100, 101, 102]]\n",
    "print(L)"
   ]
  },
  {
   "cell_type": "markdown",
   "metadata": {},
   "source": [
    "리스트를 내포한 리스트를 리스트 L을 슬라이스한 것과 치환하면 묶인 튜플 전체가 하나의 원소로서 리스트 L안에 들어가게 된다."
   ]
  },
  {
   "cell_type": "markdown",
   "metadata": {},
   "source": [
    "### 2번 문제"
   ]
  },
  {
   "cell_type": "markdown",
   "metadata": {},
   "source": [
    "* 문자열 S = 'Hello World and Python'에 대해 다음 요구사항에 대한 Python 코드를 제시하시오."
   ]
  },
  {
   "cell_type": "markdown",
   "metadata": {},
   "source": [
    "1) 단어의 순서가 역순으로 되어진 문자열 ('Python and World Hello')을 만들고"
   ]
  },
  {
   "cell_type": "code",
   "execution_count": 6,
   "metadata": {},
   "outputs": [
    {
     "name": "stdout",
     "output_type": "stream",
     "text": [
      "Python and World Hello\n"
     ]
    }
   ],
   "source": [
    "S = 'Hello World and Python'\n",
    "S = S[16:] + S[11:16] + S[6:12] + S[:5]\n",
    "print(S)"
   ]
  },
  {
   "cell_type": "markdown",
   "metadata": {},
   "source": [
    "문자열 S를 'Python', ' and', ' World ', 'Hello'로 슬라이스 하고, 이들을 연결 연산자(+)로 조합하여 문자열 'Python and World Hello'를 만들었다. "
   ]
  },
  {
   "cell_type": "markdown",
   "metadata": {},
   "source": [
    "2) 1)의 결과 문자열에 대해 메소드 split과 join을 이용하여 공백을 모두 없엔 문자열 'PythonandWorldHello'을 만드시오."
   ]
  },
  {
   "cell_type": "code",
   "execution_count": 5,
   "metadata": {},
   "outputs": [
    {
     "name": "stdout",
     "output_type": "stream",
     "text": [
      "PythonandWorldHello\n"
     ]
    }
   ],
   "source": [
    "S = S.split(' ')\n",
    "S = ''.join(S)\n",
    "print(S)"
   ]
  },
  {
   "cell_type": "markdown",
   "metadata": {
    "collapsed": true
   },
   "source": [
    "문자열의 split 메소드를 사용하여 공백으로 분리하여 단어 리스트를 얻은 후, 이를 join 메소드를 이용해 리스트 내부의 원소들을 공백 없이 연결하였다."
   ]
  },
  {
   "cell_type": "markdown",
   "metadata": {},
   "source": [
    "### 3번 문제"
   ]
  },
  {
   "cell_type": "markdown",
   "metadata": {},
   "source": [
    "* 다음 코드를 보고 물음에 답하시오.\n",
    "<pre>a = [1, 2, 3]\n",
    "b = a * 3\n",
    "c = [a] * 3\n",
    "print(b)\n",
    "print(c)</pre>"
   ]
  },
  {
   "cell_type": "markdown",
   "metadata": {},
   "source": [
    "1) 위 코드를 수행한 이후 다음 코드를 수행한 후 b와 c의 내용을 확인하시오.<pre>\n",
    "a[0]=0</pre>"
   ]
  },
  {
   "cell_type": "code",
   "execution_count": 7,
   "metadata": {},
   "outputs": [
    {
     "name": "stdout",
     "output_type": "stream",
     "text": [
      "[1, 2, 3, 1, 2, 3, 1, 2, 3]\n",
      "[[1, 2, 3], [1, 2, 3], [1, 2, 3]]\n",
      "[1, 2, 3, 1, 2, 3, 1, 2, 3]\n",
      "[[0, 2, 3], [0, 2, 3], [0, 2, 3]]\n"
     ]
    }
   ],
   "source": [
    "a = [1, 2, 3]\n",
    "b = a * 3\n",
    "c = [a] * 3\n",
    "print(b)\n",
    "print(c)\n",
    "a[0]=0\n",
    "print(b)\n",
    "print(c)"
   ]
  },
  {
   "cell_type": "markdown",
   "metadata": {},
   "source": [
    "2) b와 c 객체의 차이는 무엇인가?"
   ]
  },
  {
   "cell_type": "markdown",
   "metadata": {
    "collapsed": true
   },
   "source": [
    "b는 a를 이용해 만들었지만 a와는 상관없는 하나의 새로운 객체인 반면에 c는 a와 같은 리스트를 가리키고 있다. 따라서 b는 a의 원소 값을 바꾸어도 아무런 영향이 없지만 c는 a의 원소 값이 바뀌는 대로 영향을 받는다."
   ]
  },
  {
   "cell_type": "markdown",
   "metadata": {},
   "source": [
    "### 4번 문제"
   ]
  },
  {
   "cell_type": "markdown",
   "metadata": {},
   "source": [
    "* 다음 문자열을 ':'을 기준으로 분리하여 리스트로 만들고 각 문자열의 좌우 공백을 제거하시오 (즉, 문자열 S에서 l을 만들어라)\n",
    "<pre>s = '  first star   :   second star   :    third star  '\n",
    "l = ['first star', 'second star', 'third star']</pre>"
   ]
  },
  {
   "cell_type": "markdown",
   "metadata": {},
   "source": [
    "1) for ~ in 문을 이용한 코드를 작성하시오."
   ]
  },
  {
   "cell_type": "code",
   "execution_count": 8,
   "metadata": {},
   "outputs": [
    {
     "name": "stdout",
     "output_type": "stream",
     "text": [
      "['first star', 'second star', 'third star']\n"
     ]
    }
   ],
   "source": [
    "s = '  first star   :   second star   :    third star  '\n",
    "l = s.split(':')\n",
    "for x in range(len(l)):\n",
    "    l[x] = l[x].strip()\n",
    "    \n",
    "print(l)"
   ]
  },
  {
   "cell_type": "markdown",
   "metadata": {
    "collapsed": true
   },
   "source": [
    "문자열을 split 메소드를 사용해 : 기준으로 나눈다. 그리고 for~in 문을 이용하여 이들을 strip 메소드로 좌우 공백을 제거한다."
   ]
  },
  {
   "cell_type": "markdown",
   "metadata": {},
   "source": [
    "2) 리스트 내포(list comprehension)를 이용한 코드를 작성하시오."
   ]
  },
  {
   "cell_type": "code",
   "execution_count": 39,
   "metadata": {},
   "outputs": [
    {
     "name": "stdout",
     "output_type": "stream",
     "text": [
      "['first star', 'second star', 'third star']\n"
     ]
    }
   ],
   "source": [
    "s = '  first star   :   second star   :    third star  '\n",
    "l = s.split(':')\n",
    "l = [l[x].strip() for x in range(len(l))]\n",
    "print(l)"
   ]
  },
  {
   "cell_type": "markdown",
   "metadata": {
    "collapsed": true
   },
   "source": [
    "문자열을 split 메소드를 사용해 : 기준으로 나누는 것은 1)과 같다. 하지만 여기서는 리스트 내포를 이용하여 이들을 strip 메소드로 좌우 공백을 제거한다."
   ]
  },
  {
   "cell_type": "markdown",
   "metadata": {},
   "source": [
    "### 5번 문제"
   ]
  },
  {
   "cell_type": "markdown",
   "metadata": {},
   "source": [
    "* 다음과 같이 0보다 큰 정수 리스트 변수 list를 인자로 받는 함수 addall(list)와 addallodd(list)를 for ~ in 리터널과 리스트 내포 방식으로 각각 제시하시오.\n",
    "    * [참고 1]: 리스트 내포 방식으로 addall() 및 addallodd()함수를 만들 때엔 리스트 내포에 의해 생성된 리스트 결과에 대해 내장 함수를 사용하는 방식을 고려해보시오 (주의: 리스트 내포 방식의 addall() 및 addallodd() 함수의 몸체는 단 1줄로 작성되어야 한다.)\n",
    "    * [참고 2]: sum() 등의 내장함수 사용 가능함"
   ]
  },
  {
   "cell_type": "markdown",
   "metadata": {},
   "source": [
    "1) addall(list) 함수 (리스트 내의 모든 정수를 더하는 함수로서 해답으로는 for ~ in 리터럴과 리스트 내포 방식으로 각각 제시하시오.)\n",
    "        * >>> addall([1])\n",
    "          1\n",
    "        * >>> addall([1, 2, 3, 4, 5, 6, 7, 8, 9])\n",
    "          45"
   ]
  },
  {
   "cell_type": "markdown",
   "metadata": {},
   "source": [
    "    * for ~ in 문을 이용한 코드 "
   ]
  },
  {
   "cell_type": "code",
   "execution_count": 34,
   "metadata": {},
   "outputs": [
    {
     "name": "stdout",
     "output_type": "stream",
     "text": [
      "1\n",
      "45\n"
     ]
    }
   ],
   "source": [
    "def addall(list):\n",
    "    s = 0\n",
    "    for x in range(len(list)):\n",
    "        s += list[x]\n",
    "    return s\n",
    "\n",
    "print(addall([1]))\n",
    "print(addall([1, 2, 3, 4, 5, 6, 7, 8, 9]))"
   ]
  },
  {
   "cell_type": "markdown",
   "metadata": {
    "collapsed": true
   },
   "source": [
    "for ~ in 문을 이용하여 리스트의 원소들을 합의 변수 s에 누적해서 더해나가는 방식으로 addall 함수를 만들었다. "
   ]
  },
  {
   "cell_type": "markdown",
   "metadata": {},
   "source": [
    "    * 리스트 내포를 이용한 코드"
   ]
  },
  {
   "cell_type": "code",
   "execution_count": 36,
   "metadata": {},
   "outputs": [
    {
     "name": "stdout",
     "output_type": "stream",
     "text": [
      "1\n",
      "45\n"
     ]
    }
   ],
   "source": [
    "def addall(list):\n",
    "    s = 0\n",
    "    s = sum([list[x] for x in range(len(list))])\n",
    "    return s\n",
    "\n",
    "print(addall([1]))\n",
    "print(addall([1, 2, 3, 4, 5, 6, 7, 8, 9]))"
   ]
  },
  {
   "cell_type": "markdown",
   "metadata": {
    "collapsed": true
   },
   "source": [
    "리스트 내포를 이용하여 뽑아낸 리스트의 원소들을 sum() 내장함수를 사용해서 더하는 방식으로 addall 함수를 만들었다."
   ]
  },
  {
   "cell_type": "markdown",
   "metadata": {},
   "source": [
    "2) addallodd(list) 함수 (리스트내의 모든 홀수를 더하는 함수로서 해답으로는 for ~ in 리터럴과 리스트 내포 방식으로 각각 제시하시오.)\n",
    "        * >>> addall([1])\n",
    "          1\n",
    "        * >>> addall([1, 2, 3, 4, 5, 6, 7, 8, 9])\n",
    "          25"
   ]
  },
  {
   "cell_type": "markdown",
   "metadata": {},
   "source": [
    "    * for ~ in 문을 이용한 코드 "
   ]
  },
  {
   "cell_type": "code",
   "execution_count": 40,
   "metadata": {},
   "outputs": [
    {
     "name": "stdout",
     "output_type": "stream",
     "text": [
      "1\n",
      "25\n"
     ]
    }
   ],
   "source": [
    "def addallodd(list):\n",
    "    odd_s = 0\n",
    "    for x in range(len(list)):\n",
    "        if(list[x] % 2 == 1):\n",
    "            odd_s = odd_s + list[x]\n",
    "    return odd_s\n",
    "\n",
    "print(addallodd([1]))\n",
    "print(addallodd([1, 2, 3, 4, 5, 6, 7, 8, 9]))"
   ]
  },
  {
   "cell_type": "markdown",
   "metadata": {
    "collapsed": true
   },
   "source": [
    "for ~ in 문을 이용하여 2로 나누었을 때 나머지가 1인(홀수인) 리스트의 원소들을 합의 변수 s에 누적해서 더해나가는 방식으로 addallodd 함수를 만들었다."
   ]
  },
  {
   "cell_type": "markdown",
   "metadata": {},
   "source": [
    "    * 리스트 내포를 이용한 코드"
   ]
  },
  {
   "cell_type": "code",
   "execution_count": 38,
   "metadata": {},
   "outputs": [
    {
     "name": "stdout",
     "output_type": "stream",
     "text": [
      "1\n",
      "25\n"
     ]
    }
   ],
   "source": [
    "def addallodd(list):\n",
    "    odd_s = 0\n",
    "    odd_s = sum([list[x] for x in range(len(list)) if(list[x] % 2 == 1)])\n",
    "    return odd_s\n",
    "\n",
    "print(addallodd([1]))\n",
    "print(addallodd([1, 2, 3, 4, 5, 6, 7, 8, 9]))"
   ]
  },
  {
   "cell_type": "markdown",
   "metadata": {
    "collapsed": true
   },
   "source": [
    "리스트 내포를 이용하여 뽑아낸 2로 나누었을 때 나머지가 1인(홀수인) 리스트의 원소들을 sum() 내장함수를 사용해서 더하는 방식으로 addallodd 함수를 만들었다."
   ]
  },
  {
   "cell_type": "markdown",
   "metadata": {},
   "source": [
    "### 6번 문제"
   ]
  },
  {
   "cell_type": "markdown",
   "metadata": {},
   "source": [
    "* 다음 코드를 보고 물음에 답하시오.\n",
    "    <pre>\n",
    "    L1 = [1, 2, 3]\n",
    "    L2 = [4, 5, 6]\n",
    "    d = {'low':L1, 'high':L2}\n",
    "    e = d\n",
    "    f = d.copy()\n",
    "    print(d)\n",
    "    print(e)\n",
    "    print(f)\n",
    "    print()\n",
    "    d['low'] = [10, 20, 30]\n",
    "    d['high'][1] = 500\n",
    "    print(d)\n",
    "    print(e)\n",
    "    print(f)</pre>"
   ]
  },
  {
   "cell_type": "code",
   "execution_count": 9,
   "metadata": {},
   "outputs": [
    {
     "name": "stdout",
     "output_type": "stream",
     "text": [
      "{'low': [1, 2, 3], 'high': [4, 5, 6]}\n",
      "{'low': [1, 2, 3], 'high': [4, 5, 6]}\n",
      "{'low': [1, 2, 3], 'high': [4, 5, 6]}\n",
      "\n",
      "{'low': [10, 20, 30], 'high': [4, 500, 6]}\n",
      "{'low': [10, 20, 30], 'high': [4, 500, 6]}\n",
      "{'low': [1, 2, 3], 'high': [4, 500, 6]}\n"
     ]
    }
   ],
   "source": [
    "L1 = [1, 2, 3]\n",
    "L2 = [4, 5, 6]\n",
    "d = {'low':L1, 'high':L2}\n",
    "e = d\n",
    "f = d.copy()\n",
    "print(d)\n",
    "print(e)\n",
    "print(f)\n",
    "print()\n",
    "d['low'] = [10, 20, 30]\n",
    "d['high'][1] = 500\n",
    "print(d)\n",
    "print(e)\n",
    "print(f)"
   ]
  },
  {
   "cell_type": "markdown",
   "metadata": {},
   "source": [
    "1) 위 코드의 수행 결과 d와 e는 항상 같은 결과를 출력한다. 그 이유는 무엇인가?"
   ]
  },
  {
   "cell_type": "markdown",
   "metadata": {
    "collapsed": true
   },
   "source": [
    "위 코드를 보면 e = d를 해 줌으로써 e와 d 둘이 같은 리스트를 가리키고 있게 해 준다. 따라서 만약 리스트 d에 변화를 주면 e도 같은 리스트를 가리키고 있으므로 같은 결과를 출력하게 되는 것이다."
   ]
  },
  {
   "cell_type": "markdown",
   "metadata": {},
   "source": [
    "2) 위 코드의 수행 결과 마지막 f의 내용은 다음과 같다. 이 때 'high' 키의 값 내용 중 500이 출력된 이유와 'low' 키의 값 내용 중 [1, 2, 3]이 출력된 이유를 설명하시오 ([hint]: shallow copy 관점에서 설명하시오.)\n",
    "    <pre>{'high': [4, 500, 6], 'low': [1, 2, 3]}</pre>"
   ]
  },
  {
   "cell_type": "markdown",
   "metadata": {
    "collapsed": true
   },
   "source": [
    "위 코드를 보면 f = d.copy()가 있다. 이는 shallow copy가 수행된 것으로, 사전 d를 복사하여 f 사전에 할당하는 것이다. 각각이 같은 리스트를 가리키는 1)과 달리 여기서는 별도의 사전객체가 생성된 것이므로 d의 원소를 바꾼다고 해도 f는 바뀌지 않는다. 그런데 d['high'][1] = 500은 f에도 적용되었다. 이는 d와 f의 'high'가 같은 리스트를 가리키는데 이 리스트 안의 원소를 바꾼 것이어서 그렇다. f의 'high'는 그대로 그 리스트를 가리키고 있으므로 f의 'high'를 출력하면 리스트가 바뀐대로 결과가 나오는 것이다."
   ]
  },
  {
   "cell_type": "markdown",
   "metadata": {},
   "source": [
    "### 7번 문제"
   ]
  },
  {
   "cell_type": "markdown",
   "metadata": {},
   "source": [
    "* 사전 d = {'one':1, 'two':2, 'three':3, 'four':4, 'five':5}가 주어졌을 때 다음 요구사항에 맞는 코드를 제시하시오\n",
    "    * [참고]: d.keys(), d.values()를 통해 리스트를 얻어낸 후 리스트가 지니고 있는 sort(cmp=None, key=None, reverse=False)함수를 활용하시오."
   ]
  },
  {
   "cell_type": "markdown",
   "metadata": {},
   "source": [
    "1) 키의 알파벳 오름차순 순서대로 튜플 (키, 값)을 차례대로 출력하시오."
   ]
  },
  {
   "cell_type": "code",
   "execution_count": 20,
   "metadata": {},
   "outputs": [
    {
     "name": "stdout",
     "output_type": "stream",
     "text": [
      "[('five', 5), ('four', 4), ('one', 1), ('three', 3), ('two', 2)]\n"
     ]
    }
   ],
   "source": [
    "d = {'one':1, 'two':2, 'three':3, 'four':4, 'five':5}\n",
    "items = d.items()\n",
    "\n",
    "i = sorted(items)\n",
    "print(i)"
   ]
  },
  {
   "cell_type": "markdown",
   "metadata": {
    "collapsed": true
   },
   "source": [
    "items 메소드로 (키, 값)의 리스트를 반환하여 이 리스트에 sorted 메소드를 사용하면 키의 알파벳 오름차순 순서대로 튜플을 정렬할 수 있다."
   ]
  },
  {
   "cell_type": "markdown",
   "metadata": {},
   "source": [
    "2) 키의 알파벳 내림차순 순서대로 튜플 (키, 값)을 차례대로 출력하시오."
   ]
  },
  {
   "cell_type": "code",
   "execution_count": 21,
   "metadata": {},
   "outputs": [
    {
     "name": "stdout",
     "output_type": "stream",
     "text": [
      "[('two', 2), ('three', 3), ('one', 1), ('four', 4), ('five', 5)]\n"
     ]
    }
   ],
   "source": [
    "d = {'one':1, 'two':2, 'three':3, 'four':4, 'five':5}\n",
    "items = d.items()\n",
    "\n",
    "i = sorted(items)\n",
    "i.reverse()\n",
    "print(i)"
   ]
  },
  {
   "cell_type": "markdown",
   "metadata": {
    "collapsed": true
   },
   "source": [
    "내림차순은 오름차순을 거꾸로 정렬한 것이므로 1)번의 과정과 오름차순 순서대로 튜플을 정렬하는 것까지 동일하게 한 뒤 이에 리스트를 원래의 순서에서 역순으로 정렬해주는 reverse 메소드를 사용하면 이 문제를 해결할 수 있다."
   ]
  },
  {
   "cell_type": "markdown",
   "metadata": {},
   "source": [
    "3) 값의 오름차순 순서대로 튜플 (키, 값)을 차례대로 출력하시오."
   ]
  },
  {
   "cell_type": "code",
   "execution_count": 7,
   "metadata": {},
   "outputs": [
    {
     "name": "stdout",
     "output_type": "stream",
     "text": [
      "(1, 'one')(2, 'two')(3, 'three')(4, 'four')(5, 'five')"
     ]
    }
   ],
   "source": [
    "d = {'one':1, 'two':2, 'three':3, 'four':4, 'five':5}\n",
    "\n",
    "v = d.values()\n",
    "\n",
    "a = sorted(v)\n",
    "for x in a:\n",
    "    for y in d:\n",
    "        if(d[y] == x):\n",
    "            print((x, y),end=\"\")"
   ]
  },
  {
   "cell_type": "markdown",
   "metadata": {},
   "source": [
    "values 메소드를 사용해 값들의 리스트를 반환한다. 그리고 이 리스트를 sorted 메소드를 사용해 오름차순으로 정렬한다. 그런데 튜플을 출력해야 하므로 이중 for문을 사용하여 (키, 값)이 출력될 수 있게 한다."
   ]
  },
  {
   "cell_type": "markdown",
   "metadata": {},
   "source": [
    "4) 값의 내림차순 순서대로 튜플 (키, 값)을 차례대로 출력하시오."
   ]
  },
  {
   "cell_type": "code",
   "execution_count": 8,
   "metadata": {},
   "outputs": [
    {
     "name": "stdout",
     "output_type": "stream",
     "text": [
      "(5, 'five')(4, 'four')(3, 'three')(2, 'two')(1, 'one')"
     ]
    }
   ],
   "source": [
    "d = {'one':1, 'two':2, 'three':3, 'four':4, 'five':5}\n",
    "\n",
    "v = d.values()\n",
    "\n",
    "a = sorted(v, reverse = True)\n",
    "for x in a:\n",
    "    for y in d:\n",
    "        if(d[y] == x):\n",
    "            print((x, y),end=\"\")"
   ]
  },
  {
   "cell_type": "markdown",
   "metadata": {},
   "source": [
    "4)는 3)과 오름차순이냐 내림차순이냐의 차이점밖에 없으므로 3)의 과정과 동일하게 하되 여기서는 내림차순 순서대로 튜플을 출력하기 위해 sorted(v, reverse = True)를 해준다. "
   ]
  },
  {
   "cell_type": "markdown",
   "metadata": {},
   "source": [
    "### ACM-ICPC 문제 1152번"
   ]
  },
  {
   "cell_type": "markdown",
   "metadata": {},
   "source": [
    "* 영어 대소문자와 띄어쓰기만으로 이루어진 문장이 주어진다. 이 문장에는 몇 개의 단어가 있을까? 이를 구하는 프로그램을 작성하시오. 단, 단어는 띄어쓰기 하나로 구분된다고 생각한다.\n",
    "    * 입력 : 첫 줄에 영어 대소문자와 띄어쓰기로 이루어진 문장이 주어진다. 이 문장의 길이는 1,000,000을 넘지 않는다.\n",
    "    * 출력 : 첫째 줄에 단어의 개수를 출력한다."
   ]
  },
  {
   "cell_type": "code",
   "execution_count": 43,
   "metadata": {},
   "outputs": [
    {
     "name": "stdout",
     "output_type": "stream",
     "text": [
      "The Curious Case of Benjamin Button\n",
      "6\n"
     ]
    }
   ],
   "source": [
    "word = input().split()\n",
    "print(len(word))"
   ]
  },
  {
   "cell_type": "markdown",
   "metadata": {
    "collapsed": true
   },
   "source": [
    "![image description](https://github.com/Sonchaeyoun/2017-Script-Programming/blob/master/image/1152.PNG?raw=true)"
   ]
  },
  {
   "cell_type": "markdown",
   "metadata": {},
   "source": [
    "사용자로부터 입력받은 문장을 split 메소드를 이용해 공백으로 분리하여 단어 리스트를 얻는다. 그리고 이 리스트의 길이를 len 메소드를 이용하여 구하면 이 문제를 풀 수 있다."
   ]
  },
  {
   "cell_type": "markdown",
   "metadata": {},
   "source": [
    "### [Incremental Project] "
   ]
  },
  {
   "cell_type": "markdown",
   "metadata": {},
   "source": [
    "* 이전 Assignment 2의 마지막 문제는 웹 URL로 지정된 웹페이지를 문자열로 가져와 모든 HTML 태그 및 CSS와 Javascript를 제외한 순수 텍스트를 얻어내고 그 안에 존재하는 단어를 추출하고 단어들의 총 개수를 출력하는 프로그램을 작성하는 것이었다. 이번에는 그 마지막 숙제를 그대로 확장하여 웹 URL로 지정된 웹페이지 내 순수 텍스트 안에 존재하는 각 단어들에 대해 다음 요구사항 대로 출력하는 프로그램을 작성하시오.\n",
    "    * 요구사항 1. 순수 텍스트 안에 존재하는 단어들에 대해 string 모듈을 활용하여 모든 punctuation (구두문자)를 완벽히 제거하시오.\n",
    "        * 예: ['world!', ':', '+hello+', '~python$$$', '=', 'world'] ---> ['world', 'hello', 'python', 'world']\n",
    "        * 모든 punctuation을 확인하는 방법은 아래와 같다.\n",
    "        <pre>\n",
    "            import string\n",
    "            print(string.punctuation)</pre>\n",
    "    * 요구사항 2. 만약 punctuation (구두문자)를 제거한 이후 공백으로 판명되는 단어들은 해당 단어 리스트에서 제거하시오.\n",
    "        * 예: ['컴퓨터공학부!', '---?', '%지향~', '...'] ---> ['컴퓨터공학부', '지향']\n",
    "    * 요구사항 3. 각 단어들의 출현빈도를 사전형태로 저장하여 출력하시오.\n",
    "        * 예: ['world', 'hello', 'python', 'world', '컴퓨터공학부', '지향'] ---> {'world': 2, 'hello': 1, 'python': 1, '컴퓨터공학부': 1, '지향': 1}\n",
    "    * 요구사항 4. 다음 3개의 사이트에 대한 결과를 출력하시오.\n",
    "        * http://www.naver.com\n",
    "        * http://www.daum.net\n",
    "        * http://www.nytimes.com"
   ]
  },
  {
   "cell_type": "code",
   "execution_count": 4,
   "metadata": {},
   "outputs": [
    {
     "name": "stdout",
     "output_type": "stream",
     "text": [
      "{'var': 8, 'nsc': 1, 'navertopv3': 1, 'documentdomain': 1, 'navercom': 1, 'jindoAll': 1, 'httpsspstaticnetpm2jscjindov171025js': 1, 'if': 5, 'windowconsole': 1, 'windowconsolewindowconsolelogfunction': 1, 'isLogin': 1, 'false': 4, 'function': 3, 'refreshLcsetc': 1, 'etc': 4, 'ifdocumentcookieindexOfnrefreshx1': 1, '1': 11, 'etcmrf1': 1, 'else': 1, 'etcpanbokreturn': 1, 'lcsdorefreshLcs': 1, 'NAVER': 3, '뉴스스탠드': 2, '바로가기': 7, '주제별캐스트': 1, '타임스퀘어': 2, '쇼핑캐스트': 2, '로그인': 4, '네이버': 8, '네이버를': 1, '시작페이지로': 1, '쥬니어네이버': 1, '해피빈': 1, '검색': 2, '통합검색': 1, '블로그': 2, '카페': 2, '카페명': 1, '카페글': 1, '지식iN': 1, '뉴스': 3, '사이트': 2, '카테고리': 1, '영화': 4, '웹문서': 1, '사전': 2, '백과사전': 1, '영어사전': 1, '영영사전': 1, '국어사전': 1, '일본어사전': 1, '한자사전': 1, '용어사전': 1, '책': 3, '음악': 1, '전문자료': 1, '쇼핑': 2, '지역': 2, '동영상': 1, '이미지': 1, '내PC': 1, '자동차': 2, '게임': 2, '건강': 2, '인물': 1, '긍정부정검색': 1, '자동완성': 18, '펼치기': 5, '한글': 1, '입력기': 1, '생각한대로': 1, '검색해': 1, '보세요': 2, 'Beta': 1, 'txt': 5, '시간대와': 1, '관심사에': 2, '맞춘': 1, '컨텍스트': 3, '도움말': 6, '보기': 21, 'ON': 1, '선택됨': 1, 'OFF': 1, '동일한': 1, '시간대연령남녀별': 1, '사용자': 1, '그룹의': 1, '맞춰': 1, '자동완성을': 1, '제공합니다': 1, '자세히': 2, 'ONOFF설정은': 1, '해당': 1, '기기브라우저에': 1, '저장됩니다': 1, '레이어': 1, '닫기': 3, '신고': 4, '검색어저장': 6, '켜기': 5, '끄기': 7, '기능을': 5, '다시': 4, '켤': 4, '때는': 4, '을': 4, '클릭하세요': 4, '현재': 1, '사용하고': 1, '계십니다': 1, '기능이': 5, '활성화되었습니다': 1, '꺼져': 3, '있습니다': 5, '최근검색어': 2, '내': 9, '검색어': 7, '등록': 3, 'date': 1, '삭제': 4, 'intxt': 2, '내역이': 1, '없습니다': 3, '저장': 2, '해제': 1, '설정된': 1, '검색어가': 1, '최근검색어에서': 1, '를': 3, '선택하여': 1, '자주': 1, '찾는': 1, '검색어를': 2, '검색어로': 1, '저장해': 1, '알림': 1, '공용': 1, 'PC에서는': 1, '개인정보': 1, '보호를': 1, '위하여': 1, '반드시': 1, '로그아웃을': 1, '해': 1, '주세요': 1, '기록': 3, '전체': 5, '완료': 1, '검색어는': 1, '최대': 1, '10': 7, '개': 1, '까지': 1, '저장할': 1, '수': 2, '추가하시려면': 1, '기존': 1, '지워주세요': 1, '제19대': 1, '대통령선거': 1, '후보에': 1, '대해': 1, '5월': 1, '9일': 1, '선거일까지': 1, '제공되지': 1, '않습니다': 1, '자세히보기': 1, 'image7': 1, '6': 6, '12': 4, '7': 6, '8': 6, '9': 6, '11': 5, '5회차': 1, '13': 3, '14': 3, 'money': 1, '원': 1, '기온': 2, '℃': 2, '5': 6, 'displaylink': 1, '사이트로': 1, '바로': 2, '이동': 3, 'query': 1, 'intend': 1, '바로이동': 1, 'mismatchbefore': 2, 'match': 2, 'mismatchafter': 2, '메일': 1, '지식인': 1, '네이버페이': 1, '네이버TV': 1, '증권금융': 1, '부동산': 1, '지도': 1, '뮤직': 2, '만화': 1, '웹툰': 2, '더보기': 1, '실시간': 2, '급상승': 3, '남태현': 2, '2': 9, '손담비': 2, '3': 9, '구리엘': 2, '4': 9, '이건희': 2, '롱패딩': 2, '홍종학': 2, '국회의사중계시스템': 2, '윤송이': 2, '월드시리즈': 2, '징비록': 2, '할로윈데이': 2, '공인중개사': 2, '수능': 2, '류성룡': 2, '15': 2, '용인일가족살인사건': 2, '16': 2, '오거돈': 2, '17': 2, '황금빛내인생': 2, '18': 2, '이영학': 3, '딸': 3, '19': 2, '손나은': 2, '20': 2, '서울날씨': 2, 'DataLab': 1, '트래킹': 1, '110위': 1, '1120위': 1, '데이터랩': 20, '그래프': 20, '20171030': 1, '102700': 1, '기준': 1, '연합뉴스': 1, '檢': 1, '방송장악': 1, '의혹': 1, '김재철': 1, 'MBC': 1, '前사장·방문진': 1, '등': 1, '압수수색': 1, '한국당': 1, '국감': 1, '보이콧': 1, '철회…나흘': 1, '만에': 1, '국회': 1, '정상화': 1, '국정원': 1, '수사방해': 1, '장호중': 1, '15시간': 1, '조사…영장': 1, '검토': 1, '두': 1, '번째': 1, '구속영장': 1, '심사…묵묵부답': 1, '이정협·이명주': 1, '신태용호': 1, '첫': 1, '승선…이동국': 1, '제외': 1, '공항': 1, '폭발물처리요원': 1, '직접': 1, '고용': 1, '소송서': 1, '승소': 1, '코스피': 2, '2510선': 1, '돌파…美훈풍·유가상승에': 1, '또': 1, '최고치': 1, '北': 1, '우주개발은': 1, '자주적': 1, '권리…위성': 1, '더': 1, '많이': 1, '쏠': 1, '것': 1, '軍': 1, '5·18': 1, '비밀문서': 1, '2천여쪽': 1, '특조위': 1, '제출': 1, '文대통령': 1, '국정지지율': 1, '672…지난주보다': 1, '06p': 1, '하락': 1, '네이버뉴스': 1, '연예': 1, '스포츠': 2, '경제': 1, '랭킹': 1, '언론사': 5, 'MY': 1, '이미지형': 1, '리스트형': 1, '설정': 3, '이전': 9, '페이지': 2, '다음': 9, '목록': 3, '구독': 19, '해지': 18, '기사보기': 18, '종합경제': 1, '방송통신': 1, 'IT': 1, '영자지': 1, '스포츠연예': 1, '매거진전문지': 1, '설정한': 3, '언론사가': 1, '설정에서': 1, 'MY언론사를': 1, '추가하면': 1, '언론사의': 1, '기사들을': 1, '홈에서': 1, '보실': 1, '추가': 1, 'Sign': 3, 'in': 2, 'Connect': 1, 'with': 1, 'people': 1, 'up': 1, 'Forgot': 1, 'Username': 1, 'or': 1, 'Password': 1, '1030': 1, '월': 1, '증시': 1, '앞의': 1, '목록으로': 2, '뒤의': 1, '250511': 1, '848': 1, '상승': 2, '코스닥': 1, '69095': 1, '098': 1, '증권': 1, '오늘의': 1, '주요': 1, '시황뉴스': 1, '주제형': 1, '캐스트': 1, '관심': 4, '주제': 9, '선택': 1, '리빙': 1, '푸드': 1, '패션뷰티': 1, '맘·키즈': 1, 'TV연예': 1, '책문화': 2, '함께N': 1, '여행': 1, '디자인': 1, '경제M': 1, 'JOB': 1, '과학': 1, '중국': 1, '비즈니스': 3, 'FARM': 1, '스쿨잼': 1, '공연전시': 1, '법률': 1, '동물공감': 1, '연애·결혼': 1, '테크': 1, '열기': 1, 'name': 4, 'isNewPanel': 1, 'NEW': 1, '관심주제로': 1, '설정하시겠습니까': 1, '확인': 3, '취소': 3, '모바일에서': 1, '가져오시겠습니까': 1, '관심주제': 1, '모바일': 2, '가져오기': 2, '후': 2, '사용': 2, '가능합니다': 2, '초기화': 1, '전체선택': 1, '지식인의서재': 1, '베스트셀러': 22, '책문화블로그': 1, 'e북': 1, '베스트': 1, '저자': 1, '생중계': 1, '지식백과': 3, '열린연단': 1, '국보': 1, '신라': 1, '금관': 1, '아직': 1, '풀지': 1, '못한': 1, '수수께끼': 1, '10월': 7, '4주': 7, '교보문고': 1, '언어의': 7, '온도': 7, '이기주': 9, '남아': 5, '있는': 5, '나날': 5, '가즈오': 5, '이시구로': 5, '82년생': 7, '김지영': 7, '조남주': 7, '넛지': 2, '리처드': 2, '탈러': 2, '예스24': 1, '엄마': 1, '반성문': 1, '이유남': 1, '알라딘': 1, '일단': 1, '오늘은': 1, '나한테': 1, '잘합': 1, '도대체': 1, '인터파크': 1, '도서': 1, '반디앤루니스': 1, '말의': 2, '품격': 2, '영풍문고': 1, '나는': 1, '나로': 1, '살기로': 1, '했다': 1, '김수현': 1, '도서11번가': 1, 'tvN': 1, '프리미엄': 1, '특강쇼': 1, '어쩌': 1, '어쩌다': 1, '어른': 1, '제작팀': 1, '좀비고등학교': 1, '코믹스nbsp3': 1, '배아이': 1, '아무튼': 4, '피트니스': 1, '오늘도': 1, '지방을': 1, '태워볼까요': 1, '시리즈': 2, '특별': 2, '연재': 2, '서재': 2, '삶을': 1, '견디는': 1, '로망': 1, '수상작': 2, '5권': 2, 'dataexpsStartYmdt20171030': 5, '0557': 1, 'dataexpsEndYmdt20991231': 5, '2359': 5, 'datafixedSeq0': 5, 'datafixedExpsStartYmdt': 5, 'datafixedExpsEndYmdt': 5, '그림책의': 1, '노벨상': 1, '칼데콧': 1, '아르테': 1, '그뤠잇한': 2, '소비': 2, '위한': 2, '팁': 2, '0556': 1, '과소비를': 1, '하는': 1, '이유는': 1, '여자들에게': 1, '문제는': 1, '돈이다': 1, '출간전연재': 2, '1회': 1, '공동체': 1, '규칙과': 1, '예의를': 1, '중시하는': 1, '가정': 1, '교육': 1, '독일': 1, '엄마의': 1, '힘': 1, '7회': 1, '욕망과': 1, '음모의': 1, '도가니': 1, '척주': 1, '아홉번째': 1, '파도': 1, '잘': 1, '듣는': 1, '것만으로도': 1, '인간관계가': 1, '좋아진다': 1, '말하지': 1, '않고': 1, '이기는': 1, '법': 1, '디톡스가': 1, '필요하다고': 1, '몸에서': 1, '보내는': 1, '신호': 1, '주말': 1, '클렌즈': 1, '인증': 2, '이벤트': 4, '0551': 1, '김영사': 1, '오디오클립': 1, '청취자': 1, '캔들': 1, '텀블러': 1, '스타벅스': 1, '11명': 1, '믿었던': 2, '호랑이와': 2, '곰의': 2, '후손': 2, '0550': 1, '모든': 1, '곳에': 1, '정령이': 1, '있다고': 1, '오로치인': 1, '글자와': 2, '그림의': 2, '합': 2, '문자도': 2, '0549': 1, '현대적인': 1, '흐름을': 1, '담은': 1, '아름다운': 1, '우리그림': 1, 'httpscastboxshoppingnavercomshopboxmainnhnsvglesstrue': 1, '제2회': 1, '소상공인의날': 1, '우리동네': 1, '소상공인': 1, '축제': 1, '전국의': 1, '작은가게를': 1, '응원하고': 1, '다양한': 1, '혜택도': 1, '누리세요': 1, '중소벤처일자리박람회': 1, '우수기업': 1, '현장면접': 1, '기회': 1, '면접': 1, '취업컨설팅': 1, '코엑스에서': 1, '취업득템': 1, '공지사항': 1, '주이스트소프트': 1, '계정': 1, '침해': 1, '대상자에': 1, '대한': 1, '안내': 2, '서비스': 1, '전체보기': 1, '프로젝트': 2, '꽃': 2, '인공지능': 1, '스피커': 2, '프렌즈': 1, '클로바': 1, 'AI': 1, 'Creators': 1, '크리에이터': 1, '스몰비즈니스': 1, 'Partners': 1, '파트너': 1, '·': 1, '광고': 1, '스토어': 1, '개설': 1, '지역업체': 1, 'Developers': 1, '개발자센터': 1, '오픈': 1, 'API': 1, '오픈소스': 1, 'D2': 1, '랩스': 1, '정책': 2, '및': 1, '약관': 1, '회사소개': 1, '인재채용': 1, '제휴제안': 1, '이용약관': 1, '개인정보처리방침': 1, '청소년보호정책': 1, '고객센터': 1, 'ⓒ': 1, 'Corp': 1, 'svr': 2, 'svt': 1, '20171030102718': 1, 'aPanelListAll': 2, 'nmainJS': 1, 'httpsspstaticnetpm2jscnmainv171025js': 1, 'sThemecastAdScriptUrl': 1, 'httpssslpstaticnettvetalibsassetsjspcmainminpcvetacoreminjs20170914': 1, 'nmainJSpushsThemecastAdScriptUrl': 1, 'loadJS': 1, 'jindoLazyLoadingloadnmainJS': 1, 'JEagleEyeClientsetEnabletrue': 1, 'iftypeof': 1, 'initPage': 2, 'undefined': 1, 'try': 1, 'openDatenulladMapnullcodeLIVINGHOMEname리빙csslivinghomenclicklifopenDatenulladMapnullcodeLIVINGname푸드csslivingnclickfodopenDatenulladMapnullcodeSPORTSname스포츠csssportsnclickspoopenDatenulladMapnullcodeCARGAMEname자동차csscargamenclickautopenDatenulladMapnullcodeBEAUTYname패션뷰티cssbeautynclickbtyopenDatenulladMapnullcodeMOMKIDSname맘·키즈cssmomkidsnclickmomopenDatenulladMapnullcodeHEALTHname건강csshealthnclickheaopenDatenulladMapnullcodeBBOOMname웹툰cssbboomnclickwebopenDatenulladMapnullcodeGAMEAPPname게임cssgameappnclickgamopenDatenulladMapnullcodeVIDEOnameTV연예cssvideonclicktvcopenDatenulladMapnullcodeMUSICname뮤직cssmusicnclickmucopenDatenulladMapnullcodeMOVIEname영화cssmovienclickmovopenDatenulladMapnullcodeCULTUREname책문화cssculturenclickbokopenDatenulladMapnullcodeWITHname함께NcsswithnclickpubopenDatenulladMapnullcodeTRAVELname여행csstravelnclicktraopenDatenulladMapnullcodeDESIGNname디자인cssdesignnclickdesopenDatenulladMapnullcodeFINANCEname경제McssfinancenclickfinopenDatenulladMapnullcodeJOBnameJOBcssjobnclickjobopenDatenulladMapnullcodeSCIENCEname과학csssciencenclicksciopenDatenulladMapnullcodeCHINAname중국csschinanclickchnopenDatenulladMapnullcodeBUSINESSname비즈니스cssbusinessnclickbsnopenDatenulladMapnullcodeFARMnameFARMcssfarmnclickfaropenDatenulladMapnullcodeSCHOOLname스쿨잼cssschoolnclicksclopenDate20170622adMapnullcodeSHOWname공연전시cssshownclicksowopenDate20170803adMapnullcodeLAWname법률csslawnclicklawopenDate20170824adMapnullcodeANIMALname동물공감cssanimalnclickaniopenDate20170831adMapnullcodeWEDDINGname연애·결혼cssweddingnclickwedopenDate20170921adMapnullcodeITTECHname테크cssittechnclicktec': 1, 'catche': 1, 'JEagleEyeClientsendErrorinvalid': 1, 'paneljson': 1, 'navermainPageRefreshinit': 1, 'navermainPanelinitaPanelListAll': 1, 'navermainLoginit': 1, 'navermainServiceNaviinit': 1, 'navermainThemecastNaviinit': 1, 'bFlick': 1, 'sAdList': 1, 'headermsgsuccesscode0bodyadScriptListadScriptPCMain1httpshttpssslpstaticnettvetalibsassetsjspcmainminpcvetacoreminjshttphttpssslpstaticnettvetalibsassetsjspcmainminpcvetacoreminjsadListmenuBUSINESSadTypesingleDommultiDomAdUrlmultiDomUnitinfoListadposId1000084singleDomAdUrlhttpnvvetanavercomfxshowparamdadomidpmainbusiness00tbBUSINESS1unitSU10204typepositionrelpositionIndex0subjectcontentsdomnullmenuDESIGNadTypesingleDommultiDomAdUrlmultiDomUnitinfoListadposId1000090singleDomAdUrlhttpnvvetanavercomfxshowparamdadomidpmaindesign00tbDESIGN1unitSU10205typepositionrelpositionIndex0subjectcontentsdomnullmenuJOBadTypesingleDommultiDomAdUrlmultiDomUnitinfoListadposId1000088singleDomAdUrlhttpnvvetanavercomfxshowparamdadomidpmainjob00tbJOB1unitSU10200typepositionrelpositionIndex0subjectcontentsdomnullmenuMOMKIDSadTypesingleDommultiDomAdUrlmultiDomUnitinfoListadposId1000089singleDomAdUrlhttpnvvetanavercomfxshowparamdadomidpmainmomkids00tbMOMKIDS1unitSU10226typepositionrelpositionIndex0subjectcontentsdomnullmenuMOVIEadTypesingleDommultiDomAdUrlmultiDomUnitinfoListadposId1000087singleDomAdUrlhttpnvvetanavercomfxshowparamdadomidpmainmovie00tbMOVIE1unitSU10199typepositionrelpositionIndex0subjectcontentsdomnullmenuSCHOOLadTypesingleDommultiDomAdUrlmultiDomUnitinfoListadposId1000085singleDomAdUrlhttpnvvetanavercomfxshowparamdadomidpmainschool01tbSCHOOL1unitSU10210typepositionrelpositionIndex0subjectcontentsdomnullmenuTRAVELadTypesingleDommultiDomAdUrlmultiDomUnitinfoListadposId1000086singleDomAdUrlhttpnvvetanavercomfxshowparamdadomidpmaintravel00tbTRAVEL1unitSU10198typepositionrelpositionIndex0subjectcontentsdomnull': 1, 'navermainCenterBannerinit': 1, 'newSmartSearch': 1, 'new': 3, 'navermainNewsstand': 1, 'rcode': 1, '02173102': 1, 'newspaperURL': 1, 'newspapernavercom': 1, 'newsStandURL': 1, 'newsstandnavercom': 1, 'userInfoURL': 1, 'userinfowwwnavercom': 1, 'newsCastInfo': 1, 'newsStandInfo': 1, 'headlineList': 1, 'pid': 1, '002003005006008009011013014015016018020021022023024025028029030031032038040042044047050052055056057073075076079081082083087088089092108109117120122123135138139140143144213214215241243277293296308310311312314326327328329330331332333334335336337338339340344345346354355356361362363364366368374376384385386387388389390391396404410416417421422440447536539901902903904905906907908909910911912913914915916917920921922923924925926927928930931932933934935936937938939940941942943944945946947948949': 1, 'amigo': 1, 'invalid': 1, 'pressCategory': 1, 'ct1pid032name경향신문imghttpsspstaticnetstaticnewsstandup20170424nsd14372435pngcatect2amigoNviewerYtodayNlocalnullpid005name국민일보imghttpsspstaticnetstaticnewsstandup20170424nsd1438916pngcatect2amigoNviewerYtodayNlocalnullpid079name노컷뉴스imghttpsspstaticnetstaticnewsstandup20170424nsd143958887pngcatect2amigoNviewerYtodayNlocalnullpid327name뉴데일리imghttpsspstaticnetstaticnewsstandup20170424nsd144037935pngcatect2amigoNviewerYtodayNlocalnullpid003name뉴시스imghttpsspstaticnetstaticnewsstandup20170424nsd14449981pngcatect3amigoNviewerYtodayNlocalnullpid368name데일리안imghttpsspstaticnetstaticnewsstandup20170424nsd14463367pngcatect2amigoNviewerYtodayNlocalnullpid020name동아일보imghttpsspstaticnetstaticnewsstandup20170424nsd14479875pngcatect2amigoNviewerYtodayNlocalnullpid029name디지털타임스imghttpsspstaticnetstaticnewsstandup20170424nsd144824356pngcatect4amigoNviewerYtodayNlocalnullpid117name마이데일리imghttpsspstaticnetstaticnewsstandup20170424nsd144944309pngcatect6amigoNviewerYtodayNlocalnullpid009name매일경제imghttpsspstaticnetstaticnewsstandup20170424nsd145032565pngcatect2amigoNviewerYtodayNlocalnullpid008name머니투데이imghttpsspstaticnetstaticnewsstandup20170424nsd145214517pngcatect2amigoNviewerYtodayNlocalnullpid021name문화일보imghttpsspstaticnetstaticnewsstandup20170424nsd19245981pngcatect2amigoNviewerYtodayNlocalnullpid006name미디어오늘imghttpsspstaticnetstaticnewsstandup20170424nsd145346617pngcatect2amigoNviewerYtodayNlocalnullpid293name블로터imghttpsspstaticnetstaticnewsstandup20170424nsd145534698pngcatect4amigoNviewerYtodayNlocalnullpid011name서울경제imghttpsspstaticnetstaticnewsstandup20170424nsd145718601pngcatect2amigoNviewerYtodayNlocalnullpid081name서울신문imghttpsspstaticnetstaticnewsstandup20170424nsd145738195pngcatect2amigoNviewerYtodayNlocalnullpid022name세계일보imghttpsspstaticnetstaticnewsstandup20170424nsd145813557pngcatect2amigoNviewerYtodayNlocalnullpid314name스포츠동아imghttpsspstaticnetstaticnewsstandup20170424nsd145951763pngcatect6amigoNviewerYtodayNlocalnullpid076name스포츠조선imghttpsspstaticnetstaticnewsstandup20170424nsd183553864pngcatect6amigoNviewerYtodayNlocalnullpid139name스포탈코리아imghttpsspstaticnetstaticnewsstandup20170424nsd151840663pngcatect6amigoNviewerYtodayNlocalnullpid277name아시아경제imghttpsspstaticnetstaticnewsstandup20170424nsd153432228pngcatect2amigoNviewerYtodayNlocalnullpid031name아이뉴스24imghttpsspstaticnetstaticnewsstandup20170424nsd153955864pngcatect4amigoNviewerYtodayNlocalnullpid047name오마이뉴스imghttpsspstaticnetstaticnewsstandup20170424nsd154314463pngcatect2amigoNviewerYtodayNlocalnullpid018name이데일리imghttpsspstaticnetstaticnewsstandup20170424nsd154426359pngcatect2amigoNviewerYtodayNlocalnullpid241name일간스포츠imghttpsspstaticnetstaticnewsstandup20170424nsd154619739pngcatect6amigoNviewerYtodayNlocalnullpid030name전자신문imghttpsspstaticnetstaticnewsstandup20170424nsd162528724pngcatect4amigoNviewerYtodayNlocalnullpid366name조선비즈imghttpsspstaticnetstaticnewsstandup20170424nsd162659528pngcatect2amigoNviewerYtodayNlocalnullpid023name조선일보imghttpsspstaticnetstaticnewsstandup20170424nsd162718792pngcatect2amigoNviewerYtodayNlocalnullpid330name중앙데일리imghttpsspstaticnetstaticnewsstandup20170424nsd162959945pngcatect5amigoNviewerYtodayNlocalnullpid025name중앙일보imghttpsspstaticnetstaticnewsstandup20170424nsd164240664pngcatect2amigoNviewerYtodayNlocalnullpid092name지디넷코리아imghttpsspstaticnetstaticnewsstandup20170424nsd16425834pngcatect4amigoNviewerYtodayNlocalnullpid376name지지통신imghttpsspstaticnetstaticnewsstandup20170424nsd16432873pngcatect3amigoNviewerYtodayNlocalnullpid040name코리아타임스imghttpsspstaticnetstaticnewsstandup20170424nsd1729401pngcatect5amigoNviewerYtodayNlocalnullpid044name코리아헤럴드imghttpsspstaticnetstaticnewsstandup20170424nsd17341942pngcatect5amigoNviewerYtodayNlocalnullpid014name파이낸셜뉴스imghttpsspstaticnetstaticnewsstandup20170424nsd172557496pngcatect2amigoNviewerYtodayNlocalnullpid002name프레시안imghttpsspstaticnetstaticnewsstandup20170424nsd172615885pngcatect2amigoNviewerYtodayNlocalnullpid028name한겨레imghttpsspstaticnetstaticnewsstandup20170424nsd17263596pngcatect2amigoNviewerYtodayNlocalnullpid015name한국경제imghttpsspstaticnetstaticnewsstandup20170424nsd172736175pngcatect2amigoNviewerYtodayNlocalnullpid215name한국경제TVimghttpsspstaticnetstaticnewsstandup20170424nsd172755139pngcatect3amigoNviewerYtodayNlocalnullpid038name한국일보imghttpsspstaticnetstaticnewsstandup20170424nsd172837200pngcatect2amigoNviewerYtodayNlocalnullpid016name헤럴드경제imghttpsspstaticnetstaticnewsstandup20170424nsd172855569pngcatect2amigoNviewerYtodayNlocalnullpid056nameKBSimghttpsspstaticnetstaticnewsstandup20170424nsd173124306pngcatect3amigoNviewerYtodayNlocalnullpid326nameKBS': 1, 'Worldimghttpsspstaticnetstaticnewsstandup20170424nsd173138949pngcatect5amigoNviewerYtodayNlocalnullpid214nameMBCimghttpsspstaticnetstaticnewsstandup20170424nsd17324940pngcatect3amigoNviewerYtodayNlocalnullpid057nameMBNimghttpsspstaticnetstaticnewsstandup20170424nsd173223533pngcatect3amigoNviewerYtodayNlocalnullpid109nameOSENimghttpsspstaticnetstaticnewsstandup20170424nsd17338859pngcatect6amigoNviewerYtodayNlocalnullpid055nameSBSimghttpsspstaticnetstaticnewsstandup20170424nsd173335676pngcatect3amigoNviewerYtodayNlocalnullpid052nameYTNimghttpsspstaticnetstaticnewsstandup20170424nsd173559874pngcatect3amigoNviewerYtodayNlocalnullct2pid032name경향신문imghttpsspstaticnetstaticnewsstandup20170424nsd14372435pngcatect2amigoNviewerYtodayNlocalnullpid005name국민일보imghttpsspstaticnetstaticnewsstandup20170424nsd1438916pngcatect2amigoNviewerYtodayNlocalnullpid944name나우뉴스imghttpsspstaticnetstaticnewsstandup20170424nsd14392079pngcatect2amigoNviewerYtodayNlocalnullpid079name노컷뉴스imghttpsspstaticnetstaticnewsstandup20170424nsd143958887pngcatect2amigoNviewerYtodayNlocalnullpid327name뉴데일리imghttpsspstaticnetstaticnewsstandup20170424nsd144037935pngcatect2amigoNviewerYtodayNlocalnullpid930name뉴스타파imghttpsspstaticnetstaticnewsstandup20170424nsd144152433pngcatect2amigoNviewerYtodayNlocalnullpid913name뉴스토마토imghttpsspstaticnetstaticnewsstandup20170424nsd14431117pngcatect2amigoNviewerYtodayNlocalnullpid914name뉴스핌imghttpsspstaticnetstaticnewsstandup20170613nsd173430698pngcatect2amigoNviewerYtodayNlocalnullpid536name더팩트imghttpsspstaticnetstaticnewsstandup20170424nsd144543120pngcatect2amigoNviewerYtodayNlocalnullpid368name데일리안imghttpsspstaticnetstaticnewsstandup20170424nsd14463367pngcatect2amigoNviewerYtodayNlocalnullpid020name동아일보imghttpsspstaticnetstaticnewsstandup20170424nsd14479875pngcatect2amigoNviewerYtodayNlocalnullpid009name매일경제imghttpsspstaticnetstaticnewsstandup20170424nsd145032565pngcatect2amigoNviewerYtodayNlocalnullpid008name머니투데이imghttpsspstaticnetstaticnewsstandup20170424nsd145214517pngcatect2amigoNviewerYtodayNlocalnullpid021name문화일보imghttpsspstaticnetstaticnewsstandup20170424nsd19245981pngcatect2amigoNviewerYtodayNlocalnullpid006name미디어오늘imghttpsspstaticnetstaticnewsstandup20170424nsd145346617pngcatect2amigoNviewerYtodayNlocalnullpid931name민중의소리imghttpsspstaticnetstaticnewsstandup20170424nsd14546867pngcatect2amigoNviewerYtodayNlocalnullpid939name브릿지경제imghttpsspstaticnetstaticnewsstandup20170424nsd145512265pngcatect2amigoNviewerYtodayNlocalnullpid943name비즈니스워치imghttpsspstaticnetstaticnewsstandup20170424nsd145553365pngcatect2amigoNviewerYtodayNlocalnullpid942name비즈니스포스트imghttpsspstaticnetstaticnewsstandup20170424nsd145630550pngcatect2amigoNviewerYtodayNlocalnullpid011name서울경제imghttpsspstaticnetstaticnewsstandup20170424nsd145718601pngcatect2amigoNviewerYtodayNlocalnullpid081name서울신문imghttpsspstaticnetstaticnewsstandup20170424nsd145738195pngcatect2amigoNviewerYtodayNlocalnullpid022name세계일보imghttpsspstaticnetstaticnewsstandup20170424nsd145813557pngcatect2amigoNviewerYtodayNlocalnullpid277name아시아경제imghttpsspstaticnetstaticnewsstandup20170424nsd153432228pngcatect2amigoNviewerYtodayNlocalnullpid920name아시아투데이imghttpsspstaticnetstaticnewsstandup20170424nsd153458161pngcatect2amigoNviewerYtodayNlocalnullpid921name아주경제imghttpsspstaticnetstaticnewsstandup20170424nsd154016764pngcatect2amigoNviewerYtodayNlocalnullpid013name연합인포맥스imghttpsspstaticnetstaticnewsstandup20170424nsd154238686pngcatect2amigoNviewerYtodayNlocalnullpid047name오마이뉴스imghttpsspstaticnetstaticnewsstandup20170424nsd154314463pngcatect2amigoNviewerYtodayNlocalnullpid539name위키트리imghttpsspstaticnetstaticnewsstandup20170424nsd15444343pngcatect2amigoNviewerYtodayNlocalnullpid018name이데일리imghttpsspstaticnetstaticnewsstandup20170424nsd154426359pngcatect2amigoNviewerYtodayNlocalnullpid243name이코노미스트imghttpsspstaticnetstaticnewsstandup20170424nsd15444742pngcatect2amigoNviewerYtodayNlocalnullpid922name이투데이imghttpsspstaticnetstaticnewsstandup20170424nsd15453589pngcatect2amigoNviewerYtodayNlocalnullpid923name인민망imghttpsspstaticnetstaticnewsstandup20170424nsd154522345pngcatect2amigoNviewerYtodayNlocalnullpid925name일요신문imghttpsspstaticnetstaticnewsstandup20170424nsd192546763pngcatect2amigoNviewerYtodayNlocalnullpid366name조선비즈imghttpsspstaticnetstaticnewsstandup20170424nsd162659528pngcatect2amigoNviewerYtodayNlocalnullpid023name조선일보imghttpsspstaticnetstaticnewsstandup20170424nsd162718792pngcatect2amigoNviewerYtodayNlocalnullpid025name중앙일보imghttpsspstaticnetstaticnewsstandup20170424nsd164240664pngcatect2amigoNviewerYtodayNlocalnullpid941name초이스경제imghttpsspstaticnetstaticnewsstandup20170424nsd164431529pngcatect2amigoNviewerYtodayNlocalnullpid143name쿠키뉴스imghttpsspstaticnetstaticnewsstandup20170424nsd172415111pngcatect2amigoNviewerYtodayNlocalnullpid014name파이낸셜뉴스imghttpsspstaticnetstaticnewsstandup20170424nsd172557496pngcatect2amigoNviewerYtodayNlocalnullpid002name프레시안imghttpsspstaticnetstaticnewsstandup20170424nsd172615885pngcatect2amigoNviewerYtodayNlocalnullpid028name한겨레imghttpsspstaticnetstaticnewsstandup20170424nsd17263596pngcatect2amigoNviewerYtodayNlocalnullpid015name한국경제imghttpsspstaticnetstaticnewsstandup20170424nsd172736175pngcatect2amigoNviewerYtodayNlocalnullpid038name한국일보imghttpsspstaticnetstaticnewsstandup20170424nsd172837200pngcatect2amigoNviewerYtodayNlocalnullpid016name헤럴드경제imghttpsspstaticnetstaticnewsstandup20170424nsd172855569pngcatect2amigoNviewerYtodayNlocalnullpid932nameCEO스코어데일리imghttpsspstaticnetstaticnewsstandup20170904nsd10420716pngcatect2amigoNviewerYtodayNlocalnullpid120nameEBNimghttpsspstaticnetstaticnewsstandup20171017nsd173540697pngcatect2amigoNviewerYtodayNlocalnullct3pid421name뉴스1imghttpsspstaticnetstaticnewsstandup20170424nsd14405515pngcatect3amigoNviewerYtodayNlocalnullpid003name뉴시스imghttpsspstaticnetstaticnewsstandup20170424nsd14449981pngcatect3amigoNviewerYtodayNlocalnullpid916name머니투데이방송imghttpsspstaticnetstaticnewsstandup20170424nsd145249746pngcatect3amigoNviewerYtodayNlocalnullpid934name아리랑TVimghttpsspstaticnetstaticnewsstandup20170424nsd153357809pngcatect3amigoNviewerYtodayNlocalnullpid422name연합뉴스TVimghttpsspstaticnetstaticnewsstandup20170424nsd154219877pngcatect3amigoNviewerYtodayNlocalnullpid376name지지통신imghttpsspstaticnetstaticnewsstandup20170424nsd16432873pngcatect3amigoNviewerYtodayNlocalnullpid903name채널에이imghttpsspstaticnetstaticnewsstandup20170424nsd164352456pngcatect3amigoNviewerYtodayNlocalnullpid215name한국경제TVimghttpsspstaticnetstaticnewsstandup20170424nsd172755139pngcatect3amigoNviewerYtodayNlocalnullpid938name환경TVimghttpsspstaticnetstaticnewsstandup20170424nsd172938871pngcatect3amigoNviewerYtodayNlocalnullpid933nameCNNimghttpsspstaticnetstaticnewsstandup20170424nsd173010586pngcatect3amigoNviewerYtodayNlocalnullpid344nameEBSimghttpsspstaticnetstaticnewsstandup20170424nsd173043431pngcatect3amigoNviewerYtodayNlocalnullpid904nameJTBCimghttpsspstaticnetstaticnewsstandup20170424nsd173111263pngcatect3amigoNviewerYtodayNlocalnullpid056nameKBSimghttpsspstaticnetstaticnewsstandup20170424nsd173124306pngcatect3amigoNviewerYtodayNlocalnullpid906nameKNNimghttpsspstaticnetstaticnewsstandup20170424nsd173151831pngcatect3amigoNviewerYtodayNlocalnullpid214nameMBCimghttpsspstaticnetstaticnewsstandup20170424nsd17324940pngcatect3amigoNviewerYtodayNlocalnullpid057nameMBNimghttpsspstaticnetstaticnewsstandup20170424nsd173223533pngcatect3amigoNviewerYtodayNlocalnullpid340nameOBSimghttpsspstaticnetstaticnewsstandup20170424nsd173252323pngcatect3amigoNviewerYtodayNlocalnullpid055nameSBSimghttpsspstaticnetstaticnewsstandup20170424nsd173335676pngcatect3amigoNviewerYtodayNlocalnullpid374nameSBSCNBCimghttpsspstaticnetstaticnewsstandup20170424nsd173348251pngcatect3amigoNviewerYtodayNlocalnullpid902nameTV조선imghttpsspstaticnetstaticnewsstandup20170424nsd1735138pngcatect3amigoNviewerYtodayNlocalnullpid052nameYTNimghttpsspstaticnetstaticnewsstandup20170424nsd173559874pngcatect3amigoNviewerYtodayNlocalnullpid945nameYTN사이언스imghttpsspstaticnetstaticnewsstandup20170424nsd173618176pngcatect3amigoNviewerYtodayNlocalnullct4pid910name넥스트데일리imghttpsspstaticnetstaticnewsstandup20170424nsd143938201pngcatect4amigoNviewerYtodayNlocalnullpid138name디지털데일리imghttpsspstaticnetstaticnewsstandup20170424nsd14481127pngcatect4amigoNviewerYtodayNlocalnullpid029name디지털타임스imghttpsspstaticnetstaticnewsstandup20170424nsd144824356pngcatect4amigoNviewerYtodayNlocalnullpid293name블로터imghttpsspstaticnetstaticnewsstandup20170424nsd145534698pngcatect4amigoNviewerYtodayNlocalnullpid031name아이뉴스24imghttpsspstaticnetstaticnewsstandup20170424nsd153955864pngcatect4amigoNviewerYtodayNlocalnullpid030name전자신문imghttpsspstaticnetstaticnewsstandup20170424nsd162528724pngcatect4amigoNviewerYtodayNlocalnullpid092name지디넷코리아imghttpsspstaticnetstaticnewsstandup20170424nsd16425834pngcatect4amigoNviewerYtodayNlocalnullpid917nameIT조선imghttpsspstaticnetstaticnewsstandup20170424nsd173057968pngcatect4amigoNviewerYtodayNlocalnullct5pid330name중앙데일리imghttpsspstaticnetstaticnewsstandup20170424nsd162959945pngcatect5amigoNviewerYtodayNlocalnullpid040name코리아타임스imghttpsspstaticnetstaticnewsstandup20170424nsd1729401pngcatect5amigoNviewerYtodayNlocalnullpid044name코리아헤럴드imghttpsspstaticnetstaticnewsstandup20170424nsd17341942pngcatect5amigoNviewerYtodayNlocalnullpid326nameKBS': 1, 'Worldimghttpsspstaticnetstaticnewsstandup20170424nsd173138949pngcatect5amigoNviewerYtodayNlocalnullpid946nameYONHAPNEWSimghttpsspstaticnetstaticnewsstandup20170424nsd173542219pngcatect5amigoNviewerYtodayNlocalnullct6pid447name뉴스엔imghttpsspstaticnetstaticnewsstandup20170424nsd144110729pngcatect6amigoNviewerYtodayNlocalnullpid117name마이데일리imghttpsspstaticnetstaticnewsstandup20170424nsd144944309pngcatect6amigoNviewerYtodayNlocalnullpid108name스타뉴스imghttpsspstaticnetstaticnewsstandup20170424nsd14592836pngcatect6amigoNviewerYtodayNlocalnullpid144name스포츠경향imghttpsspstaticnetstaticnewsstandup20170424nsd14593063pngcatect6amigoNviewerYtodayNlocalnullpid314name스포츠동아imghttpsspstaticnetstaticnewsstandup20170424nsd145951763pngcatect6amigoNviewerYtodayNlocalnullpid073name스포츠서울imghttpsspstaticnetstaticnewsstandup20170424nsd15042554pngcatect6amigoNviewerYtodayNlocalnullpid396name스포츠월드imghttpsspstaticnetstaticnewsstandup20170424nsd1521496pngcatect6amigoNviewerYtodayNlocalnullpid076name스포츠조선imghttpsspstaticnetstaticnewsstandup20170424nsd183553864pngcatect6amigoNviewerYtodayNlocalnullpid940name스포츠투데이imghttpsspstaticnetstaticnewsstandup20170424nsd183628961pngcatect6amigoNviewerYtodayNlocalnullpid139name스포탈코리아imghttpsspstaticnetstaticnewsstandup20170424nsd151840663pngcatect6amigoNviewerYtodayNlocalnullpid311name엑스포츠뉴스imghttpsspstaticnetstaticnewsstandup20170424nsd154117pngcatect6amigoNviewerYtodayNlocalnullpid241name일간스포츠imghttpsspstaticnetstaticnewsstandup20170424nsd154619739pngcatect6amigoNviewerYtodayNlocalnullpid947name조이뉴스24imghttpsspstaticnetstaticnewsstandup20170424nsd162759461pngcatect6amigoNviewerYtodayNlocalnullpid312name텐아시아imghttpsspstaticnetstaticnewsstandup20170424nsd172519405pngcatect6amigoNviewerYtodayNlocalnullpid440name티브이데일리imghttpsspstaticnetstaticnewsstandup20170424nsd172538465pngcatect6amigoNviewerYtodayNlocalnullpid410nameMK스포츠imghttpsspstaticnetstaticnewsstandup20170424nsd173237747pngcatect6amigoNviewerYtodayNlocalnullpid109nameOSENimghttpsspstaticnetstaticnewsstandup20170424nsd17338859pngcatect6amigoNviewerYtodayNlocalnullpid416nameSBS연예스포츠imghttpsspstaticnetstaticnewsstandup20170424nsd173430905pngcatect6amigoNviewerYtodayNlocalnullpid213nameTV리포트imghttpsspstaticnetstaticnewsstandup20170424nsd173446621pngcatect6amigoNviewerYtodayNlocalnullpid404nameenews24imghttpsspstaticnetstaticnewsstandup20170424nsd173715121pngcatect6amigoNviewerYtodayNlocalnullct7pid356name게임메카imghttpsspstaticnetstaticnewsstandup20170424nsd143454437pngcatect7amigoNviewerYtodayNlocalnullpid363name과학동아imghttpsspstaticnetstaticnewsstandup20170424nsd143721586pngcatect7amigoNviewerYtodayNlocalnullpid908name국방일보imghttpsspstaticnetstaticnewsstandup20170424nsd143827635pngcatect7amigoNviewerYtodayNlocalnullpid911name농민신문imghttpsspstaticnetstaticnewsstandup20170424nsd144020188pngcatect7amigoNviewerYtodayNlocalnullpid912name뉴스컬처imghttpsspstaticnetstaticnewsstandup20170424nsd14412867pngcatect7amigoNviewerYtodayNlocalnullpid905name더스쿠프imghttpsspstaticnetstaticnewsstandup20170424nsd144523858pngcatect7amigoNviewerYtodayNlocalnullpid042name데일리한국imghttpsspstaticnetstaticnewsstandup20170424nsd144629578pngcatect7amigoNviewerYtodayNlocalnullpid345name디자인정글imghttpsspstaticnetstaticnewsstandup20170424nsd144732945pngcatect7amigoNviewerYtodayNlocalnullpid915name르몽드': 1, '디플로마티크imghttpsspstaticnetstaticnewsstandup20170424nsd1449112pngcatect7amigoNviewerYtodayNlocalnullpid024name매경이코노미imghttpsspstaticnetstaticnewsstandup20170424nsd145011543pngcatect7amigoNviewerYtodayNlocalnullpid075name맥스무비imghttpsspstaticnetstaticnewsstandup20170424nsd183033195pngcatect7amigoNviewerYtodayNlocalnullpid417name머니에스imghttpsspstaticnetstaticnewsstandup20170424nsd145150694pngcatect7amigoNviewerYtodayNlocalnullpid122name법률신문imghttpsspstaticnetstaticnewsstandup20170424nsd145431309pngcatect7amigoNviewerYtodayNlocalnullpid355name사이언스타임즈imghttpsspstaticnetstaticnewsstandup20170424nsd145657590pngcatect7amigoNviewerYtodayNlocalnullpid329name소년한국일보imghttpsspstaticnetstaticnewsstandup20170424nsd14583498pngcatect7amigoNviewerYtodayNlocalnullpid308name시사인imghttpsspstaticnetstaticnewsstandup20170424nsd151929775pngcatect7amigoNviewerYtodayNlocalnullpid135name시사저널imghttpsspstaticnetstaticnewsstandup20170424nsd153228485pngcatect7amigoNviewerYtodayNlocalnullpid140name씨네21imghttpsspstaticnetstaticnewsstandup20170424nsd153251814pngcatect7amigoNviewerYtodayNlocalnullpid328name에이블뉴스imghttpsspstaticnetstaticnewsstandup20170424nsd154040656pngcatect7amigoNviewerYtodayNlocalnullpid354name엘르imghttpsspstaticnetstaticnewsstandup20170424nsd154119884pngcatect7amigoNviewerYtodayNlocalnullpid310name여성신문imghttpsspstaticnetstaticnewsstandup20170424nsd154151666pngcatect7amigoNviewerYtodayNlocalnullpid924name인벤imghttpsspstaticnetstaticnewsstandup20170424nsd154539705pngcatect7amigoNviewerYtodayNlocalnullpid362name자동차생활imghttpsspstaticnetstaticnewsstandup20170424nsd162354371pngcatect7amigoNviewerYtodayNlocalnullpid123name조세일보imghttpsspstaticnetstaticnewsstandup20170424nsd162739461pngcatect7amigoNviewerYtodayNlocalnullpid361name채널예스imghttpsspstaticnetstaticnewsstandup20170424nsd164412540pngcatect7amigoNviewerYtodayNlocalnullpid928name컴퓨터월드imghttpsspstaticnetstaticnewsstandup20170424nsd17150763pngcatect7amigoNviewerYtodayNlocalnullpid296name코메디닷컴imghttpsspstaticnetstaticnewsstandup20170424nsd172354656pngcatect7amigoNviewerYtodayNlocalnullpid948name한겨레21imghttpsspstaticnetstaticnewsstandup20170424nsd172654646pngcatect7amigoNviewerYtodayNlocalnullpid050name한경비즈니스imghttpsspstaticnetstaticnewsstandup20170424nsd172712628pngcatect7amigoNviewerYtodayNlocalnullpid384name한국대학신문imghttpsspstaticnetstaticnewsstandup20170424nsd172816434pngcatect7amigoNviewerYtodayNlocalnullpid346name헬스조선imghttpsspstaticnetstaticnewsstandup20170424nsd172911723pngcatect7amigoNviewerYtodayNlocalnullpid364namePC사랑imghttpsspstaticnetstaticnewsstandup20170424nsd173322105pngcatect7amigoNviewerYtodayNlocalnullpid949nameTheAsiaNimghttpsspstaticnetstaticnewsstandup20170424nsd173523100pngcatect7amigoNviewerYtodayNlocalnullct8pid335name강원도민일보imghttpsspstaticnetstaticnewsstandup20170424nsd14341394pngcatect8amigoNviewerYtodayNlocalname강원code01pid087name강원일보imghttpsspstaticnetstaticnewsstandup20170424nsd143434899pngcatect8amigoNviewerYtodayNlocalname강원code01pid339name경기일보imghttpsspstaticnetstaticnewsstandup20170424nsd143511509pngcatect8amigoNviewerYtodayNlocalname경기code02name인천code11pid333name경남신문imghttpsspstaticnetstaticnewsstandup20170424nsd143531816pngcatect8amigoNviewerYtodayNlocalname경남code03name부산code08name울산code10pid907name경북매일신문imghttpsspstaticnetstaticnewsstandup20170424nsd143555345pngcatect8amigoNviewerYtodayNlocalname경북code04name대구code06pid337name경북일보imghttpsspstaticnetstaticnewsstandup20170424nsd143612100pngcatect8amigoNviewerYtodayNlocalname경북code04name대구code06name울산code10pid935name경상일보imghttpsspstaticnetstaticnewsstandup20170424nsd143628241pngcatect8amigoNviewerYtodayNlocalname울산code10pid338name경인일보imghttpsspstaticnetstaticnewsstandup20170424nsd143645415pngcatect8amigoNviewerYtodayNlocalname경기code02name인천code11pid083name광주일보imghttpsspstaticnetstaticnewsstandup20170424nsd143742681pngcatect8amigoNviewerYtodayNlocalname광주code05name전남code12pid332name국제신문imghttpsspstaticnetstaticnewsstandup20170424nsd143844997pngcatect8amigoNviewerYtodayNlocalname경남code03name부산code08name울산code10pid909name기호일보imghttpsspstaticnetstaticnewsstandup20170424nsd14392544pngcatect8amigoNviewerYtodayNlocalname경기code02name인천code11pid936name대구일보imghttpsspstaticnetstaticnewsstandup20170424nsd144433908pngcatect8amigoNviewerYtodayNlocalname경북code04name대구code06pid089name대전일보imghttpsspstaticnetstaticnewsstandup20170424nsd144457151pngcatect8amigoNviewerYtodayNlocalname대전code07name충남code15name충북code16name세종code17pid088name매일신문imghttpsspstaticnetstaticnewsstandup20170424nsd14505572pngcatect8amigoNviewerYtodayNlocalname경북code04name대구code06pid082name부산일보imghttpsspstaticnetstaticnewsstandup20170424nsd145450220pngcatect8amigoNviewerYtodayNlocalname경남code03name부산code08name울산code10pid385name영남일보imghttpsspstaticnetstaticnewsstandup20170424nsd154255890pngcatect8amigoNviewerYtodayNlocalname경북code04name대구code06pid386name울산매일imghttpsspstaticnetstaticnewsstandup20170424nsd154334776pngcatect8amigoNviewerYtodayNlocalname울산code10pid387name인천일보imghttpsspstaticnetstaticnewsstandup20170424nsd154558680pngcatect8amigoNviewerYtodayNlocalname경기code02name인천code11pid388name전남일보imghttpsspstaticnetstaticnewsstandup20170424nsd162423309pngcatect8amigoNviewerYtodayNlocalname광주code05name전남code12pid937name전북도민일보imghttpsspstaticnetstaticnewsstandup20170424nsd16244628pngcatect8amigoNviewerYtodayNlocalname전북code13pid336name전북일보imghttpsspstaticnetstaticnewsstandup20170424nsd16256807pngcatect8amigoNviewerYtodayNlocalname전북code13pid901name제민일보imghttpsspstaticnetstaticnewsstandup20170424nsd16254923pngcatect8amigoNviewerYtodayNlocalname제주code14pid389name제주도민일보imghttpsspstaticnetstaticnewsstandup20170424nsd1626960pngcatect8amigoNviewerYtodayNlocalname제주code14pid334name제주의소리imghttpsspstaticnetstaticnewsstandup20170424nsd162631114pngcatect8amigoNviewerYtodayNlocalname제주code14pid390name중도일보imghttpsspstaticnetstaticnewsstandup20170424nsd162822857pngcatect8amigoNviewerYtodayNlocalname대전code07name충남code15pid926name중부일보imghttpsspstaticnetstaticnewsstandup20170424nsd162931439pngcatect8amigoNviewerYtodayNlocalname경기code02name인천code11pid927name충북일보imghttpsspstaticnetstaticnewsstandup20170424nsd164449667pngcatect8amigoNviewerYtodayNlocalname충북code16name세종code17pid391name충청일보imghttpsspstaticnetstaticnewsstandup20170424nsd17115481pngcatect8amigoNviewerYtodayNlocalname대전code07name충남code15name충북code16name세종code17pid331name충청투데이imghttpsspstaticnetstaticnewsstandup20170424nsd17133978pngcatect8amigoNviewerYtodayNlocalname대전code07name충남code15name충북code16name세종code17': 1, 'isSupportedFlicking': 2, 'navermainTimesquare': 1, 'aOrderedPanel': 1, 'codeweathername날씨codenewsname뉴스codesportsname스포츠codefinancename금융codeconversationname회화codelifetoolsname생활도구': 1, 'navermainRealtimeKeyword': 1, 'Agentnavigatorie': 1, 'Agentnavigatorversion': 1}\n"
     ]
    }
   ],
   "source": [
    "from urllib import request \n",
    "import string\n",
    " \n",
    "url = 'http://www.naver.com' # 네이버\n",
    "f = request.urlopen(url)\n",
    "source_bytes = f.read()\n",
    "source = source_bytes.decode('utf-8')\n",
    "\n",
    "# 추후 숙제 답안 제출 때엔 아래 코드는 주석처리할 것                 \n",
    "#print(type(source_bytes))\n",
    "#print(type(source))\n",
    "#print(source)\n",
    "#print(source)\n",
    "\n",
    "word_flag = True\n",
    "fst = 0\n",
    "lst = 0\n",
    "cnt = 0\n",
    "l = []\n",
    "flag = True\n",
    "\n",
    "for x in source:\n",
    "    if(x == '<'):\n",
    "        word_flag = False\n",
    "    elif(x == '>'):\n",
    "        word_flag = True\n",
    "        \n",
    "    if(flag == True and word_flag == True and x != ' ' and x != '>' and x != '\\n' and x != '\\t'):\n",
    "        flag = False\n",
    "        fst = cnt\n",
    "    elif(flag == False and (x == ' ' or x == '<') and x != '\\n' and x != '\\t'):\n",
    "        flag = True\n",
    "        lst = cnt\n",
    "        l.append(source[fst:lst])\n",
    "        \n",
    "    cnt=cnt+1\n",
    "    \n",
    "n = []\n",
    "w = ' '.join(l)\n",
    "for x in range(len(w)):\n",
    "    if(w[x] not in string.punctuation):\n",
    "        n.append(w[x])\n",
    "w = ''.join(n)\n",
    "l = w.split()\n",
    "word_t = {}\n",
    "for x in l:\n",
    "    if(x in word_t):\n",
    "        word_t[x] = word_t[x]+1\n",
    "    else:\n",
    "        word_t[x] = 1\n",
    "        \n",
    "print(word_t)"
   ]
  },
  {
   "cell_type": "code",
   "execution_count": 5,
   "metadata": {},
   "outputs": [
    {
     "name": "stdout",
     "output_type": "stream",
     "text": [
      "{'Daum': 1, 'charset': 1, 'utf8': 1, 'bodydivdldtddulollih1h2h3h4h5h6precodeformfieldsetlegendtextareapblockquotethtdinputselectbuttonmargin0padding0': 1, 'fieldsetimgborder0': 1, 'none': 5, 'dlulolmenuliliststylenone': 1, 'blockquote': 1, 'qquotes': 1, 'blockquotebefore': 1, 'blockquoteafterqbefore': 1, 'qaftercontentcontentnone': 1, 'inputselecttextareabuttonverticalalignmiddle': 1, 'inputmscleardisplaynone': 1, 'buttonborder0': 1, 'nonebackgroundcolortransparentcursorpointer': 1, 'bodybackgroundfffdirectionltrwebkittextsizeadjustnone': 1, 'bodythtdinputselecttextareabuttonfontsize13pxlineheight15fontfamilyAppleSDGothicNeoRegularMalgun': 1, 'Gothic맑은': 1, '고딕dotum돋움sansserifcolor222letterspacing1px': 1, 'osmac': 144, 'bodyosmac': 1, 'thosmac': 1, 'tdosmac': 1, 'inputosmac': 1, 'selectosmac': 1, 'textareaosmac': 1, 'buttonletterspacing0': 1, 'acolor222textdecorationnone': 1, 'ahovercolor118efftextdecorationunderline': 1, 'aactivebackgroundcolortransparent': 1, 'addresscaptioncitecodedfnemvarfontstylenormalfontweightnormal': 1, 'irpmdisplayblockoverflowhiddenfontsize1pxlineheight0textindent9999px': 1, 'irwadisplayblockoverflowhiddenpositionrelativewidth100height100zindex1': 1, 'screenoutoverflowhiddenpositionabsolutewidth0height0lineheight0textindent9999px': 1, 'showdisplayblock': 1, 'hidedisplaynone': 1, 'dindexpositionrelativewidth100': 1, 'dindex': 7, 'shortcutgpositionabsolutetop34pxleft0height33pxpadding0': 1, '20px': 10, '0': 171, '26pxborderbottom1px': 1, 'solid': 53, '3f4243fontsize11pxlineheight14pxbackgroundcolor26292acolorfffletterspacing1pxtextaligncenter': 1, 'shortcutgactive': 2, 'shortcutgfocusoverflowhiddentop0textdecorationnonezindex101': 1, 'shortcutghovercolorfff': 1, 'shortcutg': 2, 'innershortcutdisplayinlineblockpaddingright10pxmargintop8pxbackgroundposition100': 1, '220pxverticalaligntop': 1, 'innershortcutmargintop11pxbackgroundposition100': 1, '223px': 1, 'icopctopoverflowhiddenbackgroundurlt1daumcdnnetdaumtopdecoimagestop2017icopctop170828png': 1, 'norepeat': 19, 'icovertoverflowhiddenbackgroundurlt1daumcdnnetdaumtopdecoimagestop2017icopctopvert170724png': 1, 'txtpctopoverflowhiddenbackgroundurlt1daumcdnnetdaumtopdecoimagestop2017txtpctop170915png': 1, '0letterspacing1pxwhitespacenowrap': 1, 'bgpctopbackgroundurlt1daumcdnnetdaumtopdecoimagestop2017bgpctop170328png': 1, 'numpctopoverflowhiddenbackgroundurlt1daumcdnnetdaumtopdecoimagestop2017numpctop170405png': 1, 'imgthumbdisplayblockverticalaligntop': 1, 'framegpositionabsolutetop0left0border1px': 1, '000opacity008filteralphaopacity8': 1, 'thumbgdisplayblockpositionrelative': 1, 'daumWrappositionrelativeminwidth1080px': 1, 'daumWraptransformtranslate3d0px': 1, '0px': 3, 'headdaumpositionrelativezindex100': 1, 'contmainpositionrelativewidth990pxmargin15px': 1, 'auto': 7, 'conttopicoverflowhiddenpositionrelativezindex0width100bordertop1px': 1, 'ecececbackgroundcolorfbfbfcbackgroundposition50': 1, '100backgroundrepeatnorepeat': 1, 'featuretmpdisplayinlineblockverticalaligntop': 1, 'wrapmainpaddingbottom40pxclearbothzoom1': 1, 'wrapmainafterdisplayblockvisibilityhiddenheight0fontsize0clearbothcontent': 1, 'cmaintmpfloatleftwidth655pxmarginright35px': 1, 'wingtmpfloatleftwidth300px': 1, 'footdaumbordertop1px': 1, '888': 5, 'footdaum': 26, 'innerfootoverflowhiddenpositionrelativewidth990pxmargin0': 1, 'autopadding37px': 1, '78px': 1, 'linklogofloatleft': 1, 'infonoticeoverflowhiddenpadding0': 1, '250px': 3, '30px': 19, 'titnoticefloatleftfontsize13px': 1, 'linknoticedisplayblockpaddingright9pxbackgroundposition100': 1, '169px': 1, 'linknoticehovercolor222': 1, 'listnoticeoverflowhiddenwidth542pxheight19pxpaddingleft9px': 1, 'listnotice': 2, 'linkinfodisplayblockoverflowhiddentextoverflowellipsiswhitespacenowrap': 1, 'linkinfohovercolor222': 1, 'searchfootpositionabsolutetop32pxright0': 1, 'boxsearchpositionrelativezindex1width209pxheight28pxborder1px': 1, 'c8c8c8': 1, 'searchonbordercolor0089ff': 1, 'tfkeywordfloatleftwidth164pxmargin5px': 1, '9pxborder1px': 1, 'transparentlineheight19pxoutline0': 1, 'btnsearchfloatrightwidth32pxheight28pxlineheight28pxbackgroundposition0': 1, '230pxbackgroundcolortransparent': 1, 'linksvcallpositionabsolutetop81pxright0paddingright10pxfontweightboldcolor888backgroundposition100': 1, '194px': 1, 'infopolicypadding23px': 1, 'infopolicy': 2, 'linkpolicyfontsize12pxcolor888': 1, 'txtdotpadding0': 1, '2pxfontsize12pxcolor888': 1, 'txtcopyrightdisplayblockpaddingtop6pxfontsize11pxcolor888': 1, 'txtcopyright': 1, 'linkkakaocolor888': 1, 'infonoticepadding3px': 1, '31px': 1, 'linknoticepaddingright12pxbackgroundpositiony172px': 1, 'tfkeywordmargintop4px': 1, 'linksvcalltop83pxbackgroundpositiony196px': 1, 'infopolicypaddingtop24px': 1, 'txtcopyrightpaddingtop5px': 1, 'dheadborderbottom1px': 1, 'ececec': 8, 'dhead': 1, 'innerheadpositionrelativezindex1width1080pxheight150pxmargin0': 1, 'titdaumoverflowhiddenfloatleftwidth180pxheight150pxtextaligncenter': 1, 'linkdaumoverflowhiddendisplayblockmargin28px': 1, 'linklaunchpositionabsolutetop6pxleft45pxpaddingright8pxfontsize11pxcolor888backgroundposition100': 1, '18px': 3, 'linklaunchtop9pxbackgroundposition100': 1, '21px': 1, 'wrapsearchfloatleftpositionrelativemargintop50px': 1, 'wrapsearch': 1, 'dschbackgroundcolorfff': 1, 'headdaum': 15, 'boxsearchpositionrelativeheight44pxmargin1px': 1, '1px': 5, '0border1px': 2, '0089ffborderradius1px': 1, 'boxsearch': 2, 'innersearchpositionrelativezindex1height44pxpadding0': 1, '60px': 8, '14px': 5, 'boxsearchbefore': 1, 'innersearchbefore': 1, 'boxsearchafterpositionabsoluteleft0right100height1pxcontentbackgroundcolor0089ff': 1, 'boxsearchbeforetop1px': 1, 'boxsearchafterbottom1px': 1, 'boxsearchhoverbefore': 1, 'boxsearchhoverafterright0transitionpropertyrighttransitionduration08sbackgroundlineargradientto': 1, 'right': 1, '86aaff': 1, '70bc4c': 1, 'ffbe00': 1, 'f46e85': 1, 'boxsearchhover': 1, 'innersearchbeforetop1pxbottom1pxleftautoright1pxwidth1pxheight46pxbackgroundcolorf46e85transitionpropertyheighttransitiondelay08s': 1, 'tfkeywordfloatleftwidth442pxmargintop7pxborder1px': 1, 'transparentfontsize18pxlineheight24pxbackgroundcolortransparentoutline0imemodeactivewebkitappearancenone': 1, 'btnsearchpositionabsolutetop0right0width49pxheight42pxmargin1pxlineheight44pxbackgroundposition40px': 1, '231pxbackgroundcolortransparent': 1, 'slidefavorschoverflowhiddenwidth480pxheight28px': 1, 'listfavorschoverflowhiddenpaddingtop7px': 1, 'listfavorsch': 3, 'lifloatleftpaddingright10px': 1, 'linkfavorschdisplayblockfontsize12pxcolor555': 1, 'pagepctopzindex1right1pxbottom3px': 1, 'headbnrpositionabsolutetop33pxright45px': 1, 'headbnr': 1, 'linkheadbnrdisplayblock': 1, 'boxsearchmargintop0': 1, 'tfkeywordmargintop11px': 1, 'listfavorschpaddingtop10px': 1, 'lipaddingright14px': 1, 'daumSuggestWrappositionrelativemarginright90pxclearboth': 1, 'suggestBoxpositionabsolutetop45pxleft0zindex9999width520pxpadding0backgroundnone': 1, 'baseBoxbordertop1px': 1, 'dcdcdcfontsize12pxlineheight17pxfontfamily굴림gulimsansserifbackgroundcolorfff': 1, 'baseBoxfontfamilyApple': 1, 'SD': 6, 'Gothic': 6, 'Neosansserif': 6, 'suggestBox': 96, 'listpadding7px': 1, '13pxborderleft1px': 1, 'dcdcdcborderright1px': 2, 'dcdcdccolor333backgroundcolorfff': 1, 'suggestBoxreverseType': 2, 'listpadding3px': 1, '7pxcolor333': 1, 'baseBox': 4, 'lioverflowhiddenheight26pxpadding0': 1, '16pxlineheight26pxtextalignleftcursorpointer': 1, 'li': 8, 'itemdisplayblockheight100': 1, 'itemhovertextdecorationnone': 1, 'list': 1, 'onbackgroundcolorf6f6f6': 1, 'strongfontweightnormalcolor0089ff': 1, 'lineoverflowhiddenheight1pxmargin7px': 1, '6pxpadding0fontsize1pxlineheight1pxbackgroundcolore5e5e5': 1, 'guidepadding15px': 1, '10pxcolor555': 1, 'footerpositionrelativeheight20pxpadding8px': 1, '12px': 7, '4px': 11, '7pxborder1px': 1, 'dcdcdcbordertop1px': 1, 'ecececfontsize11pxbackgroundcolorfbfbfbletterspacing1pxclearboth': 1, 'footerbordertopcolordcdcdcborderbottomcolorededed': 1, 'footer': 7, 'flfloatleft': 1, 'frfloatright': 1, 'btnclosepaddingleft12pxbackgroundposition0': 1, '939px': 1, 'bardisplaynonepadding0': 1, '2pxcolorddd': 1, 'fl': 1, 'barpadding0': 1, '2px': 11, 'offGuidedisplaynonepositionabsoluteright0bottom19pxwidth211pxheight27pxbackgroundurlsearch1daumcdnnetsearchstaticscommonpisuggestservicegif': 1, 'norepeattextindent999em': 1, 'offSuggestdisplaynone': 1, 'listpadding9px': 1, '11px': 3, 'lipadding0': 1, '17px': 2, 'acolor777': 1, 'answerborderleft1px': 1, 'dcdcdc': 1, 'answer': 1, 'spancursorpointer': 1, 'afontsize14pxcolor333fontfamily돋움dotumsansseriftextdecorationnone': 1, 'afontfamilyApple': 1, 'linedisplayblockoverflowhiddenclearboth': 1, 'blineborderbottom1px': 1, 'ededed': 1, 'suggestexactdisplayblockoverflowhiddenheight40pxpadding12px': 1, 'suggestexacthovertextdecorationnone': 1, 'eonbackgroundcolorf8f8f8textdecorationnone': 1, 'suggestexact': 56, 'txtexactoverflowhiddenfloatleftheight44pxmargintop0backgroundposition0': 1, 'txtunitfontsize14pxfontfamilyarialsansserif': 1, 'titmarginleft1pxfontweightnormalfontsize12pxlineheight18pxfontfamily굴림gulimsansserifcolor333': 1, 'contdisplayblock': 1, 'txtcontmarginright4pxfontweightboldfontsize14pxlineheight16pxfontfamily돋움dotumsansserifcolor333': 1, 'txtnum1fontsize18pxlineheight20pxfontfamilytahomasansserifcolor333': 1, 'txtnum2marginleft3pxfontsize12pxlineheight14pxfontfamily굴림gulimsansserifcolor333': 1, 'txtnum3fontsize20pxlineheight23pxfontfamilyarialsansserifcolor333': 1, 'txtnum4marginleft3pxfontsize12pxlineheight14pxfontfamily굴림gulimsansserifcolor333': 1, 'txtexact': 5, 'icosuggest2backgroundurlsearch1daumcdnnetsearchstaticscommonpiicoicosuggest20110721gif': 1, 'icocelsiusbackgroundnone': 1, 'icoarrowuppaddingleft11pxbackgroundposition0': 1, '58px': 1, 'icoarrowdownpaddingleft11pxbackgroundposition0': 1, '98px': 1, 'icoarrowequalpaddingleft11pxbackgroundposition0': 1, '75px': 1, 'txtbluecolor007aff': 1, 'txtblue2color007aff': 1, 'txtredcolore52d38': 1, 'txtred2colore52d38': 1, 'txttimefloatrightmargin25px': 1, '16px': 4, '0fontsize11pxfontfamily돋움dotumsansserifcolora1a1a1': 1, 'icocelsiuswidth12pxheight13pxfontfamilyarialsansserifbackgroundpositionright': 1, '5px': 6, 'barfontsize14pxcolordedede': 1, 'wraptodayoverflowhiddenheight21pxpadding4px': 1, '10px': 2, '9pxlineheight21px': 1, 'wraptoday': 2, 'contfontsize14pxcolor333textdecorationnone': 1, 'contimportfontweightnormalcolorea570a': 1, 'titfontfamilyApple': 1, 'txtnum2fontfamilyApple': 1, 'txtnum4fontfamilyApple': 1, 'txttimefontfamilyApple': 1, 'icolottofloatleftwidth28pxheight28pxmargin6px': 1, '0borderradius20pxtextaligncenter': 1, 'icolotto': 1, 'txtnumdisplayinlineblockmargintop7pxfontsize14pxlineheight1fontfamilyarialsansserifcolorfffverticalaligntop': 1, 'num1backgroundcolorf6a800': 1, 'num10backgroundcolor4155cb': 1, 'num20backgroundcolorf64d61': 1, 'num30backgroundcolor585d6e': 1, 'num40backgroundcolorf6a800': 1, 'pluswidth8pxheight8pxmargin16px': 1, '8px': 10, '4pxbackgroundurlsearch1daumcdnnetsearchstaticscommonpiicoicosuggest20110721gif': 1, '40pxtextindent9999pxopacity05': 1, 'icosuggestpaddingleft59pxcolor555backgroundurlsearch1daumcdnnetsearchstaticscommonpiweathericoweathermpng': 1, 'icosuggest': 1, 'cont': 1, 'screenoutpositionstaticfontsize14pxfontfamilyarialsansseriftextindent0': 1, 'txtexactoverflowhiddenfloatleftheight44pxmargintop0': 1, 'icow00backgroundposition0': 1, '1620px': 1, 'icow01backgroundposition0': 2, 'night': 16, 'icow02backgroundposition0': 2, '120px': 5, '180px': 4, 'icow03backgroundposition0': 2, '240px': 7, '300px': 10, 'icow04backgroundposition0': 1, '360px': 2, 'icow05backgroundposition0': 2, '420px': 1, '480px': 2, 'icow06backgroundposition0': 2, '540px': 1, '600px': 1, 'icow07backgroundposition0': 1, '660px': 1, 'icow08backgroundposition0': 1, '720px': 1, 'icow09backgroundposition0': 1, '780px': 1, 'icow10backgroundposition0': 2, '840px': 1, '900px': 1, 'icow11backgroundposition0': 1, '960px': 1, 'icow12backgroundposition0': 1, '1020px': 1, 'icow13backgroundposition0': 2, '1080px': 1, '1140px': 1, 'icow14backgroundposition0': 1, '1200px': 1, 'icow15backgroundposition0': 1, '1260px': 1, 'icow16backgroundposition0': 2, '1320px': 1, '1380px': 1, 'icow17backgroundposition0': 1, '1440px': 1, 'icow18backgroundposition0': 1, '1500px': 1, 'icow19backgroundposition0': 1, '1560px': 1, 'daumSuggestWrapdisplaynone': 1, 'dserviceborderbottom1px': 1, 'dservice': 1, 'innerservicepositionrelativewidth990pxheight45pxmargin0': 1, 'menuservicefloatleftpositionrelativewidth660px': 1, 'menuservice': 1, 'linkmoreoverflowhiddenfloatleftwidth60pxheight25pxpadding10px': 1, '9pxlineheight20pxbackgroundposition0': 1, '8pxbackgroundcolortransparenttextaligncenter': 1, 'menuon': 2, 'linkmorebackgroundposition60px': 1, 'listmainsvcfloatleft': 1, 'listmainsvc': 16, 'lifloatleftheight45px': 1, 'txtpctopdisplayblockheight25pxpadding10px': 1, '0fontweightboldfontsize13pxlineheight25pxbackgroundcolortransparenttextaligncenter': 1, 'linkcafewidth30pxbackgroundposition0': 1, 'linkmailwidth36pxbackgroundposition30px': 1, 'linknewswidth37pxbackgroundposition66px': 1, 'linkmapwidth36pxbackgroundposition103px': 1, 'linkstockwidth37pxbackgroundposition139px': 1, 'linkshoppingwidth36pxbackgroundposition176px': 1, 'linkkakaotvwidth64pxbackgroundposition212px': 1, 'linkwebtoonwidth37pxbackgroundposition276px': 1, 'linkblogwidth48pxbackgroundposition313px': 1, 'linkbrunchwidth47pxbackgroundposition361px': 1, 'linkdicwidth36pxbackgroundposition408px': 1, 'linkgamewidth37pxbackgroundposition444px': 1, 'linkstarplaywidth59pxbackgroundposition481px': 1, 'linktogetherwidth59pxbackgroundposition540px': 1, 'servicelayerdisplaynonepositionabsolutetop45pxleft0width653pxborder1px': 1, '888backgroundcolorfff': 3, 'servicelayerdisplayblock': 1, 'servicelayer': 18, 'layerbodyoverflowhiddenbackgroundurlt1daumcdnnetdaumtopdecoimagestop2017bglinegif': 1, 'repeaty': 1, 'sortservicefloatleftwidth94pxpadding0': 1, '15px': 5, 'sortservicefstpaddingleft14px': 1, 'sortservice': 9, 'dtmargin11px': 1, '4pxfontweightboldfontsize12px': 1, 'ddclearbothfontsize12pxlineheight22px': 1, 'titsplitfloatleftpaddingright9pxbackgroundposition100': 1, 'titsplit2margintop22px': 1, 'linksvccolor555': 1, 'linksvchovercolor118eff': 1, 'iconewdisplayinlineblockwidth11pxheight11pxmargin2px': 1, '2pxfontsize0lineheight0backgroundposition160px': 1, '80pxverticalalignmiddletextindent9999px': 1, 'layerfootoverflowhiddenheight32pxbordertop1px': 1, 'ecececbackgroundcolorfbfbfb': 5, 'layerfoot': 4, 'linktotalfloatleftpaddingright8pxmarginleft13pxfontsize11pxlineheight29pxcolor555backgroundposition100': 1, 'btnclosefloatrightpadding0': 1, '13pxmargin2pxfontsize11pxlineheight24pxcolor888': 1, 'sortservicepaddingbottom12px': 1, 'dtmargin14px': 1, 'titsplitbackgroundposition100': 1, '3px': 3, 'linktotalpaddingright10pxmarginleft14pxlineheight32pxbackgroundposition100': 1, 'btnclosepadding0': 1, '12pxlineheight28px': 1, 'todaybasefloatrightpositionrelativeheight45px': 1, 'todaybase': 5, 'compbasedisplayinlineblockverticalaligntop': 1, 'imgweatherbackgroundimageurlt1daumcdnnetdaumtopdecoimagestop2017imgweather170628pngbackgroundrepeatnorepeatfontsize0lineheight0textindent9999px': 1, 'txttemperfloatleftfontsize14pxfontfamilytahomaarialsansserifletterspacing0': 1, 'txttemperfontfamilyhelveticaarialsansserif': 1, 'infotodayfloatleftfontsize13px': 1, 'infotoday': 30, 'datetodayfloatleftheight24pxpaddingtop10pxlineheight20pxletterspacing0': 1, 'txtpartfloatleftmarginright5pxfontweightboldlineheight24px': 1, 'linkweatherfloatleftheight25pxmarginleft16pxpadding8px': 1, '12pxlineheight24pxtextalignright': 1, 'linkweatherhovercolor222textdecorationnone': 2, 'listweatherfloatleftoverflowhiddenheight25px': 1, 'listweather': 1, 'lioverflowhiddenheight25px': 1, 'datetodaylineheight26px': 1, 'txtpartlineheight30px': 1, 'linkweatherlineheight26px': 1, 'linkweather': 4, 'icomoremargintop10px': 1, 'imgweatherfloatleftwidth26pxheight26pxmargin1px': 1, '0verticalaligntop': 2, 'icowm01backgroundposition0': 2, 'icowm01backgroundposition30px': 1, 'icowm02backgroundposition60px': 1, 'icowm02backgroundposition90px': 1, 'icowm03backgroundposition0': 2, '270px': 4, 'icowm03backgroundposition30px': 1, 'icowm04backgroundposition60px': 1, 'icowm07backgroundposition90px': 1, 'icowm09backgroundposition0': 2, 'icowm10backgroundposition30px': 1, 'icowm10backgroundposition60px': 1, 'icowm11backgroundposition90px': 1, 'icowm14backgroundposition0': 2, '330px': 4, 'icowm17backgroundposition30px': 1, 'icowm18backgroundposition60px': 1, 'icowm19backgroundposition90px': 1, 'txttempermargintop1px': 2, 'icodegreefloatleftwidth17pxheight15pxmargin7px': 1, '0fontsize12pxlineheight17pxbackgroundposition210px': 1, '270pxbackgroundcolortransparenttextaligncentertextindent0': 1, 'icomorewidth13pxheight9pxmargin9px': 1, '1pxbackgroundposition138px': 1, '292px': 2, 'todayon': 2, 'icomorebackgroundposition138px': 1, '304px': 1, 'todaylayerdisplaynonepositionabsolutetop45pxright0width298pxborder1px': 1, 'todaylayer': 67, 'icowmbackgroundimageurlt1daumcdnnetdaumtopdecoimagestop2017icowmpngbackgroundrepeatnorepeatfontsize0lineheight0textindent9999px': 1, 'layerbodyoverflowhidden': 1, 'layerbodyafterpositionabsolutetop0right0width42pxheight42pxcontent': 1, 'weatherpartpositionrelativeheight135px': 1, 'btnlocatepositionabsolutetop17pxleft18pxwidth21pxheight21pxfontsize0lineheight0backgroundposition176px': 1, '246pxtextindent9999px': 1, 'btnlocateonbackgroundposition176px': 1, '286px': 1, 'linkweatherdisplayblockoverflowhiddenheight135px': 1, 'txtplacedisplayblockheight20pxmargin17px': 1, '22pxfontweightboldfontsize13pxlineheight19px': 1, 'txtplace': 1, 'txtlocaldisplayinlineblock': 1, 'icowmfloatleftwidth90pxheight90pxmarginleft22px': 1, 'icowm01backgroundposition100px': 1, 'icowm02backgroundposition200px': 1, 'icowm02backgroundposition300px': 1, '100px': 8, 'icowm03backgroundposition100px': 1, 'icowm04backgroundposition200px': 1, 'icowm07backgroundposition300px': 1, '200px': 13, 'icowm10backgroundposition100px': 1, 'icowm10backgroundposition200px': 1, 'icowm11backgroundposition300px': 1, 'icowm17backgroundposition100px': 1, 'icowm18backgroundposition200px': 1, 'icowm19backgroundposition300px': 1, 'infotemperdisplayblockoverflowhiddenheight32pxmargin19px': 1, '130pxfontfamilytahomaarialsansserif': 1, 'infotemper': 13, 'imgweatherfloatleftwidth22pxheight32pxmargin0': 1, 'num0backgroundposition260px': 1, 'num1backgroundposition260px': 1, '40px': 8, 'num2backgroundposition260px': 1, '80px': 9, 'num3backgroundposition260px': 1, 'num4backgroundposition260px': 1, '160px': 4, 'num5backgroundposition260px': 1, 'num6backgroundposition260px': 1, 'num7backgroundposition260px': 1, '280px': 1, 'num8backgroundposition260px': 1, '320px': 1, 'num9backgroundposition260px': 1, 'icominuswidth22pxheight32pxbackgroundposition260px': 1, '400px': 2, 'icodegreewidth39pxheight32pxbackgroundposition210px': 1, 'statedescdisplayblockoverflowhiddenmargin7px': 1, '130pxlineheight16px': 1, 'statedesc': 4, 'icodegreefloatleftwidth14pxheight12pxmargin3px': 1, '0backgroundposition240px': 1, '208px': 1, 'txtdescfloatleftmarginright2px': 1, 'layerfootoverflowhiddenbordertop1px': 1, 'linkstatefloatleftoverflowhiddenwidth50height39pxcolor101010textdecorationnone': 1, 'infowmoverflowhiddenheight22pxpaddingtop8pxlineheight21px': 1, 'infowm': 5, 'dtfloatleftpaddingright9px': 1, 'ddfloatleft': 1, 'imgweatherdisplayinlineblockverticalaligntop': 1, 'infodustpaddingleft18px': 1, 'icodustwidth20pxheight20pxmargintop3pxmarginright6pxbackgroundposition140px': 1, 'icoairwidth21pxheight21pxmargin1px': 1, '7px': 7, '2pxbackgroundposition140px': 1, '264px': 1, 'stategoodcolor0078ff': 1, 'statenormalcolor27aa1d': 1, 'statebadcolorfecc3d': 1, 'stateworstcolore30000': 1, 'btnclosepositionabsolutetop18pxright18pxwidth16pxheight16pxbackgroundposition0': 2, 'txtplacemargintop20pxlineheight18px': 1, 'infotempermargintop15px': 1, 'statedescmargintop10px': 1, 'icodegreemargintop1px': 1, 'infowmpaddingtop11px': 1, 'icodustmargintop0': 1, 'icoairmargintop2px': 1, 'todaylayerdisplayblock': 1, 'adverttmpfloatleftpositionrelativewidth655pxheight120pxmarginright35px': 1, 'adverttmp': 1, 'bglinepositionabsolutetop0left0zindex1width653pxheight118pxborder1px': 1, 'advertstationdisplayinlineblockpositionrelativewidth300pxheight150pxmargintop15pxfontsize0lineheight0verticalaligntop': 1, 'advertstation': 1, 'bglinepositionabsolutetop0left0zindex1width298pxheight148pxborder1px': 1, 'boxshoppingdisplayinlineblockpositionrelativewidth300pxheight1177pxmargintop15pxverticalaligntop': 1, 'boxshopping': 2, 'bgline1positionabsolutetop0left0zindex1width298pxheight775pxborder1px': 1, 'bgline2positionabsolutetop792pxleft0zindex1width298pxheight383pxborder1px': 1, 'advertsvcbnrmargintop15px': 1, 'advertsvcbnr': 2, 'linkbnrdisplayblockpositionrelativeheight60px': 1, 'framegwidth298pxheight58px': 1, 'advertbnrmargintop15px': 1, 'advertbnr': 2, 'linkbnrdisplayblockoverflowhiddenpositionrelativeheight143px': 1, 'framegwidth298pxheight141px': 1, 'wraptiercontpositionrelativezindex99width990pxmargin0': 1, 'logintmpfloatrightpositionrelativezindex0width300pxheight120pxletterspacing1px': 1, 'loginmyzindex10backgroundurlt1daumcdnnetdaumtopdecoimagestop2017bgpctop170328png': 1, 'loginmy': 22, 'wrapmywidth285pxheight45pxpadding15px': 1, 'infomyfloatleftpadding1px': 1, 'relmyfloatrightpaddingright15px': 1, 'nameuserfloatleftmarginright4pxfontweightbold': 1, 'linkmyinfofloatleftfontsize11pxmargin2px': 1, '0lineheight14pxcolor555textdecorationunderline': 1, 'linkssopositionabsolutetop41pxleft15pxwidth68pxheight22pxfontsize11pxlineheight22pxbackgroundposition100px': 1, '235pxwhitespacenowrap': 2, 'linkssoingbackgroundposition100px': 1, '205px': 1, 'linkssohelppositionabsolutetop41pxleft85pxwidth6pxheight22pxpadding0': 1, '6pxfontsize12pxlineheight22pxbackgroundposition180px': 1, 'layerssopositionabsolutetop77pxleft0zindex11width298pxheight82pxborder1px': 1, '118effbackgroundcolorfff': 1, 'layersso': 4, 'boxhelpdisplaytablewidth100height100': 1, 'txthelpdisplaytablecellpadding0': 1, '2pxfontsize12pxlineheight16pxcolor555verticalalignmiddle': 1, 'btnclosepositionabsolutetop5pxright5pxwidth21pxheight21pxpadding0': 1, '6pxbackgroundposition210px': 1, '235px': 1, 'linkempathyfloatleftmargin5px': 1, '0fontsize11pxlineheight14pxcolor5b6473': 1, 'btnlogoutfloatleftwidth56pxheight24pxfontsize11pxlineheight24pxbackgroundposition180px': 1, '30pxbackgroundcolortransparent': 1, 'listbasisoverflowhiddenpositionabsolutetop43pxright9pxheight30pxletterspacing012em': 1, 'listbasis': 6, 'lifloatleftpaddingright8pxlineheight15px': 1, 'linkbasisfloatleftfontsize12pxcolor555': 1, 'numbasismarginleft3pxcolor118eff': 1, 'nummsgwidth30px': 1, 'linknumfontweightboldcolor118eff': 1, 'mymileage': 1, 'linkbasismarginright8px': 1, 'wrapmysvcpositionrelativezindex10width300px': 1, 'mysvclistpositionrelativewidth300pxheight43px': 1, 'listmysvcdisplayinlineblockpositionrelativewidth300pxheight43pxverticalaligntopletterspacing1px': 1, 'listmysvc': 13, 'lipositionrelativefloatleftwidth100pxheight43px': 1, 'linkmysvcdisplayblockoverflowhiddenheight31pxpaddingtop12pxfontsize12pxlineheight18pxtextaligncentercolor555': 1, 'linkmysvchovertextdecorationnone': 1, 'cafeg': 5, 'linkmysvcheight30pxpaddingtop13pxlineheight16px': 1, 'txtmysvcdisplayinlineblockheight26pxcolor555verticalaligntop': 1, 'txtmysvcpaddingleft24pxbackgroundposition0': 1, 'stockg': 1, 'txtmysvcpaddingleft27pxbackgroundposition0': 1, '109px': 1, 'blogg': 1, 'txtmysvcpaddingleft29pxbackgroundposition0': 1, '139px': 1, 'iconewdisplaynonewidth11pxheight11pxmargin5px': 1, '4pxbackgroundposition160px': 1, '80pxtextindent9999pxverticalaligntop': 1, 'newg': 1, 'iconewdisplayinlineblock': 1, 'iconewmargintop4px': 2, 'mycafeonbackgroundurlt1daumcdnnetdaumtopdecoimagestop2017bgpctop170328png': 1, '310px': 15, 'mystockonbackgroundurlt1daumcdnnetdaumtopdecoimagestop2017bgpctop170328png': 1, '50px': 2, 'myblogonbackgroundurlt1daumcdnnetdaumtopdecoimagestop2017bgpctop170328png': 1, 'layermycontpositionabsolutetop120pxleft0width300pxheight353pxbackgroundposition0': 1, '130px': 11, 'layermycont': 2, 'btnclosepositionabsolutetop320pxright0width46pxheight32pxpadding3px': 1, '4pxfontsize11pxlineheight18pxcolor888': 1, 'txthelppaddingtop2pxpaddingbottom0': 1, 'logintmpletterspacing0': 1, 'infomypaddingtop4px': 1, 'nameusermarginright7px': 1, 'linkprivacymargintop0': 1, 'listbasistop45pxright6pxletterspacing0': 1, 'lipaddingright9px': 1, 'linkmysvclineheight21px': 1, 'linkmysvclineheight20px': 1, 'iconewmargintop3px': 1, 'btnclosepaddingtop5px': 1, 'panelblocpositionrelativepaddingtop61px': 1, 'tittabcontpositionabsolutetop15pxfontsize16px': 1, 'tittabcont': 1, 'linktitdisplayblockheight36pxlineheight36pxbackgroundcolortransparenttextaligncenter': 1, 'wraptabcontdisplaynonewidth655px': 1, 'icoviewoverflowhiddenpositionabsoluteright8pxbottom8pxwidth23pxheight23pxbackgroundposition40px': 1, '0textindent9999pxcursorpointer': 3, 'icovideooverflowhiddenpositionabsoluteright8pxbottom8pxwidth23pxheight23pxbackgroundposition70px': 1, 'icoliveoverflowhiddenpositionabsoluteright8pxbottom8pxwidth23pxheight23pxbackgroundposition130px': 1, 'colorg1colore30000': 1, 'colorg2color118eff': 1, 'icolabeloverflowhiddenpositionabsolutetop15pxleft15pxheight22pxpadding0': 1, '8pxfontsize11pxlineheight19pxcolorfffbackgroundcolor118eff': 1, 'icolabel2overflowhiddenpositionabsolutetop0left0height20pxpadding0': 1, '7pxfontsize11pxlineheight17pxcolorfffbackgroundcolorrgba00006filterprogidDXImageTransformMicrosoftgradientstartColorstr99000000endColorstr99000000GradientType0': 1, 'icolabel3overflowhiddenpositionabsolutetop15pxleft15pxheight22pxpadding0': 1, '8pxfontsize11pxlineheight19pxcolorfffbackgroundcolore8493d': 1, 'icolabelosmac': 1, 'icolabel3lineheight23px': 1, 'icolabel2lineheight21px': 1, 'taglivewidth30pxheight15pxbackgroundposition120px': 1, '70px': 3, 'tagnewwidth31pxheight15pxbackgroundposition120px': 1, '90px': 3, 'tageventwidth40pxheight15pxbackgroundposition120px': 1, '110px': 4, 'tagissuewidth37pxheight15pxbackgroundposition120px': 1, 'pagepctoppositionabsolutewidthautoheight16px': 1, 'pagepctop': 13, 'btnpagefloatleftwidth16pxheight16pxlineheight16pxbackgroundcolortransparentbackgroundposition210px': 1, 'btnnextwidth15pxbackgroundposition226px': 2, 'infopagefloatleftpadding2px': 1, '0fontsize12pxlineheight16pxcolor555fontfamilytahomaarialsansserif': 1, 'infopage': 1, 'txtslashpadding0': 1, 'infopagelineheight16pxfontfamilyhelveticaarialsansserif': 1, 'pagebtypetop20pxright0height26px': 1, 'pagebtype': 4, 'btnpagewidth26pxheight26pxlineheight26pxbackgroundposition110px': 1, '170pxtextindent10px': 1, 'btnnextwidth25pxbackgroundposition136px': 1, '170px': 4, 'infopagepaddingtop1pxpaddingright8pxfontsize14pxlineheight22px': 1, 'infopagelineheight24px': 1, 'pagetabcontpositionabsolutezindex1top16pxleft30pxcursorpointer': 1, 'pagetabcont': 2, 'btnpageoverflowhiddenfloatleftwidth7pxheight7pxmargin9px': 1, '0fontsize10pxlineheight7pxbackgroundposition100px': 1, '170pxbackgroundcolortransparent': 1, 'onpositionrelativebackgroundposition100px': 1, '177px': 1, 'listthumboverflowhidden': 1, 'listthumb': 12, 'lifloatleftwidth154pxheight146pxmarginleft13px': 1, 'fstmarginleft0': 2, 'linkitemdisplayblock': 1, 'thumbgwidth154pxheight94px': 2, 'framegwidth152pxheight92px': 3, 'contitempadding4px': 2, 'tititemdisplayblockoverflowhiddenmaxheight36pxpaddingright12pxfontweightnormallineheight18pxwordbreakkeepallwordwrapbreakword': 2, 'contitempaddingtop6px': 3, 'tititempaddingright14px': 3, 'listtxtfloatleft': 1, 'listtxt': 13, 'lioverflowhiddenheight20pxpadding4px': 1, '2pxwhitespacenowraptextoverflowellipsis': 1, 'icopctopdisplayinlineblockmargin3px': 1, '0textindent9999pxverticalaligntop': 3, 'splittxtpaddingleft10pxmarginleft10pxcolor888backgroundurlt1daumcdnnetdaumtopdecoimagestop2017icopctopvert170724png': 1, '46px': 1, 'splittxthovercolor118eff': 1, 'partmidpaddingtop18pxlineheight16px': 1, 'splitpartdisplayinlineblockoverflowhiddenverticalaligntop': 1, 'splitpart': 3, 'linktxtmarginright3px': 1, 'splitfstfloatleftoverflowhiddenmaxwidth222pxtextoverflowellipsis': 1, 'lilineheight20px': 1, 'splittxtbackgroundposition0': 1, '49px': 1, 'partmidlineheight22px': 1, 'splitpartletterspacing003em': 1, 'linktxtmarginright7px': 1, 'liststxtmargintop7px': 1, 'liststxt': 2, 'lioverflowhiddenpaddingbottom4pxlineheight19pxwhitespacenowraptextoverflowellipsis': 1, 'txtmarkfontsize12pxcolor888': 2, 'linksectordisplayblockpositionrelativezindex0width321pxheight131px': 1, 'linksector': 11, 'framegwidth319pxheight129px': 1, 'contitempositionabsoluteright0left0bottom0width100height100pxbackgroundurlt1daumcdnnetdaumtopdecoimagestop2017bgplate2png': 1, '100': 5, 'tititemoverflowhiddenpositionabsoluteleft0bottom13pxright0padding0': 1, '15pxfontweightnormalfontsize14pxlineheight20pxcolorfff': 1, 'icolabel': 1, 'icolabel2': 1, 'icolabel3': 1, 'icopctopzindex1': 1, 'tititembottom10px': 2, 'listranking': 16, 'liheight20pxpaddingbottom5px': 1, 'linkrankingdisplayblockoverflowhiddenlineheight18px': 1, 'txtrankingoverflowhiddenfloatleftwidth288pxwhitespacenowraptextoverflowellipsis': 1, 'linkrankinghover': 2, 'txtrankingtextdecorationunderline': 1, 'numpctopfloatleftwidth16pxheight16pxmargin3px': 2, 'num1backgroundposition0': 3, 'num2backgroundposition0': 3, 'num3backgroundposition0': 3, 'num4backgroundposition0': 2, 'num5backgroundposition0': 2, 'numpctopmargintop0': 3, 'lilineheight22px': 1, 'boxstoryoverflowhiddenborder1px': 1, 'ecececbackgroundcolorfbfbfc': 2, 'boxstory': 5, 'titsubjectoverflowhiddenmargintop7pxfontsize13px': 1, 'titsubject': 2, 'linktitfloatleftpaddingright9pxbackgroundposition100': 1, 'titsubjectmargintop10px': 1, 'linktitbackgroundposition100': 1, 'liststxtmargintop10px': 1, 'sectionmediapositionrelative': 1, 'sectionmedia': 4, 'pagebtypetop15px': 1, 'panelblocpadding57px': 1, '25px': 1, 'tittabconttop11pxleft0': 1, 'panelbloc': 50, 'titnewsleft5px': 1, 'titentertainleft55px': 1, 'titsportsleft94px': 1, 'titmovieleft147px': 1, 'titautoleft186px': 1, 'titrealestateleft240px': 1, 'titnews': 2, 'linktitwidth36pxbackgroundposition0': 2, 'titentertain': 2, 'linktitwidth36pxbackgroundposition36px': 1, 'titsports': 2, 'linktitwidth50pxbackgroundposition72px': 1, 'titmovie': 2, 'linktitwidth36pxbackgroundposition122px': 1, 'titauto': 2, 'linktitwidth51pxbackgroundposition158px': 1, 'titrealestate': 2, 'linktitwidth48pxbackgroundposition209px': 1, 'newson': 2, 'linktitbackgroundposition0': 3, '166px': 6, 'entertainon': 2, 'linktitbackgroundposition36px': 2, 'sportson': 2, 'linktitbackgroundposition72px': 1, 'movieon': 2, 'linktitbackgroundposition122px': 1, 'autoon': 2, 'linktitbackgroundposition158px': 1, 'realestateon': 2, 'linktitbackgroundposition209px': 1, 'wrapnews': 8, 'wrapentertain': 1, 'wrapsports': 1, 'wrapmovie': 1, 'wrapauto': 1, 'wraprealestatedisplayblock': 1, 'wraptabcontheight480px': 1, 'groupnewsdisplayinlineblockheight292pxverticalaligntop': 1, 'newsprimeheight438px': 1, 'newsprime': 2, 'listtxtwidth316pxpaddingleft4px': 1, 'tititemwordbreaknormal': 1, 'boxsectoroverflowhiddenfloatleftwidth321pxmarginright13px': 1, 'boxsector': 4, 'listthumbwidth334pxmarginleft13px': 1, 'linksectormarginbottom15px': 1, 'newsflowoverflowhiddenpositionrelativeheight40pxborder1px': 1, 'ecececlineheight35pxbackgroundcolorfbfbfb': 1, 'unithomefloatleftpaddingleft12px': 1, 'unithome': 7, 'tithomefloatleftmarginright10px': 1, 'tithome': 2, 'linkhomepaddingright7pxbackgroundposition100': 1, '6px': 3, 'listhomefloatleft': 1, 'listhome': 2, 'lifloatleftpadding0': 1, 'linkhomecolor555': 1, 'linkhomehovercolor118eff': 1, 'unitlivefloatleftpaddingleft25px': 1, 'unitlive': 3, 'icopctopfloatleftmargin12px': 1, '0textindent9999px': 2, 'linklivemarginright5pxcolor555': 1, 'linklivehovercolor118eff': 1, 'newsflow': 1, 'linkhashpadding0': 1, '7pxcolor118eff': 1, 'newsflowlineheight40px': 1, 'linkhomepaddingright9pxbackgroundposition100': 1, 'boxissuefloatleftpositionrelativemarginright13px': 1, 'boxissue': 8, 'linkissuedisplayblockoverflowhiddenpositionrelativewidth321pxheight277px': 1, 'covergpositionabsoluteleft0bottom0width100height132pxbackgroundurlt1daumcdnnetdaumtopdecoimagestop2017bgplate8png': 1, 'framegwidth319pxheight275px': 1, 'icolabelheight27pxfontsize14pxlineheight25pxbackgroundcolorrgba171422559': 1, 'contitemoverflowhiddenpositionabsoluteright0bottom14pxleft0': 1, 'contitem': 2, 'tititemdisplayblockoverflowhiddenmaxheight44pxpadding0': 1, '16pxfontweightnormalfontsize16pxlineheight22pxcolorfff': 1, 'icolabellineheight29px': 1, 'contitembottom10px': 1, 'specialissue': 7, 'titissueoverflowhiddenpositionabsolutetop25pxleft21pxmaxheight60pxpaddingright20pxfontsize22pxcolorfff': 1, 'contitembottom12px': 1, 'listitempadding0': 1, 'listitem': 4, 'lioverflowhiddenmargintop3pxfontsize14px': 1, 'fstfontsize16pxlineheight26px': 1, 'linkitemdisplayblockoverflowhiddencolorfffwhitespacenowraptextoverflowellipsis': 1, 'fstlineheight23px': 1, 'newsprimefloatleftwidth501pxheight438px': 1, 'newsflowclearboth': 1, 'boxsectorwidth154px': 1, 'listthumbwidthautomarginleft0': 1, 'lifloatnonemarginleft0': 1, 'linksectorwidth154pxheight277pxmarginbottom0': 1, 'framegwidth152pxheight275px': 1, 'rankingnewsoverflowhiddenpositionrelativeheight148pxpadding0': 1, '148px': 1, 'ranknewstitpositionabsolutetop3pxleft0width148px': 1, 'ranknewstit': 2, 'titrankingfloatleftlineheight17pxcolor118eff': 1, 'linktitcolor118eff': 1, 'helppartdisplayinlinefloatleftmargin3px': 1, 'helppart': 1, 'linkhelpdisplayblockwidth31pxheight15pxfontsize11pxbackgroundcolortransparentbackgroundposition0': 1, '265px': 1, 'helplayeroverflowhiddenpositionabsolutetop27pxleft0width126pxheight48pxborder1px': 1, '888backgroundcolorfbfbfb': 1, 'helplayer': 2, 'txthelppadding8px': 1, '13px': 7, '13pxfontsize11pxlineheight15pxcolor888': 1, 'btnclosepositionabsolutetop8pxright8pxwidth16pxheight16pxbackgroundposition0': 1, 'rankingnews': 2, 'listrankingmargintop3px': 1, 'tabrankingpositionabsolutetop30pxleft0width64px': 1, 'tabranking': 6, 'limarginbottom3px': 2, 'linktabdisplayinlineblockoverflowhiddenfontweightboldlineheight16pxcolor888': 1, 'on': 6, 'linktabcolor222textdecorationunderline': 1, 'icopctopfloatleftwidth6pxheight6pxmargin6px': 1, '0backgroundposition100px': 1, '190px': 1, 'contrankingdisplaynoneoverflowhidden': 1, 'contrankingondisplayblock': 1, 'helppartmargintop0': 1, 'helplayertop25px': 1, 'ranknewstittop6px': 1, 'listrankingmargintop5px': 1, 'tabrankingtop33px': 1, 'limarginbottom1px': 1, 'icopctopmargintop4px': 1, 'castsportspositionrelativewidth321pxmarginbottom15px': 1, 'castsports': 8, 'headcastheight35pxborder1px': 1, 'titcastmargin6px': 1, '11pxfontsize13px': 1, 'pagepctoptop11pxright14pxbottomauto': 1, 'btnpagewidth16pxheight16pxlineheight16pxbackgroundposition210px': 1, 'linkmorepositionabsolutetop9pxright13pxpaddingright7pxfontsize11pxcolor888backgroundposition100': 1, 'listrelayborder1px': 1, 'ecececbordertop0': 1, 'listrelay': 33, 'lioverflowhidden': 1, 'linkrelayhovercolor222textdecorationnone': 1, 'txtteamoverflowhiddenfontsize12pxlineheight26pxwhitespacenowraptextoverflowellipsis': 1, 'txttimefloatleftfontsize11pxfontfamilytahomaarialsansserifletterspacing0': 1, 'txtleaguefloatleftpaddingleft3pxfontsize11pxcolor888': 1, 'txtscore': 13, 'innerscoredisplayinlineblockverticalaligntop': 1, 'numpctopfloatleftwidth11pxheight16pxbackgroundcolortransparent': 1, 'num0backgroundposition60px': 1, 'num1backgroundposition60px': 1, 'num2backgroundposition60px': 1, 'num3backgroundposition60px': 1, 'num4backgroundposition60px': 1, 'num5backgroundposition60px': 1, 'num6backgroundposition60px': 1, 'num7backgroundposition60px': 1, '140px': 3, 'num8backgroundposition60px': 1, 'num9backgroundposition60px': 1, 'numnonebackgroundposition60px': 1, 'tagcastwidth56pxheight15pxfontsize11pxbackgroundcolortransparenttextaligncenter': 1, 'cast1backgroundposition0': 1, 'cast2backgroundposition0': 1, 'cast3backgroundposition0': 1, 'cast4backgroundposition0': 1, 'cast5backgroundposition0': 1, '150px': 5, 'cast6backgroundposition60px': 1, 'cast7backgroundposition60px': 1, 'cast8backgroundposition60px': 1, 'cast9backgroundposition60px': 1, 'titcastmargin9px': 1, 'linkmoretop11pxbackgroundposition100': 1, 'txttimefontfamilyhelveticaarialsansserif': 1, 'relaygeneralheight93px': 1, 'relaygeneral': 9, 'linkrelayoverflowhiddenfloatleftpositionrelativewidth147pxheight84pxpadding9px': 1, '11pxborderleft1px': 1, 'f5f5f5': 2, 'linkrelayfstwidth146pxpaddingleft12pxborderleft0': 1, 'eventteamoverflowhiddenpositionabsoluteleft11pxtop57pxright0height25px': 1, 'eventteamfstleft11pxtop30px': 1, 'eventteam': 6, 'imgthumbfloatleft': 1, 'txtteamfloatleftwidth69pxlineheight22pxmargin0': 1, 'txtscorefloatleftwidth33pxmargintop5pxtextalignright': 1, 'tagcastfloatrightmargin1px': 1, 'relayspecial': 14, 'linkrelaydisplayblockoverflowhiddenpositionrelativeheight47pxbordertop1px': 1, 'linkrelayfstbordertop0': 1, 'eventteamoverflowhiddenpositionabsoluteleft159pxtop0width52pxheight47pxpaddingleft107px': 1, 'imgthumbpositionabsolutetop10pxright53px': 1, 'txtteamfloatleftwidth45pxmargin8px': 1, 'txtscorepositionabsolutetop15pxleft38pxwidth33pxtextaligncenter': 1, 'eventteamfstleft0width53pxpadding0': 1, '106px': 1, 'eventteamfst': 3, 'txtscoreleft89px': 1, 'imgthumbleft53pxrightauto': 1, 'txtteamtextalignright': 1, 'txttimedisplayblockfloatnonemargintop3pxtextaligncenter': 1, 'tagcastdisplayblockmargin2px': 1, 'linkviewwidth158pxheight66pxpadding27px': 1, '0fontsize12pxcolor888textaligncenter': 1, 'linkviewhovercolor888textdecorationnone': 1, 'linkview': 1, 'txtviewdisplayblockcolor118efftextdecorationunderline': 1, 'txtteamlineheight27px': 1, 'txtteammargintop12px': 1, 'txttimemargintop5px': 1, 'linkviewheight63pxpaddingtop30px': 1, 'boxspecialoverflowhiddenpositionrelativezindex0width641pxheight93pxmarginbottom15pxpadding36px': 1, '12pxborder1px': 1, 'boxspecial': 14, 'titspecialpositionabsolutetop7pxleft12pxfontsize13px': 1, 'linkspecialmarginright3px': 1, 'linkspecial2color888': 1, 'packslideoverflowhidden': 1, 'pagepctoptop8pxright12pxheight19px': 1, 'btnpagewidth19pxheight19pxlineheight19pxbackgroundposition40px': 1, 'btnnextwidth18pxbackgroundposition59px': 1, 'infopagecolor888': 1, 'numindexfontweightnormal': 1, 'linkbannerfloatleftpositionrelativewidth308pxheight80pxmarginleft5px': 1, 'linkbanner': 1, 'framegwidth306pxheight78px': 1, 'bannerwidewidth419pxheight80pxmarginleft11px': 1, 'bannerwide': 1, 'framegwidth417pxheight78px': 1, 'listspecialfloatleft': 1, 'listspecial': 8, 'lifloatleft': 2, 'linkthumbfloatleftpositionrelative': 1, 'linkthumb': 10, 'framegwidth54pxheight78px': 1, 'numgpositionabsolutetop0left0width16pxheight16pxfontsize11pxlineheight16pxcolorffffontfamilytahomaarialsansseriftextaligncenter': 1, 'continfooverflowhiddenwordbreakkeepall': 1, 'titinfodisplayblockoverflowhiddenmaxheight33pxfontweightnormalfontsize13pxlineheight17pxwordbreakbreakall': 1, 'txtinfodisplayblockoverflowhiddenfontsize12pxlineheight16pxcolor888whitespacenowraptextoverflowellipsis': 1, 'listmovie1': 9, 'liwidth146pxpaddingright12px': 2, 'numgbackgroundposition20px': 2, 'numpointbackgroundposition0': 2, 'continfopositionrelativepadding36px': 1, '9px': 2, 'titinfopositionabsolutetop0left9px': 1, 'txtinfofloatleftwidth100letterspacing0': 1, 'gradestardisplayblockoverflowhiddenpositionrelativewidth62pxheight12pxbackgroundposition40px': 1, 'innerstarpositionabsolutetop0left0widthautoheight12pxfontsize0lineheight0backgroundposition40px': 1, '50pxtextindent9999px': 1, 'listmovie2': 6, 'continfopadding0': 1, 'titinfomargin2px': 1, 'txtinfomaxheight31pxwhitespacenormal': 1, 'listmovie3': 10, 'limarginleft10px': 1, 'lifstmarginleft0': 2, 'linkthumbwidth203pxheight80px': 1, 'framegwidth201pxheight78px': 1, 'icoplaypositionabsoluteright10pxbottom10pxwidth22pxheight22pxfontsize0lineheight0backgroundposition100px': 1, 'continfopositionabsolutetop38pxleft0width152pxpadding0': 1, '10pxcolorfff': 1, 'txtinfocolorfff': 1, 'titinfodisplayinline': 1, 'txtruntimedisplayblockoverflowhiddenfontsize11pxlineheight13pxfontfamilytahomaarialsansserifwhitespacenowraptextoverflowellipsisletterspacing0': 1, 'listauto': 8, 'liwidth199pxpaddingleft10pxborderleft1px': 1, 'lifstpaddingleft0borderleft0': 1, 'linkthumbwidth120pxheight80px': 1, 'continfopadding13px': 1, 'titinfomarginbottom2px': 1, 'listrealestate': 8, 'liwidth203pxmarginleft8px': 1, 'linkthumbwidth110pxheight80px': 1, 'framegwidth108pxheight78px': 1, 'continfopaddingleft8px': 1, 'titinfomargintop2pxmarginbottom4px': 1, 'txtinfomargintop2pxlineheight14px': 1, 'titspecialtop10px': 1, 'numgfontfamilyhelveticaarialsansserif': 1, 'gradestarmarginbottom3px': 1, 'continfopaddingtop1px': 1, 'titinfomargintop0': 1, 'txtruntimemarginbottom2pxfontfamilyhelveticaarialsansserif': 1, 'continfopaddingtop16px': 1, 'titinfomargintop1pxlineheight16px': 1, 'listhotissueoverflowhiddenpositionrelativewidth180pxheight280px': 1, 'listhotissue': 33, 'lioverflowhiddenpositionrelativewidth100height20pxmarginbottom8px': 1, 'rolltxtpositionrelative': 1, 'rankcontoverflowhiddenpositionrelativeheight20px': 1, 'numpctopfloatleftwidth16pxheight16pxmargintop1pxfontsize12pxlineheight17pxfontfamilytahomaarialsansserifbackgroundcolortransparenttextaligncenter': 1, 'rank1backgroundposition20px': 1, 'rank2backgroundposition0': 1, 'rank3backgroundposition0': 1, 'rank4backgroundposition0': 1, 'rank5backgroundposition0': 1, 'rank6backgroundposition0': 1, 'rank7backgroundposition0': 1, 'rank8backgroundposition0': 1, 'rank9backgroundposition0': 1, 'rank10backgroundposition0': 1, 'txtissueoverflowhiddenfloatleftwidth119pxpaddingleft6pxlineheight15px': 1, 'linkissuedisplayblockoverflowhiddenpaddingbottom1pxwhitespacenowraptextoverflowellipsis': 1, 'rankresultfloatrightmargin1px': 1, '0fontweightnormalfontsize13pxlineheight14pxcolor888fontfamilytahomaarialsansserifbackgroundcolortransparentletterspacing005em': 1, 'rankresult': 1, 'icopctopdisplayinlineblockbackgroundcolortransparentverticalaligntop': 1, 'icoupwidth11pxheight14pxmarginright3pxbackgroundposition120px': 1, 'icodownwidth11pxheight14pxmarginright3pxbackgroundposition140px': 1, 'icosteadywidth11pxheight6pxmargin5px': 1, '0lineheight10pxbackgroundposition160px': 1, 'iconewwidth27pxheight12pxmargin2px': 1, '0backgroundposition120px': 1, 'txtissuelineheight20px': 1, 'rankresultlineheight16pxfontfamilyhelveticasansserif': 1, 'hotissuepositionabsolutetop19pxright90pxzindex1': 1, 'hotissueminioverflowhiddenpositionrelativewidth161pxheight20pxbackgroundcolorfff': 1, 'hotissuemini': 17, 'listhotissuewidth117px': 1, 'txtissuewidth95px': 1, 'txtrealtimefloatleftwidth44pxheight18pxlineheight18pxbackgroundposition325px': 1, '80pxbackgroundcolortransparenttextaligncenter': 1, 'rank2backgroundposition20px': 1, 'rank3backgroundposition20px': 1, 'rank4backgroundposition20px': 1, 'rank5backgroundposition20px': 1, 'rank6backgroundposition20px': 1, 'rank7backgroundposition20px': 1, 'rank8backgroundposition20px': 1, 'rank9backgroundposition20px': 1, 'rank10backgroundposition20px': 1, 'hotissuelayerdisplaynonepositionabsolutetop38pxright90pxwidth198pxheight384pxpaddingleft20pxborder1px': 1, 'hotissuelayer': 4, 'tithotissuepositionstaticwidth104pxheight34pxmargin10px': 1, '0fontsize13pxlineheight34pxbackgroundposition210px': 1, '80pxbackgroundcolortransparenttextindent0': 1, 'txtstandarddisplayblockpositionstaticwidthautoheightautomargintop5pxfontsize12pxlineheight14pxcolor888textindent0letterspacing0': 1, 'txtstandardmargintop8px': 1, 'issueopen': 1, 'hotissuelayerdisplayblock': 1, 'hotissuebuiltinpositionabsolutetop57pxright0width153pxheight424pxborderleft1px': 1, 'realtimepartheight292pxmarginleft14px': 1, 'realtimepart': 5, 'tithotissuepadding2px': 1, '6pxfontsize13pxcolor118eff': 1, 'listhotissuewidth138pxheight240px': 1, 'liwidth138pxmarginbottom4px': 1, 'txtissuewidth114px': 1, 'tithotissuepadding5px': 1, 'stockpartheight102pxmarginleft15px': 1, 'stockpart': 11, 'linkstockdisplayblockheight40pxmarginbottom8px': 1, 'linkstockhovercolor222textdecorationnone': 1, 'titstockdisplayblockmarginbottom1pxfontweightboldfontsize13pxlineheight15px': 1, 'numstockfontweightnormalfontsize14pxfontfamilytahomaarialsansserifletterspacing003em': 1, 'numstatuspaddingleft3pxfontsize12pxletterspacing0': 1, 'numstatus': 4, 'icoarrowdisplayinlineblockwidth9pxheight10pxmargin8px': 1, '0fontsize0lineheight0textindent9999pxverticalaligntop': 1, 'stockup': 2, 'numstatuscolore30000': 1, 'stockdown': 2, 'numstatuscolor118eff': 1, 'icoarrowbackgroundposition120px': 1, 'icoarrowbackgroundposition130px': 1, 'stockstay': 1, 'icoarrowbackgroundposition140px': 1, 'relpartoverflowhiddenwidth136pxheight28pxmarginleft14pxborder1px': 1, 'relpart': 3, 'itemreldisplayblockwidth139pxheight28px': 1, 'linkrelfloatleftwidth45pxheight28pxborderright1px': 1, 'ecececfontsize12pxlineheight26pxcolor888textaligncenter': 1, 'linkrellineheight29px': 1, 'sectionmultipositionrelativebordertop1px': 1, 'sectionmulti': 1, 'wraptabcontheight157px': 1, 'titkakaotv': 2, 'linktitwidth82pxbackgroundposition380px': 1, 'kakaotvon': 2, 'linktitbackgroundposition380px': 1, 'wrapkakaotv': 2, 'melonon': 1, 'wrapmelondisplayblock': 1, 'tabmultipositionabsolutetop14pxleft90pxheight36px': 1, 'tabmulti': 4, 'lidisplayinlinefloatleftmarginleft13px': 1, 'linktitdisplayblockoverflowhiddenheight36pxfontweightboldlineheight33pxcolor888textdecorationnone': 1, 'linktitcolor222textdecorationunderline': 1, 'linktitlineheight38px': 1, 'boximgspefloatleftmarginright13px': 1, 'boximgspe': 1, 'icolabelboximgspe': 1, 'icolabel3fontsize12px': 1, 'icovideobackgroundposition0': 1, 'sectionblogpositionrelativebordertop1px': 1, 'sectionblog': 2, 'wraptabcontoverflowhiddenheight179px': 1, 'titcafeleft5px': 1, 'titmiznetleft34px': 1, 'titkakaostoryleft87px': 1, 'tittistoryleft178px': 1, 'titbrunchleft243px': 1, 'titilboonleft296px': 1, 'titstoryfundingleft349px': 1, 'titcafe': 2, '220px': 8, 'titmiznet': 2, 'linktitwidth50pxbackgroundposition36px': 1, 'titkakaostory': 2, 'linktitwidth88pxbackgroundposition86px': 1, 'tittistory': 2, 'linktitwidth62pxbackgroundposition174px': 1, 'titbrunch': 2, 'linktitwidth50pxbackgroundposition236px': 1, 'titilboon': 2, 'linktitwidth50pxbackgroundposition286px': 1, 'titstoryfunding': 2, 'linktitwidth74pxbackgroundposition336px': 1, 'cafeon': 2, '256px': 7, 'mizneton': 2, 'kakaostoryon': 2, 'linktitbackgroundposition86px': 1, 'tistoryon': 2, 'linktitbackgroundposition174px': 1, 'brunchon': 2, 'linktitbackgroundposition236px': 1, 'ilboonon': 2, 'linktitbackgroundposition286px': 1, 'storyfundingon': 2, 'linktitbackgroundposition336px': 1, 'wrapmiznet': 1, 'wrapcafe': 1, 'wrapkakaostory': 1, 'wraptistory': 1, 'wrapbrunch': 1, 'wrapilboon': 1, 'wrapstoryfundingdisplayblock': 1, 'boxstoryfloatrightwidth297pxheight152pxpadding0': 1, 'liststoryoverflowhiddenfloatleft': 1, 'liststory': 17, 'lifloatleftheight160pxmarginleft13px': 1, 'linkitemdisplayblockpositionrelativewidth154pxcursorpointer': 1, 'linkitemhovercolor222textdecorationnone': 2, 'contitemheight56pxpadding4px': 1, 'originitemdisplayblockoverflowhiddenpositionrelativemargintop4pxfontsize12pxlineheight18pxcolor888whitespacenowraptextoverflowellipsis': 1, 'originitem': 4, 'txttellerdisplayblockoverflowhiddenwhitespacenowraptextoverflowellipsis': 1, 'icostorytelleroverflowhiddenpositionabsoluteright0top4pxwidth13pxheight15pxfontsize1pxlineheight0backgroundposition170px': 1, '100pxtextindent9999px': 1, 'linkitemhover': 6, 'tititemcolor118efftextdecorationunderline': 2, 'originitemcolor888textdecorationnone': 1, 'itemtellerdisplayinlineblockmaxwidth115pxpaddingright18px': 1, 'contitemheight54pxpaddingtop6px': 1, 'icostorytellertop0': 1, 'typedesc': 8, 'linkitemwidth152pxheight152pxborder1px': 1, 'contitemheight117pxpadding7px': 1, 'tititemheightautomaxheight36px': 1, 'descitemdisplayblockoverflowhiddenmaxheight48pxpaddingtop8pxfontsize11pxlineheight16pxcolor888wordbreakkeepallwordwrapbreakword': 1, 'originitempositionabsoluteleft13pxbottom9pxright13px': 1, 'itemtellerrightautomaxwidth106px': 1, 'contitemheight96pxpaddingtop10px': 1, 'originitembottom6px': 2, 'typeimg': 10, 'thumbgzindex1height154px': 1, 'framegwidth152pxheight152px': 2, 'contitempositionabsolutetop0left0bottom0width154pxheight154pxbackgroundurlt1daumcdnnetdaumtopdecoimagestop2017bgplate6png': 1, 'tititempositionabsoluteleft13pxright13pxbottom37pxheightautomaxheight36pxpaddingright10pxcolorfff': 1, 'originitempositionabsoluteleft13pxright13pxbottom14pxcolorc9c9c9': 1, 'originitemcolorc9c9c9textdecorationnone': 1, 'tititemcolorffftextdecorationunderline': 1, 'contitemheightautopadding0': 1, 'tititembottom30px': 2, 'graphitemoverflowhiddenpositionabsolutetop74pxleft0width154px': 1, 'graphitem': 7, 'infographpositionabsoluteright10pxtop0zindex10colorfff': 1, 'infograph': 1, 'numgraphfontweightbold': 1, 'bargraphdisplayblockheight20pxbackgroundurlt1daumcdnnetdaumtopdecoimagestop2017bggraphpng': 1, 'repeat': 1, 'barsupportpositionabsoluteleft0top0height20px': 1, 'barsupport': 4, 'bgleftpositionabsoluteleft0top0right16pxheight20pxbackgroundurlt1daumcdnnetdaumtopdecoimagestop2017bargraphpng': 1, 'repeatx': 2, 'bgrightpositionabsoluteright14pxtop0width30pxheight20pxbackgroundurlt1daumcdnnetdaumtopdecoimagestop2017bargraphrightpng': 1, 'fullgraph': 3, 'barsupportwidth100backgroundurlt1daumcdnnetdaumtopdecoimagestop2017bargraphfull2png': 1, 'bgleft': 1, 'bgrightwidth0backgroundnone': 1, 'infographtop2px': 1, 'sectionchannelpositionrelativebordertop1px': 1, 'sectionchannel': 6, 'panelblocpaddingtop60px': 1, 'wraptabcontoverflowhiddenheight507px': 1, 'tithomecookingleft5px': 1, 'titmoneyleft59px': 1, 'titpetleft96px': 1, 'titwomenleft133px': 1, 'titmenleft182px': 1, 'tittravelleft212px': 1, 'titbusinessleft274px': 1, 'titmusicleft325px': 1, 'titwebtoonleft362px': 1, 'titgameleft398px': 1, 'tittogetherpanelbloc': 1, 'tittogether2left434px': 1, 'tithomecooking': 2, 'linktitwidth59pxbackgroundposition0': 1, 'titmoney': 2, 'linktitwidth37pxbackgroundposition59px': 1, 'titpet': 2, 'linktitwidth37pxbackgroundposition96px': 1, 'titwomen': 2, 'linktitwidth49pxbackgroundposition133px': 1, 'titmen': 2, 'linktitwidth30pxbackgroundposition182px': 1, 'tittravel': 2, 'linktitwidth62pxbackgroundposition212px': 1, 'titbusiness': 2, 'linktitwidth51pxbackgroundposition274px': 1, 'titmusic': 2, 'linktitwidth37pxbackgroundposition325px': 1, 'titwebtoon': 2, 'linktitwidth36pxbackgroundposition362px': 1, 'titgame': 2, 'linktitwidth36pxbackgroundposition398px': 1, 'tittogether': 2, 'linktitwidth63pxbackgroundposition434px': 1, 'tittogether2': 2, 'linktitwidth72pxbackgroundposition497px': 1, 'homecookingon': 2, '346px': 12, 'moneyon': 1, 'linktitbackgroundposition59px': 1, 'peton': 1, 'linktitbackgroundposition96px': 1, 'womenon': 1, 'linktitbackgroundposition133px': 1, 'menon': 2, 'linktitbackgroundposition182px': 1, 'travelon': 2, 'linktitbackgroundposition212px': 1, 'businesson': 2, 'linktitbackgroundposition274px': 1, 'musicon': 2, 'linktitbackgroundposition325px': 1, 'webtoonon': 2, 'linktitbackgroundposition362px': 1, 'gameon': 2, 'linktitbackgroundposition398px': 1, 'togetheron': 3, 'linktitbackgroundposition434px': 1, 'linktitbackgroundposition497px': 1, 'wraphomecookingmoneyon': 1, 'wrapmoneypeton': 1, 'wrappetwomenon': 1, 'wrapwomen': 1, 'wrapmen': 1, 'wraptravel': 1, 'wrapbusiness': 1, 'wrapmusic': 1, 'wrapwebtoon': 1, 'wrapgame': 1, 'wraptogetherdisplayblock': 1, 'boxchannelfloatleftpositionrelativewidth154pxheight159pxmargin0': 1, 'boxchannelfstmarginleft0': 1, 'boxchannel': 18, 'linkitemdisplayblockpositionrelativewidth154px': 1, 'thumbgoverflowhiddenwidth154pxheight94px': 1, 'icoadpositionabsoluteright9pxbottom9pxwidth33pxheight19pxfontsize0lineheight0backgroundposition0': 1, '40pxtextindent9999px': 1, 'tititemdisplayblockoverflowhiddenmaxheight36pxpaddingright12pxfontweightnormallineheight18pxwordwrapbreakword': 1, 'channelitemdisplayblockheight18pxpadding4px': 1, '0fontsize12pxlineheight18px': 1, 'channelitem': 2, 'linkchanneldisplayinlineblockoverflowhiddenmaxwidth124pxheight20pxlineheight18pxcolor888verticalaligntopwhitespacenowraptextoverflowellipsis': 1, 'originitemdisplayblockoverflowhiddenmargintop3pxfontsize12pxlineheight21pxcolor888whitespacenowraptextoverflowellipsis': 1, 'thumbchanneldisplayinlineblockpositionrelativemargin1px': 1, 'thumbchannel': 2, 'imgthumbborderradius18px': 1, 'bgframepositionabsolutetop0left0width18pxheight18pxbackgroundposition410px': 1, 'thumbchannelmargintop0': 1, 'linkchannellineheight20px': 2, 'typechdescbackgroundcolorfbfbfc': 1, 'typechdesc': 5, 'linkitemwidth152pxheight129pxborder1px': 1, 'ecececborderbottomwidth0': 1, 'contitemheight112pxpadding13px': 1, 'descitemdisplayblockoverflowhiddenmaxheight48pxpaddingtop8pxfontsize11pxlineheight16pxcolor888': 1, 'channelitempadding0': 1, '13pxborder1px': 1, 'ecececbordertopwidth0': 1, 'contitemheight108pxpaddingtop16px': 1, 'boximgspemarginright0': 1, 'linksectorheight159px': 1, 'framegwidth319pxheight157px': 2, 'contitemheight159pxbackgroundimageurlt1daumcdnnetdaumtopdecoimagestop2017bgplate5png': 1, 'boxchwidefloatleftpositionrelativewidth321pxheight159pxmargin0': 1, 'boxchwide': 10, 'linkitemdisplayblockoverflowhiddenpositionrelativewidth321pxheight159px': 1, 'linkitem': 6, 'thumbgzindex1width321pxheight159px': 1, 'contitempositionabsolutetop0left0width321pxheight159pxcolorfffbackgroundurlt1daumcdnnetdaumtopdecoimagestop2017bgplate5png': 1, 'tititemoverflowhiddenpositionabsoluteleft17pxbottom13pxmaxwidth284pxheight20pxfontweightnormalfontsize14pxlineheight20pxwhitespacenowraptextoverflowellipsis': 1, 'tititemhovercolorfff': 1, 'linkchanneloverflowhiddenpositionabsoluteleft16pxbottom32pxmaxwidth284pxheight20pxfontsize12pxlineheight18pxcolorfffwhitespacenowraptextoverflowellipsis': 1, 'thumbchanneldisplayinlineblockpositionrelativemarginright5pxverticalaligntop': 1, 'boxchextraoverflowhiddenfloatleftpositionrelativewidth154pxheight159pxmargin0': 1, 'boxchextra': 17, 'titchextrapositionabsolutetop14pxleft15pxright50pxzindex1fontsize11pxcolor118eff': 1, 'linkitemdisplayblockwidth154pxheight159px': 1, 'thumbgzindex1width154pxheight159px': 1, 'framegwidth152pxheight157px': 1, 'contitempositionabsolutetop0left0width154pxheight159pxbackgroundurlt1daumcdnnetdaumtopdecoimagestop2017bgplate6png': 1, 'emphextrapositionabsolutetop14pxleft15pxright15pxfontsize11pxcolor118eff': 1, 'tititempositionabsoluteleft14pxright14pxbottom34pxfontweightnormallineheight18pxcolorfff': 1, 'tititemtextdecorationunderline': 1, 'originitemdisplayinlineblockoverflowhiddenpositionabsoluteleft13pxrightautobottom8pxmaxwidth124pxfontsize12pxlineheight24pxcolorc9c9c9whitespacenowraptextoverflowellipsis': 1, 'titchextratop17px': 1, 'emphextratop17px': 1, 'originitembottom5px': 1, 'titbanneroverflowhiddenpositionabsoluteleft14pxright14pxbottom15pxfontweightnormalfontsize11pxcolorffftextdecorationunderlinetextaligncenterwhitespacenowraptextoverflowellipsis': 1, 'pagepctoptop15pxright15pxbottomauto': 1, 'btnpagewidth16pxheight16pxlineheight16pxbackgroundposition60px': 1, 'btnnextwidth15pxbackgroundposition76px': 1, 'listchbest': 9, 'lipositionrelativewidth154pxheight159px': 1, 'thumbgzindex0': 1, 'linkchbestpositionabsolutetop0left0width154pxheight120px': 1, 'titchbestoverflowhiddenpositionabsoluteleft14pxright14pxbottom0maxheight36pxfontweightnormalfontsize13pxlineheight18pxcolorfffwordbreakkeepallwordwrapbreakword': 1, 'titchbesthovertextdecorationunderline': 1, 'linkchanneloverflowhiddenpositionabsoluteleft0bottom0maxwidth124pxheight25pxpadding2px': 1, '10pxfontsize11pxlineheight23pxcolorc9c9c9whitespacenowraptextoverflowellipsis': 1, 'thumbchannelfloatleftpositionrelativemargin5px': 1, 'linkchannelpadding4px': 1, 'thumbchannelmargintop3px': 1, 'boxinfobnrfloatleftmargin0': 1, 'boxinfobnr': 15, 'linkitemdisplayblockoverflowhiddenpositionrelative': 1, 'linkitemhovercolor222': 1, 'thumbgzindex1width154pxheight154pxbackgroundcolorfff': 1, 'contitemoverflowhiddenpositionabsolutetop8pxleft13pxright7px': 1, 'tititemdisplayinlineblockoverflowhiddenmaxwidth120pxpaddingright8pxfontweightboldbackgroundposition100': 1, '7pxwhitespacenowraptextoverflowellipsisverticalaligntop': 1, 'txtinfodisplayblockoverflowhiddenmargintop2pxwhitespacenowraptextoverflowellipsis': 1, 'originitemdisplayblockoverflowhiddenmargintop2pxfontsize12pxlineheight16pxcolor888whitespacenowraptextoverflowellipsis': 1, 'contitemtop11px': 1, 'tititembackgroundposition100': 1, 'wraptogether': 2, 'thumbgheight159px': 2, 'framegheight157px': 2, 'grouprecommoverflowhiddenwidth670pxclearboth': 1, 'grouprecomm': 6, 'boxstoryfloatleftwidth295pxheight157pxmarginright13pxpadding0': 1, 'boxrecomm': 6, 'listrecommoverflowhiddenwidth321pxmargintop11px': 1, 'listrecomm': 4, 'lifloatleftwidth140pxheight30pxmargin0': 1, 'linkrecommdisplayinlineblockoverflowhiddenmaxwidth100lineheight30pxwhitespacenowraptextoverflowellipsis': 1, 'thumbrecommfloatleftwidth30pxheight30pxmarginright6pxverticalaligntop': 1, 'thumbrecomm': 1, 'imgthumbborderradius30px': 1, 'listrecommmargintop9px': 1, 'boxbest': 5, 'listrankingmargintop7px': 1, 'txtrankingwidth270px': 1, 'lipaddingbottom3px': 1, 'numpctopmargintop2px': 1, 'boxgamemarginright0': 1, 'boxinfobnrheight159pxmarginbottom0': 1, 'txtinfomargin0': 1, 'boxwtrankpositionrelative': 1, 'boxwtrank': 1, 'titsubjectpositionabsolutetop0left11pxzindex1': 1, 'listwtrankmargintop13px': 1, 'listwtrank': 16, 'fstoverflowhiddenpositionrelativeheight62pxmarginbottom9pxpaddingtop20pxborderbottom1px': 1, 'imgthumbpositionabsolutetop0right0widthautoheight83pxpointereventsnone': 1, 'linkrankingdisplayinlineblockoverflowhiddenlineheight18pxverticalaligntop': 1, 'contitemoverflowhiddenwidth140px': 1, 'txtrankingdisplayblockoverflowhiddenmaxwidth200pxwhitespacenowraptextoverflowellipsis': 1, 'txtrankingcolor118efftextdecorationunderline': 1, 'txtrankingmaxheight36pxwhitespacenormalwordbreakkeepallwordwrapbreakword': 1, 'limarginbottom4px': 1, 'fstheight59pxmarginbottom9pxpaddingtop23px': 1, 'boxmusicpaddingleft12pxheight157px': 1, 'boxmusic': 6, 'headitemoverflowhiddenpadding7px': 1, '11pxlineheight18px': 1, 'headitem': 4, 'titsubjectfloatleftmargin0': 1, 'txtstandardfloatleftfontsize11pxcolor888': 1, 'txtnumfontfamilytahomaarialsansserifletterspacing0': 1, 'listmusicoverflowhiddenwidth646px': 1, 'listmusic': 16, 'lifloatleftpositionrelativewidth70pxmarginright36pxpaddingleft22px': 1, 'linkitemdisplayblockwidth70px': 1, 'thumbgwidth70pxheight70px': 1, 'framegwidth68pxheight68px': 1, 'contitemdisplayblockpaddingtop4px': 1, 'tititemdisplayblockoverflowhiddenmargin0fontweightnormallineheight16pxwhitespacenowraptextoverflowellipsis': 1, 'tititemhovercolor118efftextdecorationunderline': 1, 'originitemdisplayblockoverflowhiddenfontsize12pxlineheight16pxcolor888whitespacenowraptextoverflowellipsis': 1, 'linksingercolor888': 1, 'numpctoppositionabsolutetop0left0width16pxheight16pxtextindent9999pxverticalaligntop': 1, 'headitempadding10px': 1, 'txtnumfontfamilyhelveticaarialsansserif': 1, 'wraptopicwidth990pxmargin0': 1, 'autopadding29px': 1, '45px': 1, 'wraptopic': 4, 'titphotodisplayinlineblockoverflowhiddenheight36pxfontsize16pxlineheight33pxverticalaligntop': 1, 'linkphotoclipdisplayinlineblockpaddingright11pxbackgroundposition100': 1, '242pxwhitespacenowrapverticalaligntop': 1, 'linkphotothemedisplayinlineblockmarginright6pxcolor118effverticalaligntop': 1, 'viewphotooverflowhiddenpositionrelativewidth990pxheight400pxmargintop20px': 1, 'viewphoto': 26, 'listphotooverflowhiddenpositionabsolutetop0': 1, 'listphoto': 2, 'boxphotodisplayblockoverflowhiddenwidth682pxheight400pxbackgroundcolor333textdecorationnonetextaligncenter': 1, 'boxphoto': 1, 'imgthumbdisplayinline': 1, 'detailphotodisplaynonepositionabsolutetop0left50width682pxmarginleft341pxpaddingtop330px': 1, 'detailphoto': 2, 'framegwidth680pxheight398px': 1, 'linkphotodisplayblockoverflowhiddenpositionrelativeheight70pxbackgroundurlt1daumcdnnetdaumtopdecoimagestop2017bgplateslidepng': 1, 'linkphotohovertextdecorationnone': 1, 'linkphoto': 4, 'icophotopositionabsolutetop18pxright20pxwidth17pxheight15pxbackgroundposition160px': 1, '60pxtextindent9999px': 1, 'titgalleryoverflowhiddenmargin14px': 1, '57px': 1, '20pxfontweightnormalfontsize14pxcolorf4f4f4textdecorationnonewhitespacenowraptextoverflowellipsis': 1, 'descsourcedisplayblockpadding1px': 1, '20pxfontsize11pxcolorfffopacity06filteralphaopacity60': 1, 'txtdatemarginleft10pxfontfamilyHelveticatahomasansserif': 1, 'btnpreviewoverflowhiddenpositionabsolutetop0width152pxheight400pxbackgroundurlt1daumcdnnetdaumtopdecoimagestop2017bgplateslide2png': 1, 'norepeattextdecorationnonecursorpointer': 1, 'btnpreview': 4, 'framegwidth150pxheight398px': 1, 'icopctoppositionabsolutetop170pxwidth60pxheight60pxtextindent9999px': 1, 'btnprevleft0borderright2px': 1, 'fff': 2, 'btnprev': 2, 'icopctopleft0backgroundposition190px': 1, 'btnnextright0borderleft2px': 1, 'btnnext': 3, 'icopctopright0backgroundposition190px': 1, 'btngallerybackgroundcolor333': 1, 'txtgallerydisplaynonepadding184px': 1, '71pxlineheight16pxcolorfff': 1, 'btngallery': 1, 'txtgallerydisplayblock': 1, 'txtgallerypaddingright71pxpaddingleft0textalignright': 1, 'viewslideoverflowhiddenpositionrelativeheight60pxmargintop20px': 1, 'viewslide': 27, 'listthumbnailoverflowhidden': 1, 'listthumbnail': 4, 'lifloatleftpaddingleft2px': 1, 'lifstpaddingleft0': 1, 'linkthumbdisplayblockpositionrelativewidth60pxheight60px': 1, 'framegwidth58pxheight58pxcursorpointer': 1, 'framegwidth56pxheight56pxborder2px': 1, '118effopacity1filteralphaopacity100': 1, 'covergpositionabsolutetop0bottom0left0right0backgroundfffopacity06filteralphaopacity60': 1, 'btnmovepositionabsolutetop0width20pxheight60px': 1, 'btnprevleft0': 1, 'btnnextright0': 1, 'btnmove': 1, 'icopctopdisplayblockwidth20pxheight20pxmargintop20pxtextindent9999pxcursorpointer': 1, 'icopctopbackgroundposition190px': 1, 'icopctopbackgroundposition220px': 1, 'titphotolineheight39px': 1, 'titgallerymargintop16px': 1, 'descsourcepaddingtop2px': 1, 'txtgallerypaddingtop186px': 1, 'vphototype2': 9, 'boxphotowidth990px': 1, 'detailphotowidth990pxmarginleft495px': 1, 'framegwidth988px': 1, 'linkphotobackgroundrepeat': 1, 'btnpreviewtop140pxheight120pxborder0': 1, 'nonebackgroundnone': 1, 'framegdisplaynone': 1, 'icopctoptop30px': 1, 'txtgallerypaddingtop43px': 1, 'listthumbnail2': 3, 'linkthumbwidth246px': 1, 'framegwidth244px': 1, 'framegwidth242px': 1, 'listthumbnail3': 9, 'linkthumboverflowhiddenwidth196px': 1, 'framegwidth194px': 1, 'framegwidth192px': 1, 'fst': 2, 'lst': 2, 'linkthumbwidth197px': 1, 'frameg': 2, 'framegwidth195px': 1, 'fston': 1, 'lston': 1, 'framegwidth193px': 1, 'txtgallerypaddingtop46px': 1, 'topicspepositionabsolutetop0left50width990pxmarginleft495pxbackgroundred': 1, 'topicspe': 3, 'linkspeoverflowhiddenpositionabsolutetop0width464pxheight610pxfontsize1pxlineheight0textalignlefttextindent9999px': 1, 'linkspeleftleft465px': 1, 'linksperightright465px': 1, 'noticelayeroverflowhiddenwidth100borderbottom1px': 1, 'ecf2f7backgroundcolorf4faff': 1, 'innernoticelayeroverflowhiddenpositionrelativewidth990pxheight110pxmargin0': 1, 'autobackgroundimageurlt1daumcdnnetdaumtopdecoimagestop2017noticestartpngbackgroundrepeatnorepeat': 1, 'innernoticelayer1backgroundposition100': 1, 'innernoticelayer': 6, 'setstartfloatleftpaddingtop29px': 1, 'txtnewsdisplayblockfontweightnormalfontsize20px': 1, 'linkstartoverflowhiddenfloatleftmargintop3pxpaddingright9pxfontsize12pxcolor888backgroundposition100': 1, '197pxtextdecorationunderline': 1, 'btncloseoverflowhiddenpositionabsolutetop36pxright0width20pxheight20pxbackgroundposition170px': 1, '180pxtextindent9999px': 1, 'setstartpaddingtop33px': 1, 'linkstartmargintop0': 1, 'mobileweblayeroverflowhiddenwidth100paddingbottom29pxbordertop1px': 1, 'ecececbackgroundcolorf2f2f2textaligncenter': 1, 'mobileweblayer': 7, 'txtmobilemargintop18pxmarginleft13pxfontsize12pxcolor888': 1, 'txtmobile': 2, 'icoinfodisplayinlineblockwidth13pxheight13pxmargin3px': 1, '0backgroundposition170px': 1, '120pxverticalaligntop': 1, 'linkmobiledisplayblockwidth100pxheight30pxmargin12px': 1, 'dadbddfontweightboldfontsize13pxlineheight28pxcolor222backgroundcolorfff': 1, 'linkmobilehovertextdecorationnone': 1, 'txtmobilemargintop22pxmarginleft9px': 1, 'icoinfomargin1px': 1, 'linkmobilemargintop9pxlineheight31px': 1, 'media': 1, 'only': 4, 'screen': 4, 'and': 4, 'webkitmindevicepixelratio': 1, '15': 2, 'mindevicepixelratio': 1, 'minresolution': 2, '144dpi': 1, '15dppx': 1, 'icosuggestbackgroundimageurlsearch1daumcdnnetsearchstaticscommonpir2weathericoweathermpngbackgroundsize43px': 1, '1680px': 1, 'icopctopbackgroundimageurlt1daumcdnnetdaumtopdecoimagestop2017rtnicopctop170828pngbackgroundsize250px': 1, 'icovertbackgroundimageurlt1daumcdnnetdaumtopdecoimagestop2017rtnicopctopvert170724pngbackgroundsize100px': 1, '500px': 1, 'txtpctopbackgroundimageurlt1daumcdnnetdaumtopdecoimagestop2017rtntxtpctop170915pngbackgroundsize600px': 1, 'bgpctop': 1, 'loginmybackgroundimageurlt1daumcdnnetdaumtopdecoimagestop2017rtnbgpctop170328pngbackgroundsize610px': 1, '490px': 1, 'numpctopbackgroundimageurlt1daumcdnnetdaumtopdecoimagestop2017rtnnumpctop170405pngbackgroundsize80px': 1, 'innernoticelayerbackgroundimageurlt1daumcdnnetdaumtopdecoimagestop2017rtnnoticestartpngbackgroundsize300px': 1, 'imgweatherbackgroundimageurlt1daumcdnnetdaumtopdecoimagestop2017rtnimgweather170628pngbackgroundsize300px': 1, '460px': 1, 'icowmbackgroundimageurlt1daumcdnnetdaumtopdecoimagestop2017rtnicowmpngbackgroundsize400px': 1, 'rolltxt': 3, 'webkittransition': 5, 'transform': 27, '0s': 5, 'linear': 5, 'moztransition': 5, 'mstransition': 5, 'otransition': 5, 'transition': 5, 'webkittransform': 7, 'translateY0': 5, 'moztransform': 7, 'mstransform': 7, 'otransform': 7, 'licurrent': 3, 'translateY20px': 5, '3s': 15, 'easeout': 10, 'translateY0px': 10, 'initial': 5, 'important': 5, 'positionabsolute': 1, 'backgroundcolorfff': 1, 'translateY28px': 10, 'opacity1': 1, 'linext': 1, 'opacity0': 1, 'cEtc': 3, 'listthumbnailwidth1858px': 1, 'listthumbnail2width990px': 1, 'ease': 5, 'translateX0': 5, '주요': 2, '서비스': 5, '바로가기': 11, '오늘의': 6, '정보': 8, '미디어': 3, '실시간': 5, '이슈': 4, '멀티미디어': 2, '블로그': 6, '유익한': 2, '쇼핑': 3, '포토amp영상': 1, '웹': 1, '접근성': 1, '안내': 2, '자동실행': 1, '광고': 1, '설정': 1, '검색': 7, '통합': 2, '인기': 2, '검색어': 3, '이건희': 1, '차명계좌': 1, '공무원': 1, '기대소득': 1, '이달의소녀': 1, '티저': 1, '미우새': 1, '손태영': 1, '이동국': 3, '200호골': 1, '남태현': 6, '손담비': 6, '황반변성': 1, '증상': 1, '그것이알고싶다': 1, '이영학': 1, '문제적남자': 1, '장진모': 1, '수지': 1, '시구': 1, '루시드폴': 1, '알쓸신잡': 1, '대마도': 1, '매입': 1, '구리엘': 1, '인종차별': 1, '양현종': 1, '스마트기기': 1, '에일리': 1, '김태우': 1, 'lt이전': 1, 'gt다음': 1, '다음을': 1, '시작페이지로': 1, '카페': 3, '메일': 2, '뉴스': 4, '지도': 2, '증권': 1, '카카오TV': 3, '웹툰': 3, '브런치': 3, '사전': 2, '게임': 3, '별플레이': 2, '같이가치': 3, '주요서비스': 1, '더보기': 2, '⋁': 1, '전체': 5, '커뮤니케이션': 1, '티스토리': 2, '아지트': 1, '카카오스토리': 2, '스포츠': 4, '연예': 2, '아고라': 1, '쇼핑생활': 1, '쇼핑하우': 1, '금융': 1, '부동산': 2, '자동차': 2, '미즈넷': 2, '요리': 1, '문화엔터': 1, '영화': 2, '책': 1, '사전지식': 1, '어학사전': 1, '단어장': 1, '백과사전': 1, '팁': 1, '나눔펀딩': 1, '스토리펀딩': 2, '길찾기': 1, '로드뷰': 1, '버스정보': 1, '지하철노선도': 1, '카카오': 2, '소식': 1, '다음': 8, '전체보기': 2, '메뉴': 1, '닫기': 2, '10': 4, '30': 1, '월': 1, '날씨': 21, '서울시': 1, '맑음': 17, '영상': 19, '7도': 4, '7': 5, '°C': 20, '경기도': 1, '8도': 3, '8': 4, '인천시': 2, '대구시': 1, '대전시': 1, '광주시': 1, '11도': 2, '11': 3, '부산시': 1, '12도': 2, '12': 2, '울산시': 1, '경상북도': 2, '흐림': 1, '10도': 3, '강원도': 2, '5도': 1, '5': 3, '9도': 3, '9': 3, '충청북도': 1, '전라북도': 1, '전라남도': 2, '제주자치도': 1, '구름많음': 1, '13도': 1, '13': 1, '경상남도': 1, '날찌정보': 1, '8897': 1, '펼치기': 1, '현재': 7, '지역': 1, '어제보다': 1, '상세보기': 1, '미세먼지': 1, '통합대기': 1, 'X': 1, '날씨정보': 1, '선택됨': 1, '1탭': 1, '인상착의': 1, '기억해요': 1, '한국시리즈': 1, '암표와의': 1, '전쟁': 1, '블랙': 1, '고아라': 1, '피오나': 1, '공주로': 1, '과감': 1, '변신': 1, '일반뉴스': 1, '한국당': 1, '39국감': 1, '보이콧39': 1, '철회나흘': 1, '만에': 1, '국회': 1, '정상화': 1, '39MBC': 1, '방송제작': 1, '불법관여39': 1, '김재철': 1, '등': 1, '압수수색곧': 1, '소환': 1, '대학': 1, '53': 1, 'quot등록금': 1, '카드': 1, '결제': 1, '불가기숙사비도': 1, '현금으로quot': 1, '391인': 1, '천하39': 1, '노리는': 1, '중국': 1, '시진핑': 2, '주석': 1, '39中國夢39': 1, '내건': 1, '마오쩌둥급': 1, '권력': 1, '장악': 1, '등록금': 1, '깎아주고': 1, '어학기준': 1, '낮춰주고외국인': 1, '유학생에': 1, '39헐값39으로': 1, '학위장사하는': 1, '한국': 1, '대학들': 1, '올': 2, '가을': 1, '들어': 1, '가장': 1, '추워': 1, '내륙': 1, '영하권': 1, '39뚝39': 1, '군사이버사': 1, '정치개입': 1, '4년': 1, '전': 1, '김관진의': 1, '유체이탈': 1, '인천': 1, '부평': 1, '미군기지': 1, '독성': 1, '물질': 1, '오염quot주한': 1, '미군': 1, '사과하라quot': 1, '국방부': 1, '5middot18': 1, '비밀문서': 1, '16건': 1, '해제특조위': 1, '제출': 1, '반세기': 1, '독재': 1, '미얀마': 1, '군부': 1, '로힝야': 1, '사태로': 1, '박수': 1, '받는다': 1, '슈스케': 1, '꼬마': 1, '손예림': 1, '몰라보게': 1, '폭풍성장': 1, '논란의': 1, '장면': 2, '시리즈의': 1, '품격에': 1, '대하여': 1, '레알': 1, '마드리드를': 1, '무너뜨린': 1, '백힐': 2, '한': 3, '방': 1, '뉴스홈': 1, '연재': 1, '랭킹': 1, 'TV': 2, '포토': 4, '미디어랩': 1, 'live': 1, 'WS': 1, '5차전': 1, '39LAD': 1, 'vs': 1, 'HOU39': 1, '탭': 16, '1': 3, 'lt': 4, '이전': 6, 'gt': 4, '1위': 6, '2위': 5, '이수민': 5, '3위': 5, '믹스나인': 6, '4위': 5, 'vav': 5, '5위': 5, '6위': 5, '오주은': 5, '7위': 5, '유희관': 5, '8위': 5, '홍수아': 5, '9위': 5, '국회방송': 5, '생중계': 5, '10위': 5, '이규혁': 5, '증시': 2, '코스피': 1, '250577': 1, '9652': 2, '전일대비': 2, '상승': 22, '914': 1, '코스닥': 1, '69148': 1, '151': 1, '관련': 1, '링크모음': 1, '환율': 1, '운세': 1, 'uarr': 20, '99': 2, '74': 2, '62': 2, '54': 2, '45': 2, '44': 2, '26': 4, '28': 2, '19': 2, '20171030': 1, '1027기준': 1, 'X닫기': 1, 'TV하이라이트': 2, '대박이': 2, '수난시대': 2, '주말': 2, '명장면': 2, '듣는': 2, '순간': 2, '소름이': 2, '쫙': 2, '황금빛': 1, '내': 1, '인생': 1, '동영상': 17, '박시후·신혜선': 1, '이별': 1, '앞두고': 1, '눈물의': 1, '첫키스': 1, '나의': 1, '외사친': 1, '원조': 1, '먹방요정': 1, '윤후': 1, '귀환': 1, '언행불일치': 1, '식사': 1, '슈퍼맨이': 1, '돌아왔다': 1, '안현수': 1, '딸': 1, '비트에': 1, '몸을': 1, '맡기며': 1, '둠칫': 1, '두둠칫': 1, 'YG의': 1, '기를': 1, '빼앗은': 1, '페이브': 1, '열한명의': 1, '소녀들': 1, '은행의': 1, '습격': 1, '장난에': 1, '오열': 1, 'quot똥': 1, '냄새나quot': 1, '간식': 1, '사수': 1, '미션': 1, '위해': 2, '달리는': 1, '39늘보': 1, '빠기39': 1, '언제나': 1, '여유': 1, '만만한': 1, '시안이': 1, 'quot찌아니': 2, '몰라quot': 1, '더': 2, '이상': 1, '무소유': 1, '시안이가': 1, '아니다': 1, '거예요quot': 1, '역사를': 1, '쓴': 1, '39우리': 1, '아빠': 1, '최고39': 1, '39어안이': 1, '벙벙39': 1, '페더러': 1, '말도': 1, '안되는': 1, '리턴샷': 1, '39돌파': 1, '패스39': 1, '나쁘지': 1, '않았던': 1, 'SON': 1, '39잠실에': 1, '뜬': 1, '여신39': 1, '수지가': 1, '던졌다': 1, '실화라서': 1, '오싹한': 1, '유명인사': 1, '실종사건': 1, '강령술': 1, '분신사바를': 1, '후': 1, '생겼던': 1, '일': 1, '1급': 1, '살인죄를': 1, '선고받았던': 1, '희대의': 1, '악녀': 1, '1950년에': 1, '서울': 1, '상공에서': 1, '찍힌': 1, '사진': 1, '4': 2, '남자친구를': 1, '만든': 1, '정성': 1, '가득': 1, '집밥': 1, '한상': 1, '셀프DIY': 1, '도로': 1, '한복판에서': 1, '이런': 1, '일이': 1, '헉': 1, '세상의모든움짤세모짤': 1, '보조개': 1, '구멍': 1, '날': 1, '정도로': 1, '세상': 1, '행복한': 1, '결혼식': 1, '최요셉': 1, '스토리텔러': 2, '온갖': 1, '고초를': 1, '다': 1, '겪은': 1, '아내': 1, '덕에': 1, '만난': 1, '우리': 1, '아들': 1, '살림남분당댁': 1, '1boon': 1, '3': 2, '홈amp쿠킹': 1, '머니': 1, '동물': 1, '스타일': 1, 'Men': 1, '왜': 1, '강한': 1, '포수가': 1, '중요한가를': 1, '보여준': 1, 'M매거진': 5, '39대형': 1, '육식': 1, '공룡39': 1, '2억': 1, '년': 1, '전에도': 1, '살았다': 1, '영국의': 2, '선술집에서': 1, '자꾸만': 1, '목격되는': 1, '기이한': 1, '현상': 1, 'AD': 1, '기미': 1, '잡티': 1, '올킬': 1, '확실한': 1, '제거': 1, '효과': 1, '미구하라': 1, '강화된': 1, '할리데이비슨': 1, '뉴': 1, '소프테일': 1, '패밀리': 1, '모터바이크': 2, '트렌딩': 2, '지금까지': 1, '우리가': 1, '알고있던': 1, '세계지도는': 1, '모두': 1, '가짜였다': 1, '미': 1, '육군': 1, '최강으로': 1, '불리우는': 1, '강력한': 1, '라이벌': 1, '밀리터리': 2, '토크통': 2, 'lsquo이런': 1, '남자rsquo는': 1, '아이를': 1, '많이': 1, '갖고': 1, '싶어': 1, '한다': 1, '추천채널': 1, '닥치고': 1, '데스런': 1, '슈퍼리치의': 1, '모든': 1, '것': 1, '신차': 1, '그것이': 1, '알고싶다': 1, '베스트': 1, '세상을': 1, '깜짝': 1, '놀라게': 1, '했던': 2, '소년': 1, '보디빌더': 1, '반전': 1, '근황': 1, '2': 1, '일반인들은': 1, '절대': 1, '따라하지': 1, '못할': 1, '운동': 1, '선수의': 1, '위엄': 1, '독일을': 1, '능가하는': 1, '성능을': 1, '보여주었던': 1, '신무기': 1, '39비용': 1, '대비': 1, '가치39평가': 1, '브랜드는': 1, '북한이': 1, '넋': 1, '놓고': 1, '바라봐야': 1, '초음속': 1, '정찰기': 1, '여행맛집': 1, '직장IN': 1, '뮤직': 1, '보기': 4, '추천갤러리': 2, '이미지': 2, '목록': 2, '공지사항': 1, '개인정보처리방침': 2, '변경': 1, '소개': 1, '및': 1, '약관': 1, '회사소개': 1, '·': 9, '광고안내': 1, '검색등록': 1, '제휴문의': 1, '인재채용': 1, '서비스약관': 1, '청소년보호정책': 1, '웹접근성안내': 1, '고객센터': 1, 'Copyright': 1, '©': 1, 'Kakao': 1, 'Corp': 1, 'All': 1, 'rights': 1, 'reserved': 1}\n"
     ]
    }
   ],
   "source": [
    "from urllib import request \n",
    "import string\n",
    " \n",
    "url = 'http://www.daum.net' # 다음\n",
    "f = request.urlopen(url)\n",
    "source_bytes = f.read()\n",
    "source = source_bytes.decode('utf-8')\n",
    "\n",
    "# 추후 숙제 답안 제출 때엔 아래 코드는 주석처리할 것                 \n",
    "#print(type(source_bytes))\n",
    "#print(type(source))\n",
    "#print(source)\n",
    "#print(source)\n",
    "\n",
    "word_flag = True\n",
    "fst = 0\n",
    "lst = 0\n",
    "cnt = 0\n",
    "l = []\n",
    "flag = True\n",
    "\n",
    "for x in source:\n",
    "    if(x == '<'):\n",
    "        word_flag = False\n",
    "    elif(x == '>'):\n",
    "        word_flag = True\n",
    "        \n",
    "    if(flag == True and word_flag == True and x != ' ' and x != '>' and x != '\\n' and x != '\\t'):\n",
    "        flag = False\n",
    "        fst = cnt\n",
    "    elif(flag == False and (x == ' ' or x == '<') and x != '\\n' and x != '\\t'):\n",
    "        flag = True\n",
    "        lst = cnt\n",
    "        l.append(source[fst:lst])\n",
    "        \n",
    "    cnt=cnt+1\n",
    "    \n",
    "n = []\n",
    "w = ' '.join(l)\n",
    "for x in range(len(w)):\n",
    "    if(w[x] not in string.punctuation):\n",
    "        n.append(w[x])\n",
    "w = ''.join(n)\n",
    "l = w.split()\n",
    "word_t = {}\n",
    "for x in l:\n",
    "    if(x in word_t):\n",
    "        word_t[x] = word_t[x]+1\n",
    "    else:\n",
    "        word_t[x] = 1\n",
    "        \n",
    "print(word_t)"
   ]
  },
  {
   "cell_type": "code",
   "execution_count": 1,
   "metadata": {},
   "outputs": [
    {
     "name": "stdout",
     "output_type": "stream",
     "text": [
      "{'The': 53, 'New': 15, 'York': 9, 'Times': 12, 'Breaking': 2, 'News': 6, 'World': 7, 'Multimedia': 2, 'var': 77, 'NYTDNYTDNYTDAbrafunctiontuse': 1, 'strictfunction': 1, 'ntvar': 1, 'nitreturn': 1, 'nn1nullfunction': 1, 'etniftvar': 1, 'eorn0in1u0c0if1ilength4294967296i0foreat': 1, 'r0u0c0oiuife': 1, '2s': 1, '215p': 1, '27n4fss': 1, '311518500249en1on2ern3aieor341275144ieoeror882459459a15356943890s20te': 1, '2orifs3fs8fs14fs16fors5slslsns0return': 1, 'l0var': 1, 'iucsfreturn': 1, 'ninitfunctionnrvar': 1, 'acsflhptdocumentcookiematch': 1, 'nyta2dtdocumentcookiematch': 1, 'ab72mnew': 1, 'RegExpabragmexectlocationsearchifgg2ddg2dg2ithrow': 1, 'new': 10, 'Errorcant': 1, 'init': 1, 'twiceifuridforddecodeURIComponentdsplita0a': 1, 'NYTDAbrainitHOMEComingUp2147483648control12147483648comingup1HOMENewsEvent23865470567full1429496729control1HOMEElectionPrediction3865470567on1429496729control1HOMEgeoTrending1460288881Control11417339208Header11417339207NoHeader1wwwaddiagnostic21474837104273492459null0wwwsignupfavortest7730941140177309411311773094113217730941143177309411341429496729510null0wwwreadlatertest11073741824control1360777253controlHoldout11073741824variant11356482286variant1Holdout11073741824variant21356482285variant2Holdout1wwwsignupfavortestv312884901891112884901892142949673041128849018851wwwsignupfavortestv4214748365control18589934591185899346021644245094418589934595185899345961wwwfabrikoff429496729611Liftoff1952062701195206261119520627211952062631195206264119520627511483911201148391121114839112211483911231148391124114839112513435973881343597389134359739121343597381313435973916134359738171214748364822us11735166787null0HPAATest214748364801214748364811ECSampleTest2147483648variantA02147483648variantB0ECDigiAbandonmentTest4294967296sendAbandonmentEmail1ECHdAbandonmentTest4294967296sendAbandonmentEmail1ECCrosswordsUpsellTest2147483648control12147483648upsell1ECNewSubOnboardingTest2147483648control12147483648sov11': 1, 'etnytimescom': 1, 'function': 37, 'e': 8, 'if': 25, 'mobiletestwindowlocationhostname': 1, 'vi2': 1, 'documentcookiematch': 3, 'vi': 2, '1': 7, 'vi1': 1, 'nytnpvi': 1, 'b1testvi2': 1, 'WPProjectVivariantvi': 2, 'z1testvi2': 1, 'WPProjectVivariant0': 2, 'a2testvi2': 1, 'WPProjectVi2varianthpst': 1, 'b2testvi2': 1, 'WPProjectVi2varianthp': 1, 'c2testvi2': 1, 'WPProjectVi2variantst': 1, 'z2testvi2': 1, 'WPProjectVi2variant0': 1, '1testvi1': 1, '2testvi1': 1, 'else': 12, 'wwwtestwindowlocationhostname': 1, 'viwwwhp': 1, 'a2testvi': 1, 'WPProjectViwwwhpvarianthpst': 1, 'b2testvi': 1, 'WPProjectViwwwhpvarianthp': 1, 'c2testvi': 1, 'WPProjectViwwwhpvariantst': 1, 'z2testvi': 1, 'WPProjectViwwwhpvariant0': 1, 'x': 1, 'XMLHttpRequest': 1, 'xwithCredentials': 1, 'true': 2, 'xopenPOSTetnytimescom': 1, 'xsendsubjectaballoctest': 1, 'url': 2, 'encodeURIComponentwindowlocationhref': 1, 'instant1skipAugmenttruen': 1, 'documentaddEventListenerDOMContentLoaded': 1, 'windowNYTD': 3, 'windowNYTDGlobal': 1, 'displayBriefings': 1, 'time': 5, 'timedBriefings': 1, 'documentgetElementsByClassNametimedBriefing': 1, 'timedBriefingslength': 1, 'return': 9, 'attrClass': 3, 'attrStart': 1, 'attrEnd': 1, 'startTime': 3, 'endTime': 4, 'reFormat': 1, 'd2d2': 1, 'reHide': 1, 'timedBriefingHidei': 1, 'for': 29, 'i': 2, '0': 27, 'reHidetestattrClass': 2, 'timedBriefingsisetAttributeclass': 2, 'timedBriefingHide': 3, 'testTZ': 1, 'offset': 2, 'testTime': 1, 'Datenew': 1, 'DategetTime': 2, '3600': 1, '1000': 3, 'windowNYTDGlobaldisplayBriefingstestTimegetUTCHours': 1, '100': 3, 'testTimegetUTCMinutes': 1, 'testTimetoUTCStringreplace': 1, 'GMT': 1, 'now': 2, 'Date': 1, 'previewTime': 2, 'nowgetHours': 1, 'nowgetMinutes': 1, 'rePreviewTime': 1, 'previewTimed': 1, 'matches': 2, 'windowlocationsearchmatchrePreviewTime': 1, 'NumberparseIntmatches1': 1, 'windowNYTDGlobaldisplayBriefingspreviewTime': 1, 'googletaggoogletaggoogletagcmdgoogletagcmdfunctionvar': 1, 'tdocumentcreateElementscripttasync0ttypetextjavascriptvar': 1, 'ehttpsdocumentlocationprotocoltsrcehttpshttpwwwgoogletagservicescomtagjsgptjsvar': 1, 'odocumentgetElementsByTagNamescript0oparentNodeinsertBeforeto': 1, 'limitFabrikSavemoreFollowSuggestionsunfollowCommentsallTheEmphasesvideoVHSCovervideoVHSHomepageCovervideoVHSHomepageNewControlsvideoVHSNewControlsvideoVHSEmbeddedOnlyadditionalOpinionRegionshpViewabilityfreeTrialhpPrototypeuseCollectionApiForWellenableFlexFrameAdsweatherLocationfabrikWebsocketsOnlyNYTExperimenthpRealEstateAdjitterbugupdatedVideoPromoSmallvideoEmbed360PersonalizationApiUpdateglobalBriefingsremoveInternationalEditionclientSideABRAabraOverrideVersionsignupFavormapleFreeTrialpiiBlockDFPanchorsHttpssmarterLivingRecviDesktopTestcaslOptabraInCustomParamsblueKai': 1, 'require': 3, 'baseUrl': 1, 'httpsa1nytcomassets': 1, 'waitSeconds': 1, '20': 2, 'paths': 7, 'foundation': 1, 'homepage20171018133349jsfoundation': 1, 'shared': 1, 'homepage20171018133349jsshared': 1, 'homepage': 1, 'homepage20171018133349jshomepage': 2, 'application': 1, 'videoFactory': 1, 'httpsstatic01nytcomjs2buildvideo20videofactoryrequire': 1, 'videoPlaylist': 1, 'httpsstatic01nytcomjs2buildvideoplayersextended20appRequire': 1, 'authmtr': 1, 'httpsstatic01nytcomjsmtr': 1, 'authgrowl': 1, 'httpsstatic01nytcomjsauthgrowldefault': 1, 'vhs': 1, 'httpsstatic01nytcomvideovhsbuildvhs2xmin': 1, 'vhs3': 1, 'httpsstatic01nytcomvideostaticvhs3vhsmin': 1, 'requiremap': 1, 'foundationmain': 1, 'foundationlegacymain': 1, 'ltie10': 9, 'messengersuggestions': 5, 'display': 40, 'block': 15, 'important': 9, 'height': 7, '50px': 2, 'messagebed': 1, 'backgroundcolor': 3, 'f8e9d2': 1, 'borderbottom': 6, '1px': 9, 'solid': 12, 'ccc': 6, 'messagecontainer': 1, 'padding': 10, '11px': 3, '18px': 5, '30px': 2, 'actionlink': 1, 'fontfamily': 19, 'nytfranklin': 8, 'arial': 2, 'helvetica': 2, 'sansserif': 8, 'fontsize': 29, '10px': 9, 'fontweight': 17, 'bold': 2, 'color': 31, 'a81817': 3, 'texttransform': 6, 'uppercase': 5, 'alerticon': 1, 'background': 3, 'urlhttpsstatic01nytcomimagesiconsiconalert12x12a81817png': 1, 'norepeat': 1, 'width': 9, '12px': 12, 'inlineblock': 6, 'margintop': 17, '2px': 13, 'float': 5, 'none': 31, 'masthead': 1, 'navigation': 2, 'commentspanel': 1, 'ribbon': 1, '97px': 1, 'NYTimescom': 2, 'no': 1, 'longer': 1, 'supports': 1, 'Internet': 3, 'Explorer': 1, '9': 1, 'or': 5, 'earlier': 1, 'Please': 7, 'upgrade': 1, 'your': 15, 'browser': 1, 'LEARN': 1, 'MORE': 1, '»': 10, 'Sections': 4, 'Search': 6, 'Skip': 2, 'to': 70, 'content': 3, 'Subscribe': 5, 'Now': 4, 'Log': 1, 'In': 12, 'Settings': 1, 'English': 1, '中文': 1, 'Chinese': 1, 'Español': 1, 'Monday': 6, 'October': 1, '30': 1, '2017': 3, 'Today’s': 1, 'Paper': 2, 'Video': 6, 'Quick': 1, 'Site': 10, 'Navigation': 7, 'US': 5, 'Politics': 6, 'NY': 2, 'Business': 4, 'Opinion': 9, 'Tech': 4, 'Science': 3, 'Health': 4, 'Sports': 4, 'Arts': 6, 'Style': 6, 'Food': 7, 'Travel': 4, 'Magazine': 8, 'T': 5, 'Real': 8, 'Estate': 4, 'all': 4, 'Close': 1, 'search': 1, 'Clear': 1, 'this': 6, 'text': 7, 'input': 2, 'Go': 4, 'Mobile': 3, 'geoipresolver': 1, '20160630': 1, 'functionafunctiontypeof': 1, 'definedefineamddefinenytintgeoipawindownytintgeoipafunctionuse': 1, 'strictvar': 1, 'anytgeoipbdocumentgetElementsByTagNamehtmlc1dcontinentcodecountrycoderegiondmacodepostalcodetimezonezoneabbrefunctionbvar': 1, 'cnew': 1, 'XMLHttpRequestdnullenulltryifdJSONparsesessionStoragegetItemadvoid': 1, '0dcountrycodereturn': 1, 'gdbdcatchhconloadfunctionareturn': 1, 'atargetefatargetundefinedtypeof': 1, 'e1gebe1conreadystatechangefunction4creadyState200cstatusconsoleerrorcstatuscopenGEThttpsgeoipnewsdevnytimescom0trycresponseTypejsoncatchhcsendffunctionavar': 1, 'bnullswitch0casejsonaresponseTypebaresponsedatabreakcase': 1, 'nullaresponsebJSONparsearesponsedatabreakcase': 1, 'nullaresponseTextbJSONparsearesponseTextmessagereturn': 1, 'void': 1, '0bbnullgfunctionefifbreturn1trysessionStoragesetItemaJSONstringifyecatchgifvoid': 1, '0ecforvar': 1, 'ij0idjjifvoid': 1, '0eivar': 1, 'kgeohieijoinb0classListaddkc0returnfunctiontypeof': 1, 'ffeehfunctionavar': 1, 'baswitch0case': 1, 'aindexOfzoneabbr0bareplacezoneabbrustimezonebreakcase': 1, 'aindexOfzone0bareplacezonezonebreakcase': 1, 'aindexOfcode0bareplacecodereturn': 1, 'breturn': 1, 'windowNYTINTTESTINGee': 1, 'requirenytintgeoip': 1, 'Fix': 2, 'Small': 2, 'Promo': 1, 'Heds': 1, 'storythemefeaturevideopromosmallupdatedvideopromosmall': 1, 'videopromosmallcontainer': 1, 'storyheading': 10, '0important': 1, 'MM': 1, 'icons': 1, 'in': 41, 'kickers': 1, 'kicker': 4, 'iconbefore': 1, 'top': 5, '0px': 16, 'mediaslideshow': 1, 'marginbottom': 14, 'Hiding': 1, 'Hacks': 1, 'nythpHideKickers': 1, 'nythpHideBylines': 1, 'byline': 2, 'nythpHideTimestamps': 1, 'timestamp': 2, 'banner': 1, 'hed': 1, 'modifications': 1, 'spanabtopregion': 4, 'storythemesummary': 3, 'lineheight': 23, '21rem': 1, 'spacing': 1, 'fixes': 1, 'collectionheadlines': 1, 'Alterations': 1, 'the': 80, 'Centered': 1, 'Feature': 1, 'Photo': 1, 'Spot': 1, 'Treatment': 1, 'bcolumn': 9, 'photospotregion': 3, 'storythemefeature': 4, '135rem': 1, '165rem': 1, '22px': 1, 'headline': 1, 'wrapping': 1, 'summary': 5, '1125rem': 2, '333': 1, 'margin': 9, '3px': 8, 'Bullet': 1, 'Treatments': 1, 'abcolumn': 12, 'collection': 11, 'article': 13, 'ul': 9, 'spanabcregion': 11, '8px': 6, 'ulrefer': 2, 'li': 3, 'position': 12, 'relative': 6, 'paddingleft': 4, '9px': 1, '13px': 6, '08125rem': 1, '400': 5, 'libefore': 2, 'borderradius': 1, '000': 6, 'absolute': 4, '7px': 1, 'left': 5, 'lilastchild': 2, 'articledatacollectionrenderstyleHpSumMediumMedia': 1, 'themenewsheadlines': 2, 'relativeimportant': 1, '4pximportant': 1, '8pximportant': 1, '2pximportant': 1, 'acolumn': 3, 'storythemesummaryheadlinemediumsummary': 5, 'mediumthumb': 1, 'clear': 4, 'marginleft': 2, 'firstcolumnregion': 2, 'aledepackageregion': 2, 'fontstyle': 3, 'italic': 1, 'collectionfirstchild': 2, '26px': 1, '1625rem': 1, '28px': 1, '175rem': 2, '700': 6, 'NewsDeveloping': 1, 'Headers': 1, 'nythpBreaking': 3, 'A81817': 2, 'bordertop': 4, 'paddingtop': 6, 'paddingbottom': 5, 'h6': 14, 'nytfranklinarialhelveticasansserif': 1, 'nythpDeveloping': 1, 'FD8249': 2, 'bordertopcolor': 1, 'nythpBreakingnythpNoRule': 1, 'border': 7, 'abovebannerregion': 3, 'BEGIN': 1, 'HPHEADER': 1, 'STYLING': 1, 'hpHeader': 22, 'h3collectionkicker': 5, 'nytfranklinhelveticaarialsansserif': 3, 'letterspacing': 3, '5px': 7, '15px': 6, '16px': 2, 'a': 67, 'avisited': 2, 'textdecoration': 7, 'h6hover': 3, 'h6active': 3, 'bordercolor': 7, '222222': 2, 'spanabledepackageregion': 3, 'ccolumn': 2, 'textalign': 6, 'center': 3, 'auto': 5, 'splitlayout': 2, 'nythpSplitCode': 2, 'hpLive': 3, 'hpDeveloping': 3, 'fd8249': 2, 'hpSingleRule': 1, 'e2e2e2': 3, 'added': 1, 'by': 21, 'matte': 1, 'fix': 1, 'slideshow': 1, 'bug': 1, 'loadercontainer': 1, 'Newsletter': 1, 'SignUp': 1, 'Modules': 1, 'updated': 1, '6282017': 1, 'divnotificationwidget': 1, 'minheight38px': 1, 'notificationsignup': 6, 'notificationstitle': 1, 'black': 4, 'nytcheltenhamshgeorgiatimes': 1, 'romantimesserif': 2, '200': 1, 'notificationtext': 2, '999': 3, 'notificationwidget': 25, 'button': 9, 'outline': 1, 'notifyemail': 1, '312px': 1, '14px': 8, 'a6a6a6': 1, 'rgba971361665': 1, 'bordertopleftradius': 3, 'borderbottomleftradius': 3, 'bordertoprightradius': 2, 'borderbottomrightradius': 2, 'boxshadow': 1, 'Helvetica': 6, 'notifyemailhover': 1, 'bordercolorrgba971361661': 1, 'borderwidth2px': 1, 'padding13px': 1, 'notifyemailerror': 1, 'FF9859': 2, '6288a5': 1, 'white': 1, '500': 2, 'capitalize': 1, 'dirtyform': 1, 'buttonhover': 2, 'signedin': 2, '326891': 5, 'diverror': 1, 'post': 1, 'subscribe': 3, 'notification': 2, 'span': 1, 'ffffff': 1, '600': 1, 'divdatastatusinitial': 5, 'displayinlineblock': 3, 'floatright': 1, 'divdatastatusworking': 2, 'opacity0': 1, 'already': 8, 'subscribed': 8, 'div': 10, 'divdatastatussubscribed': 2, '666': 1, '31px': 1, 'marginright8px': 1, 'accountname': 2, '6187a6important': 2, 'emailaddress': 1, 'viewportmedium10': 2, 'interactiveleadin': 1, 'maxwidth': 1, '375px': 1, 'paddingtop11px': 1, 'adatareactid002': 1, 'divdatastatusinitialdatashowdisclaimertrue': 3, 'divdisclaimer': 4, 'CCC': 2, 'divsignedindatastatusinitialdatashowdisclaimertrue': 1, '20px': 1, '70px': 1, 'right': 6, 'divnotsignedindatastatusinitialdatashowdisclaimertrue': 1, 'underline': 3, 'divwelcome': 1, 'Show': 2, 'All': 3, 'hack': 1, 'htmlshowAllGeoAb': 5, 'nythpElectionPredictionCCol': 1, 'nythpNYRegionPromo': 5, 'nythpGeoCanada': 1, 'nythpCAToday': 1, 'requirefoundationmain': 13, 'jquerynyt': 2, 'foundationhelpersutils': 1, 'foundationviewspagemanager': 3, 'utils': 1, 'pageManager': 4, 'documentreadyfunction': 2, 'param': 3, 'contentCollection': 2, 'smarterliving': 4, 'nythpSmarterLiving': 14, 'aeachfunction': 1, 'href': 5, 'thisattrhref': 2, 'utilsappendQueryParamshref': 1, 'zoom1': 1, 'nythpSmarterLivingafter': 2, 'nythpSmarterLivingbefore': 1, 'table': 1, 'both': 3, 'floatleft': 1, '177px': 1, 'articlestorythemesummary': 1, 'articlelastchild': 1, 'articlenthoftype2': 1, '21px': 1, 'themecomments': 1, 'refer': 1, '96px': 1, 'thumb': 1, '6px': 4, 'Top': 1, 'Russia': 4, 'Wields': 1, 'Oil': 2, 'Diplomacy': 1, 'Pushing': 1, 'on': 18, 'Interests': 1, 'By': 20, 'CLIFFORD': 1, 'KRAUSS': 1, 'Moscow': 1, 'forced': 1, 'sanctions': 1, 'find': 4, 'spheres': 1, 'of': 48, 'investment': 1, 'is': 11, 'building': 1, 'influence': 1, 'places': 1, 'where': 1, 'United': 1, 'States': 1, 'has': 9, 'stumbled': 1, 'It': 2, 'been': 4, 'pushing': 1, 'deeply': 1, 'into': 1, 'countries': 1, 'like': 4, 'Cuba': 1, 'China': 1, 'Egypt': 2, 'and': 45, 'Vietnam': 1, 'made': 2, 'flurry': 1, 'risky': 1, 'loans': 1, 'help': 1, 'Venezuela': 1, 'stave': 1, 'off': 1, 'debt': 1, 'default': 3, 'Trump': 7, 'Tries': 1, 'Shift': 2, 'Focus': 1, 'Amid': 1, 'Reports': 1, 'Looming': 1, 'Charges': 1, 'JULIE': 1, 'HIRSCHFELD': 1, 'DAVIS': 1, 'President': 2, 'attacked': 1, 'Hillary': 1, 'Clinton': 1, 'Twitter': 6, 'as': 15, 'he': 3, 'his': 6, 'advisers': 1, 'braced': 1, 'first': 4, 'public': 1, 'action': 5, 'from': 5, 'special': 2, 'prosecutor': 1, 'inquiry': 1, 'who': 5, 'reportedly': 1, 'poised': 1, 'issue': 1, 'an': 9, 'indictment': 1, 'Suspends': 1, 'Roger': 2, 'Stone': 2, 'After': 9, 'ExpletiveLaden': 2, 'Posts': 1, '2': 4, 'Navy': 2, 'SEALs': 2, 'Under': 2, 'Suspicion': 2, 'Death': 1, 'Green': 2, 'Beret': 2, 'Mali': 2, 'ERIC': 1, 'SCHMITT': 1, '1157': 1, 'PM': 2, 'ET': 7, 'Staff': 1, 'Sgt': 1, 'Logan': 1, 'J': 1, 'Melgar': 1, '34': 1, 'veteran': 1, 'two': 2, 'deployments': 1, 'Afghanistan': 1, 'was': 2, 'found': 1, 'dead': 1, 'June': 1, '4': 2, 'superiors': 1, 'almost': 1, 'immediately': 1, 'suspected': 1, 'foul': 1, 'play': 1, 'Niger': 1, 'Where': 2, 'Troops': 1, 'Died': 2, 'Lawless': 1, 'Shifting': 1, 'Landscape': 1, '‘Bedlam’': 1, 'Arizona': 1, 'Jeff': 1, 'Flake': 1, 'Departs': 1, 'Senate': 1, 'Race': 2, 'SHERYL': 1, 'GAY': 1, 'STOLBERG': 1, 'Republican': 1, 'senator’s': 1, 'surprise': 1, 'announcement': 1, 'not': 4, 'run': 2, 'reelection': 1, 'created': 1, 'frantic': 1, 'race': 1, 'seat': 2, 'opened': 1, 'divisions': 1, 'major': 2, 'parties': 1, 'More': 10, 'Limit': 1, '401k': 1, 'Savings': 1, 'It’s': 1, 'About': 1, 'Paying': 1, 'Tax': 3, 'Cuts': 1, 'Democrats': 4, 'Attack': 2, 'Bill': 3, '‘MiddleClass': 2, 'Con': 2, 'Job’': 2, 'Puerto': 3, 'Rico': 3, 'Cancels': 2, 'Grid': 1, 'Contract': 2, 'With': 6, 'Montana': 1, 'Firm': 1, 'FRANCES': 1, 'ROBLES': 1, 'DEBORAH': 1, 'ACOSTA': 1, 'move': 1, 'came': 1, 'after': 1, 'members': 1, 'Congress': 2, 'FEMA': 1, 'questioned': 1, 'how': 1, 'Whitefish': 2, 'Energy': 2, 'with': 7, 'connections': 1, 'secretary': 1, 'interior': 1, 'but': 4, 'only': 1, 'fulltime': 1, 'employees': 1, 'won': 2, 'contract': 1, 'up': 10, '300': 2, 'million': 1, 'California': 5, 'Lechery': 1, 'Finds': 1, 'Safe': 1, 'Haven': 1, 'Women': 1, 'Say': 2, 'JESS': 1, 'BIDGOOD': 1, 'MIRIAM': 1, 'JORDAN': 1, 'ADAM': 1, 'NAGOURNEY': 1, 'Sacramento': 1, 'legislative': 1, 'country’s': 1, 'most': 3, 'populous': 1, 'state': 1, 'women': 1, 'describe': 1, 'culture': 1, 'rampant': 1, 'sexual': 1, 'harassment': 1, 'system': 1, 'that': 13, 'does': 1, 'take': 2, 'their': 6, 'complaints': 1, 'seriously': 1, 'nbspComments': 5, 'Rose': 2, 'McGowan': 2, 'Refusing': 2, 'Weinstein’s': 2, 'Hush': 2, 'Money': 4, 'Speaks': 1, 'Out': 3, 'Female': 1, 'Artists': 1, 'Sign': 17, 'Letter': 1, 'Against': 1, 'Sexual': 4, 'Harassment': 1, 'Daily': 2, '360': 3, '105': 1, 'Rebuilding': 3, 'Dam': 1, 'Alvin': 1, 'BaezReuters': 1, 'Technology': 2, 'Samsung': 1, 'Kurdish': 1, 'Leader': 2, 'Quits': 1, 'Latest': 1, 'Fallout': 2, 'From': 6, 'MuchCriticized': 1, 'Independence': 1, 'Vote': 1, 'Choice': 1, 'Fed': 1, 'Chairman': 1, 'Downgrades': 1, 'Deregulation': 1, 'Shakes': 1, 'Up': 17, 'Security': 1, 'Forces': 1, 'Deadly': 1, 'Ambush': 1, 'Police': 1, 'Iceland’s': 1, 'Governing': 1, 'Party': 5, 'Retains': 1, 'Most': 4, 'Seats': 2, 'tipspromo': 7, 'nytlogo': 1, '1rem': 2, '6rem': 2, 'svg': 1, 'textbubble': 4, 'h1': 1, 'nytcheltenham': 2, 'times': 6, 'serif': 4, '15rem': 1, '09': 1, 'webkitfontsmoothing': 2, 'antialiased': 2, 'zindex': 2, 'h2': 1, 'nytcheltenhamsh': 2, '13': 3, '05rem': 1, 'contact': 1, 'borderstyle': 1, 'transparent': 1, 'Got': 1, 'confidential': 1, 'news': 7, 'tip': 1, 'offers': 1, 'several': 1, 'ways': 1, 'get': 4, 'touch': 1, 'provide': 1, 'materials': 1, 'our': 2, 'journalists': 2, 'Learn': 1, 'more': 3, 'gaq': 2, 'definenytg20161031tipshpassets': 1, 'httpsstatic01nytcomnewsgraphics20161031tipshp00b5b741a6c5682e24f945c547f78fbe98f2c27f': 1, 'definenytg20161031tipshpbigassets': 1, 'httpsstatic01nytcomnewsgraphics20161031tipshpassets': 1, 'requirehttpsstatic01nytcomnewsgraphics20161031tipshp00b5b741a6c5682e24f945c547f78fbe98f2c27fbuildjs': 1, 'generated': 1, 'srcscriptjs': 1, 'getFlexData': 1, 'dataoptionswidth375height265jsonphttpsstatic01nytcomslideshow20171029nyregionfiveyearsaftersandyarewebetterpreparedslideshowjsonplinkhttpsnytims2yWw5japhotosphotourlcreditadvanceddelay4limitjsonp0renditionlargeHorizontal375targetoverrideabbreviatecreditsfalse': 1, 'NYTDNYTD': 1, 'NYTDFlexTypes': 2, 'NYTDFlexTypespushtargetFT100000005523394typeFadingSlideShowdataoptionswidth375height265jsonphttpsstatic01nytcomslideshow20171029nyregionfiveyearsaftersandyarewebetterpreparedslideshowjsonplinkhttpsnytims2yWw5japhotosphotourlcreditadvanceddelay4limitjsonp0renditionlargeHorizontal375targetoverrideabbreviatecreditsfalse': 1, 'editiondomestic': 1, 'spanablayout': 7, 'nytmmFadingSlideShow': 2, 'credit': 2, 'editioninternational': 1, 'BAB8B3': 1, 'arialhelveticasansserif': 1, '05625rem': 1, '075rem': 1, 'Five': 2, 'Years': 4, 'Hurricane': 2, 'Sandy': 3, 'Are': 8, 'We': 2, 'Better': 2, 'Prepared': 2, 'Much': 1, 'City’s': 1, 'infrastructure': 1, 'repaired': 1, 'some': 1, 'improved': 1, 'But': 2, 'big': 1, 'plans': 2, 'stormproof': 1, 'city': 1, 'remain': 1, 'just': 1, 'PATRICK': 3, 'McGEEHAN': 1, 'WINNIE': 1, 'HU': 1, 'On': 3, 'Staten': 2, 'Island': 2, 'Haunting': 2, 'Memories': 2, 'Your': 6, 'Briefing': 13, 'BOEHLER': 1, '119': 1, 'AM': 5, 'Here’s': 2, 'what': 1, 'you': 3, 'need': 1, 'know': 1, 'start': 1, 'day': 1, 'audiobrief': 8, 'image': 1, '75px': 2, '4px': 1, 'audio': 1, 'art19webplayer': 1, 'art19webplayerawpmicro': 2, 'awpleft': 1, 'borderright': 2, 'awpbrandlogo': 2, 'img': 1, 'awpembedbutton': 1, 'cursor': 2, 'pointer': 2, 'dailysublinks': 4, 'width100': 1, 'padding0': 1, 'margin10px': 1, 'p': 6, 'fontfamilynytfranklinarialhelveticasansserif': 1, 'fontweight400': 1, 'color000': 1, 'paddingright': 2, 'borderright1px': 1, 'alastchild': 1, 'borderrightnone': 1, 'Listen': 1, '‘The': 3, 'Washington’': 1, 'Ty': 1, 'Cobb': 1, 'White': 2, 'House': 2, 'lawyer': 1, 'speaks': 1, 'us': 3, 'about': 1, 'counsel’s': 1, 'investigation': 1, 'legal': 1, 'strategy': 1, 'trademark': 1, 'handlebar': 1, 'mustache': 1, 'Audio': 1, 'Follow': 2, 'Washington': 2, 'Apple': 1, 'Podcasts': 1, 'Radio': 1, 'Public': 3, 'Stitcher': 1, 'Smarter': 4, 'Living': 6, 'How': 5, 'Stop': 2, 'Robbing': 1, 'Yourself': 1, 'Good': 1, 'Sleep': 1, 'TIM': 1, 'HERRERA': 1, '1138': 1, 'Welcome': 1, 'latest': 1, 'edition': 1, 'newsletter': 1, 'What': 2, 'Watch': 2, 'Halloween': 1, 'You': 6, 'can': 1, 'varieties': 1, 'ghosts': 1, 'monsters': 1, 'serial': 1, 'killers': 1, 'streaming': 1, 'services': 1, 'main': 1, 'underscorenyt': 3, 'foundationviewsbaseview': 1, 'BaseView': 1, 'SmarterLiving': 2, 'BaseViewextend': 1, 'template': 2, 'datastoryid': 1, 'datacollectionrenderstyleHpSumSmallMediaHigh': 1, 'alt': 1, 'events': 1, 'click': 3, 'handleArticleLinkClick': 2, 'articles': 6, 'initialize': 3, 'const': 4, 'view': 5, 'thispageManagerflagsmarterLivingRec': 1, 'thisel': 2, 'thissetupImpressionTracking': 1, 'oncethissetupImpressionTracking': 1, 'ajax': 1, 'httpsrecapinytimescomsvcrecommendationsv4smarterlivingjson': 1, 'xhrFields': 1, 'withCredentials': 1, 'donefunctiondata': 1, 'viewsetupImpressionTracking': 1, 'eachdataassets': 1, 'functionitem': 1, 'viewarticlespushitemurl': 1, 'iterate': 1, 'over': 1, 'existing': 1, 'viewelfindarticleeachfunction': 1, 'index': 1, 'replace': 1, 'rec': 1, 'service': 1, 'thisreplaceWithviewtemplatedataassetsindex': 1, 'alwaysfunction': 1, 'unhide': 1, 'viewelcssdisplay': 1, 'setupImpressionTracking': 1, 'thispageManagerisComponentVisiblethisel': 2, 'thisrecordTrackingImpression': 2, 'thissubscribenytpagescroll': 1, 'thishandleScroll': 1, 'ev': 1, 'el': 2, 'evcurrentTarget': 1, 'thistrackingAppendParamselattrhref': 1, 'pgtype': 2, 'Homepage': 2, 'clickSource': 1, 'module': 4, 'region': 2, 'secondcolumnregion': 2, 'mData': 2, 'viewarticles': 2, 'elattrhref': 1, 'handleScroll': 1, 'thisstopSubscribingnytpagescroll': 1, 'recordTrackingImpression': 1, 'thistrackingTriggerImpressionImpression': 1, 'impression': 4, 'proxyEventType': 1, 'Get': 14, 'weekly': 1, 'roundup': 1, 'best': 1, 'advice': 1, 'living': 1, 'better': 1, 'smarter': 1, 'fulfilling': 1, 'life': 1, 'requireconfig': 6, 'nytintemailsubscriber': 6, 'httpsintnytcomapplicationsemailsubscriberclient': 6, 'requirenytintemailsubscriber': 6, 'functionSubscriber': 6, 'Subscribersetup': 6, 'containerId': 6, 'smarterlivingformonly': 1, 'productCode': 6, 'SL': 1, 'elementToHideOnSubscribe': 6, 'nythpsmarterlivingformonlyemailpromo': 1, 'unregisteredButton': 6, 'unregisteredPlaceholder': 6, 'email': 27, 'registeredButton': 6, 'alreadySubscribedMessage': 6, 'You’re': 7, 'thanksMessage': 6, 'You’ve': 6, 'signed': 6, 'emailPreferencesLinkText': 6, 'Update': 6, 'mail': 6, 'preferences': 6, 'errorMessage': 6, 'Error': 6, 'submitting': 6, 'please': 6, 'try': 6, 'again': 6, 'registeredWelcome': 6, 'setTimeoutfunction': 8, 'widget': 6, 'documentgetElementByIdsmarterlivingformonly': 1, 'container': 7, 'widgetgetElementsByTagNamediv0': 6, 'form': 6, 'widgetgetElementsByTagNameform0': 6, 'status': 6, 'containergetAttributedatastatus': 6, 'notify': 6, 'widgetgetElementsByClassNamenotifyemail0': 6, 'ifnotify': 6, 'undefined': 12, 'origtext': 6, 'notifygetAttributeplaceholder': 6, 'newtext': 6, 'enter': 6, 'address': 6, 'containergetElementsByTagNamebutton0': 6, 'widgetsetAttributeclassclearfix': 6, 'notifyaddEventListenermouseoverfunction': 6, 'notifysetAttributeplaceholdernewtext': 6, 'notifyaddEventListenermouseoutfunction': 6, 'notifysetAttributeplaceholderorigtext': 6, 'notifyaddEventListenerfocusfunction': 6, 'notifysetAttributeplaceholder': 6, 'ifform': 6, 'notifyaddEventListenerkeyupfunction': 6, 'formsetAttributeclassdirtyform': 6, 'containersetAttributeclassnotsignedin': 6, 'containersetAttributeclasssignedin': 6, '2000': 7, 'signupfavor': 7, 'signupfavortopborder': 1, '32px': 1, 'signupfavorbottomborder': 1, '33px': 1, 'ahover': 2, 'tagline': 3, '125rem': 2, 'normal': 2, 'georgia': 1, 'roman': 1, '10625rem': 1, 'rgba501041452': 1, '04em': 1, 'moztransition': 1, '02s': 4, 'ease': 4, 'webkittransition': 1, 'mstransition': 1, 'transition': 1, 'support': 1, 'nobreak': 1, 'whitespace': 1, 'nowrap': 1, 'signupfavorhover': 1, 'rgba501041451': 1, 'nythpsubpromo': 1, 'Journalism': 2, 'matters': 2, 'essential': 3, 'than': 4, 'ever': 4, 'functionmain': 1, 'requirejquerynyt': 3, 'foundationmodelsuserdata': 1, 'foundationtrackingtrackingmixin': 1, 'foundationhosts': 1, 'userData': 2, 'trackingMixin': 2, 'hosts': 2, 'signupPromo': 1, 'taglines': 1, 'promo1': 3, 'promo2': 2, 'Independent': 3, 'journalism': 2, 'promo3': 2, 'reporting': 1, 'promo4': 2, 'Trusted': 1, 'promo5': 2, 'Like': 2, 'nowhere': 1, 'promo6': 2, 'Truth': 1, 'hard': 1, 'easier': 1, 'looking': 1, 'Initialization': 1, 'called': 1, 'when': 1, 'instantiating': 1, 'method': 1, 'documentonclick': 1, 'ggraphicsubpromoclick': 1, 'functione': 1, 'epreventDefault': 2, 'signupPromohandleClick': 1, 'thisversion': 9, 'userDatareadyfunction': 1, 'signupPromohandleUserReady': 1, 'thislink': 3, 'httpswwwnytimescomDesktopHome': 1, 'trackImpression': 1, 'signupPromotrackingtrackingTriggerRaw': 1, 'signupPromoversion': 1, 'electionsubdesktophome': 2, 'handleUserReady': 1, 'consolelogabra': 1, 'windowNYTDAbrawwwsignupfavortestv4': 4, 'control': 1, 'userDataisHomeDeliverySubscriber': 1, 'userDataisWebSubscriber': 1, 'userDataisMobileSubscriber': 1, 'userDataisTabletSubscriber': 1, 'htmlhasClassgeocountryUS': 1, 'httpswwwnytimescomDesktopHomeINYT': 1, 'thiselfindsubscribelinkattrhref': 2, 'httpwwwnytimescomDesktopHomeINYT': 1, 'thisswitchText': 1, 'thiselfindtaglinehtml': 1, 'Support': 1, 'mission': 2, 'thiselfindsubscribehtmlSponsor': 1, 'student': 1, 'subscription': 1, 'today': 1, 'studentSponsor': 1, 'httpswwwnytimescomNativeSponsor': 2, 'user': 1, 'show': 1, 'element': 1, 'thiselremoveClasshidden': 1, 'thistrackImpression': 1, 'thiselclosestcolumnhasClassabcolumn': 1, 'thiseladdClasstopborder': 1, 'thiselclosestcolumnhasClassbcolumn': 1, 'thiseladdClasstopborderaddClassbottomborder': 1, 'switchText': 1, 'hasAbra': 3, 'false': 2, 'windowNYTDAbra': 1, 'check': 1, 'part': 1, 'AB': 1, 'test': 1, 'switch': 1, 'case': 6, 'thiselfindtaglinehtmlthistaglinespromo1': 1, 'break': 6, 'thiselfindtaglinehtmlthistaglinespromo2': 1, '3': 1, 'thiselfindtaglinehtmlthistaglinespromo3': 1, 'thiselfindtaglinehtmlthistaglinespromo4': 1, '5': 5, 'thiselfindtaglinehtmlthistaglinespromo5': 1, '6': 1, 'thiselfindtaglinehtmlthistaglinespromo6': 1, 'handleClick': 1, 'thistrackingtrackingTriggerRaw': 1, 'eventName': 1, 'signup': 1, 'interaction': 1, 'windowlocationhref': 1, 'signupPromolink': 1, 'signupPromotracking': 1, 'signupPromopageManager': 1, 'signupPromohosts': 1, 'signupPromoinitialize': 1, 'Monrovia': 2, 'Journal': 1, 'Executive': 2, 'Mansion': 2, 'Liberia': 2, 'seen': 2, 'rear': 1, 'Credit': 1, 'Jane': 1, 'Hahn': 1, 'Fit': 1, '—': 4, 'Ghosts': 1, 'Too': 2, 'No': 2, 'president': 1, 'slept': 1, 'at': 6, 'mansion': 1, 'any': 2, 'extended': 1, 'period': 1, 'come': 1, 'decent': 1, 'end': 1, 'place': 1, 'Liberian': 1, 'will': 2, 'tell': 1, 'haunted': 1, 'jinxed': 1, 'HELENE': 1, 'COOPER': 1, 'Lost': 4, 'Children': 6, 'Tuam': 4, 'DAN': 1, 'BARRY': 1, 'Ireland': 1, 'wanted': 1, 'forget': 1, 'For': 2, 'decades': 1, 'bones': 1, 'lay': 1, 'near': 1, 'home': 1, 'unmarried': 1, 'mothers': 1, 'babies': 1, 'until': 1, 'one': 3, 'woman': 2, 'it': 4, 'her': 3, 'truth': 1, '796': 1, 'Irish': 1, 'Vanished': 1, 'They': 2, 'Series': 3, 'Astros': 5, 'Dodgers': 4, '12': 2, '10': 2, 'innings': 2, 'Outlast': 1, 'Dramatic': 2, 'Slugfest': 2, 'BILLY': 1, 'WITZ': 1, '255': 1, 'game': 1, 'lasted': 1, 'hours': 1, '17': 1, 'minutes': 1, 'featured': 1, '25': 1, 'runs': 1, 'seven': 1, 'homers': 1, 'put': 1, 'themselves': 1, 'brink': 1, 'title': 1, 'InningbyInning': 1, 'Highlights': 1, 'Game': 2, '224': 1, 'Some': 3, 'Pitchers': 1, 'Balls': 1, 'Slick': 1, '1217': 1, 'Will': 2, 'Catalonia': 2, 'Obey': 2, 'Madrid': 1, 'Civil': 2, 'Servants': 2, 'Decide': 2, 'KINGSLEY': 1, 'Catalonia’s': 1, 'ministers': 1, 'lawmakers': 2, 'teachers': 1, 'policemen': 1, 'other': 2, 'government': 3, 'workers': 1, 'face': 1, 'question': 1, 'accepting': 1, 'Madrid’s': 2, 'authority': 1, 'staying': 1, 'loyal': 1, 'ousted': 1, 'leader': 1, '‘I': 1, 'Don’t': 1, 'Want': 1, 'Catalonia’': 1, 'Rally': 1, 'Backs': 1, 'Unified': 1, 'Spain': 2, 'Troubling': 2, 'Turn': 2, 'Afghan': 3, 'War': 4, 'Taliban': 3, 'Heroin': 2, 'Profits': 2, 'Soar': 1, 'MUJIB': 1, 'MASHAL': 1, '157': 1, 'are': 3, 'increasingly': 1, 'refining': 1, 'opium': 1, 'own': 3, 'rather': 1, 'exporting': 1, 'raw': 1, 'ingredients': 1, 'giving': 1, 'militants': 1, 'even': 2, 'less': 1, 'reason': 1, 'negotiate': 1, 'Facebook’s': 2, 'Disturbing': 2, 'Problems': 2, 'Abroad': 2, 'KEVIN': 1, 'ROOSE': 1, 'As': 1, 'social': 1, 'media': 1, 'giant': 1, 'grows': 1, 'developing': 1, 'world': 1, 'its': 2, 'platform': 1, 'being': 1, 'used': 1, 'spread': 1, 'misinformation': 1, 'incite': 1, 'violence': 1, 'conditions': 4, 'geocoded': 2, 'htmlgeodma501': 1, 'htmlgeoregionNJ': 1, 'Former': 1, 'Priest': 1, 'Says': 1, 'Revered': 1, 'Colleague': 1, 'Was': 1, 'Predator': 1, 'SHARON': 1, 'OTTERMAN': 1, 'A': 11, 'former': 2, 'priest': 1, 'received': 1, '500000': 1, 'settlement': 1, 'person': 1, 'name': 1, 'Rev': 1, 'Robert': 2, 'V': 1, 'Lott': 1, 'abuser': 1, 'nythpGeoMBPromoAU': 3, 'nythpGeoMBPromoEU': 3, 'nythpGeoMBPromoAS': 2, 'nythpGeoCalTodayPromo': 2, 'htmlgeocontinentAS': 2, 'htmlgeocontinentOC': 2, 'htmlgeocountryAU': 10, 'htmlgeocontinentEU': 2, 'htmlgeocontinentAF': 2, 'htmlgeocontinentNAgeoregionCA': 2, 'nythpGeoMBPromo': 6, 'Morning': 12, 'Australia': 4, 'Edition': 4, 'stories': 5, 'matter': 5, 'readers': 4, 'through': 4, 'Friday': 4, 'morningbriefingwidgetau': 1, 'MBAU': 1, 'nythpmorningbriefingemailpromo': 5, 'documentgetElementByIdmorningbriefingwidgetau': 1, 'Asia': 2, 'morningbriefingwidgetas': 1, 'MBAE': 1, 'documentgetElementByIdmorningbriefingwidgetas': 1, 'Europe': 2, 'morningbriefingwidgeteu': 1, 'MBE': 1, 'documentgetElementByIdmorningbriefingwidgeteu': 1, 'Today': 3, 'Californians': 1, 'delivered': 1, 'weekday': 1, 'mornings': 1, 'californiatodaywidget': 1, 'CA': 1, 'documentgetElementByIdcaliforniatodaywidget': 1, 'Delivered': 1, 'inbox': 1, 'morningbriefingwidget': 1, 'NN': 1, 'documentgetElementByIdmorningbriefingwidget': 1, 'spanabbottomauregion': 1, 'visibility': 3, 'hidden': 2, 'spanabbottomregion': 13, 'columncolumnauregion': 3, 'column': 1, 'inherit': 1, 'visible': 1, 'split3layout': 5, 'columnnthoftype1': 1, 'columnnthoftype4': 1, 'columnlastchild': 1, 'columnnthoftype3': 1, 'columnnthoftype6': 1, 'sectionheadingauregion': 5, 'sectionheading': 2, 'h2sectionheading': 1, 'h2sectionheadinghover': 1, 'h2sectionheadingactive': 1, 'divsplit3layoutappendspanabbottomauregion': 1, 'divsplit3layout': 3, 'divcolumnaddClasscolumnauregionremove': 1, 'divsplit3layoutprepend': 1, 'Picks': 1, 'auHeight': 1, 'maxspanabbottomregion': 1, 'articlemapfunctioni': 1, 'elheight': 1, 'columncolumnauregioncssminheight': 1, 'auHeight6px': 1, 'Australian': 2, 'Government': 1, 'Rejects': 1, 'Move': 2, 'Indigenous': 2, '‘Recognition’': 1, 'said': 1, 'proposal': 1, 'create': 1, 'body': 1, 'representing': 1, 'people': 1, 'would': 2, 'have': 1, 'failed': 1, 'brought': 1, 'vote': 1, 'national': 1, 'referendum': 1, 'Deputy': 1, 'Among': 1, 'Lose': 1, 'Over': 2, 'Citizenship': 1, 'high': 2, 'court': 1, 'ruled': 1, 'Barnaby': 1, 'Joyce': 1, 'had': 2, 'ineligible': 1, 'Parliament': 1, 'because': 1, 'they': 1, 'held': 1, 'dual': 1, 'citizenship': 1, 'Japanese': 2, 'Foodways': 1, 'Mix': 1, 'Off': 1, 'Winding': 1, 'Road': 1, 'small': 1, 'town': 1, 'South': 1, 'Wales': 1, 'rewards': 1, 'visitors': 1, 'locals': 1, 'charming': 1, 'cafe': 1, 'Review': 8, 'Life': 1, 'Is': 9, 'Swirl': 1, 'Red': 1, 'Shoes’': 1, 'staging': 1, 'star': 1, 'Matthew': 1, 'Bourne’s': 1, 'adaptation': 1, '1948': 1, 'movie': 1, 'beloved': 1, 'ballet': 1, 'film': 1, 'critic': 1, 'writes': 1, 'Ron': 1, 'Chernow': 1, 'Marinating': 1, 'Postbellum': 1, 'America': 2, 'author': 2, '“Hamilton”': 1, '“Titan”': 1, '“Grant”': 1, 'confesses': 1, 'slow': 1, 'reader': 1, '“It': 1, 'me': 1, 'year”': 1, 'read': 1, 'books': 1, 'At': 1, 'Dinner': 2, 'When': 2, 'Bad': 3, 'Guest': 1, 'too': 1, 'miserable': 1, 'be': 3, 'polite': 1, 'dinner': 1, 'engagement': 1, 'didn’t': 1, 'want': 1, 'go': 1, 'rich': 1, 'man': 1, 'invited': 1, 'him': 1, 'Silence': 2, 'MICHAEL': 1, 'TOMASKY': 1, 'Why': 1, 'aren’t': 1, 'potential': 1, '2020': 1, 'contenders': 1, 'taking': 1, 'stand': 1, 'way': 1, 'country': 1, 'heading': 1, 'Editorial': 3, 'Phil': 1, 'Murphy': 1, 'Governor': 2, 'Jersey': 1, 'Blow': 2, 'Checking': 1, 'My': 3, 'Male': 1, 'Privilege': 1, 'Leonhardt': 1, 'Donald': 2, 'Wants': 1, 'Raise': 1, 'Taxes': 1, 'Heng': 1, 'Japan’s': 2, 'Parliamentary': 1, 'Elections': 1, 'Constitution': 1, 'James': 1, 'Madison’s': 1, 'Lessons': 1, 'Racism': 1, 'Economy': 2, 'Can’t': 2, 'Grow': 2, 'Without': 2, 'Birth': 2, 'Control': 2, 'BRYCE': 1, 'COVERT': 1, 'promised': 1, 'growth': 1, 'He': 1, 'shouldn’t': 1, 'limit': 1, 'access': 1, 'contraception': 1, 'Insect': 2, 'Armageddon': 2, 'They’re': 1, 'cute': 1, 'polar': 1, 'bears': 1, 'insects': 1, 'critical': 1, 'ecosystem': 1, 'decline': 1, 'should': 2, 'worry': 1, 'Happiness': 1, 'Other': 1, 'People': 1, 'ccolumncolumn': 3, 'sectionopinion': 2, 'timetimestamp': 1, 'displaynone': 2, 'pthemecomments': 1, 'User': 1, 'Subscriptions': 5, 'To': 3, 'Find': 3, 'Story': 3, 'I': 4, 'Needed': 3, 'Guide': 8, 'Fans': 2, 'Love': 2, 'Extra': 2, 'Innings': 2, 'LateGame': 2, 'Twists': 2, 'Reporters': 2, 'Less': 2, 'So': 2, 'Insider': 2, 'raquo': 33, 'Crossword': 4, 'Play': 2, 'Todayrsquos': 2, 'Puzzle': 2, 'Wordplay': 1, 'HIDE': 1, 'WATCHING': 1, 'HEADER': 1, 'portalcontainerheader': 1, 'Watching': 1, 'requirehomepagemain': 2, 'httpsintnytcomappsportalsassetsportalapp31573ba689b023d9e52c26c6d6aa32abjs': 1, 'requireportalapp': 1, 'functionPortal': 1, 'opts': 2, 'env': 1, 'productionpublished': 1, 'matchHeight': 1, 'match': 1, 'spanablayoutlayout': 1, 'maxHeight': 1, 'windowlocationsearchindexOfportalvariantwatchingNoScroll': 1, 'optsvariation': 1, 'simple': 1, 'optspoll': 1, 'optslimit': 1, 'watching': 1, 'Portalcreatenytinthpwatching': 1, 'nythpNeediestCasesPromo': 4, 'storythemefeaturepromo': 1, 'georgiatimes': 1, 'Neediest': 2, 'Cases': 2, 'Her': 1, 'Peers': 1, 'Made': 1, 'School': 2, 'Look': 2, 'Easy': 1, 'Hard': 2, 'Work': 2, 'She’s': 1, 'Catching': 1, 'dropping': 1, 'out': 1, 'school': 1, 'Wendy': 1, 'Genao': 1, 'earned': 1, 'equivalency': 1, 'diploma': 1, 'enrolled': 1, 'college': 1, 'She': 2, 'finally': 1, 'feels': 1, 'scholar': 1, '106th': 1, 'year': 1, 'Fund': 1, 'provided': 1, 'direct': 1, 'assistance': 1, 'those': 1, 'struggling': 1, 'beyond': 1, 'Donate': 1, 'Our': 3, 'Advertisers': 1, 'Loading': 2, 'video': 1, 'explore': 1, 'videos': 1, 'Player': 1, 'Inside': 1, 'Nytimescom': 1, 'previous': 1, 'story': 2, 'next': 1, 'Dinners': 1, 'That': 1, 'Shaped': 1, 'History': 2, 'Behavior': 1, 'Great': 1, 'Art': 5, 'Citing': 1, 'Woody': 1, 'Allen': 1, 'Cosby': 1, 'Wagner': 1, 'Caravaggio': 1, 'others': 1, 'discuss': 1, 'whether': 1, 'artist’s': 1, 'misdeeds': 1, 'taint': 1, 'work': 1, 'Africa': 1, 'Mali’s': 1, 'Desert': 1, 'Elephants': 1, 'Fighting': 1, 'Chance': 1, 'Build': 2, 'Skin': 1, 'Care': 1, 'Routine': 1, 'Sunday': 3, 'Breast': 1, 'Cancer': 1, 'Serious': 1, 'Pink': 1, 'Not': 1, 'Thinking': 1, 'Feet': 1, 'MultimediaPhotos': 1, 'Beauty': 2, 'Rapidly': 1, 'Changing': 1, 'City': 2, 'Perfect': 1, 'Woman': 1, 'Paint': 1, 'Michelle': 1, 'Obama': 1, 'Amy': 1, 'Sherald’s': 1, 'artistic': 1, 'hands': 1, 'lady': 1, 'honored': 1, 'individual': 1, 'spectacular': 1, 'deserves': 1, 'such': 1, 'Mind': 1, 'Mindfulness': 1, 'Future': 2, 'Tense': 1, 'Haunted': 1, 'Purchases': 1, 'Web': 1, 'Yes': 2, 'Really': 1, 'Am': 1, 'This': 1, 'Pageant': 1, 'Sade’s': 1, 'Quiet': 1, 'Storm': 1, 'Cool': 1, 'Resist': 1, 'Rule': 1, 'Must': 1, 'Awash': 1, 'Cash': 1, 'Sixth': 1, 'Grade': 1, 'Straight': 1, 'Factory': 1, 'Day': 1, 'Mark': 1, 'Warner': 1, 'Millionaire': 1, 'Who': 3, 'Became': 1, 'Tech’s': 1, 'Critic': 1, 'Forget': 1, 'Far': 1, 'Uses': 1, 'Its': 1, 'Giant': 1, 'Rosneft': 1, 'Foreign': 1, 'Policy': 1, 'Tool': 1, 'OpEd': 3, 'Contributor': 1, 'Bryce': 1, 'Covert': 1, 'Misconduct': 1, 'California’s': 1, 'Capitol': 1, 'Difficult': 1, 'Escape': 1, 'Calls': 1, 'Hollywood': 1, 'Rebuild': 1, 'Power': 1, 'Lines': 1, 'Worries': 1, 'Big': 1, 'Companies': 1, 'Post': 1, 'Glowing': 1, 'Quarterly': 1, 'Fanned': 1, 'Flames': 1, 'Which': 2, 'Faces': 1, 'Blowback': 1, 'Bans': 1, 'Two': 1, 'KremlinBacked': 1, 'Outlets': 1, 'Advertising': 1, 'Kevin': 2, 'Spacey': 2, 'Apologizes': 2, 'Allegation': 2, 'DecadesOld': 2, 'Advance': 2, 'Minor': 2, 'Onstage': 1, 'JayZ': 1, 'Forgoes': 1, 'Distractions': 1, 'Drilling': 1, 'Down': 2, 'Message': 2, 'Critic’s': 2, 'Notebook': 3, 'Canadian': 1, 'Composer’s': 1, 'DeathObsessed': 1, 'Connection': 1, 'Suspended': 1, 'Tweets': 1, 'Strangling': 1, 'Fashion': 2, 'Fall': 3, 'Dead': 1, 'Virtual': 1, 'Reality': 1, 'Gets': 1, 'Naughty': 1, '‘Terry': 1, 'Richardson': 1, 'Just': 3, 'Tip': 1, 'Iceberg’': 1, 'Movies': 2, '‘Jigsaw’': 1, 'Carves': 1, 'Clooney’s': 1, '‘Suburbicon’': 1, 'Box': 1, 'Office': 1, 'Square’': 1, 'Takes': 1, 'Aim': 1, 'Sex': 1, 'Biggest': 1, 'Year': 1, 'Horror': 2, 'PostSandy': 1, 'Those': 1, 'Killed': 1, 'Houston': 2, 'leads': 1, 'series': 1, '32': 1, 'Dizzying': 1, 'BattleScarred': 1, 'West': 1, 'Wing': 1, 'Veteran': 1, 'Scripting': 1, 'NFL’s': 1, 'Anthem': 2, 'NFL': 1, 'Scores': 1, 'Texans': 1, 'Kneel': 1, 'During': 1, 'Protest': 1, 'Theater': 2, '‘Knives': 1, 'Hens’': 1, 'Wondrous': 1, 'Drama': 1, 'Lust': 1, 'Language': 1, 'Michael': 1, 'Moore': 1, 'Quarrel': 1, 'Broadway': 2, '‘M': 1, 'Butterfly’': 1, 'Returns': 1, 'Heavier': 1, 'Wings': 1, 'Trilobites': 3, 'Astronomers': 1, 'Study': 1, 'Mystery': 1, 'Object': 1, 'Outside': 1, 'Solar': 1, 'System': 1, 'TurkeySize': 1, 'Dinosaur': 1, 'RaccoonLike': 1, 'Bandit': 1, 'Mask': 1, 'Oysters': 1, 'Can': 2, '‘Hear’': 1, 'Probably': 1, 'Wish': 1, 'We’d': 1, 'Clam': 1, 'Obituaries': 2, 'Wopo': 1, 'Holup': 1, 'Adorned': 1, 'Spaces': 2, 'Dies': 3, '80': 1, 'Blakeley': 1, 'Whose': 1, 'Shelter': 1, 'Symbolized': 1, 'Cold': 1, '95': 1, 'Fay': 1, 'Chiang': 1, '65': 1, 'Poet': 1, 'Championed': 1, 'AsianAmerican': 1, 'Culture': 1, 'Television': 2, '‘Stranger': 1, 'Things’': 1, 'Season': 1, 'Premiere': 1, 'Recap': 1, 'Lingering': 1, 'Effects': 1, '‘TRL’': 1, 'Back': 2, 'MTV': 1, 'Undone': 1, 'Blocked': 1, 'Medicaid': 1, 'Expansion': 1, 'Maine': 1, 'Voters': 1, 'Could': 2, 'Overrule': 1, 'Him': 1, 'Old': 1, 'Age': 2, 'One': 1, 'Last': 1, 'Question': 1, 'Before': 1, 'Operation': 1, 'Frail': 1, 'Declares': 1, 'Opioid': 1, 'Crisis': 1, '‘Health': 1, 'Emergency’': 1, 'Requests': 1, 'Funds': 1, 'Next': 2, 'SpiceLaden': 1, 'Kerala': 1, 'Break': 1, 'Urban': 1, 'India': 1, 'Footsteps': 1, 'Chasing': 1, 'Spirit': 1, 'Fractured': 1, 'Through': 1, 'García': 1, 'Lorca': 1, 'Bargain': 1, 'Destinations': 1, 'Books': 2, 'Nonfiction': 1, 'Stranger': 1, 'Than': 3, 'Fiction': 3, 'Best': 2, 'TrueCrime': 1, 'Stories': 1, 'Roundup': 2, 'Indebted': 1, 'Early': 1, 'Master': 1, 'Villains': 1, 'Ourselves': 1, 'Thriller': 1, 'Education': 4, 'Campus': 2, 'Hate': 1, 'Lives': 1, 'Administrators': 1, 'Need': 1, 'Catch': 1, 'Classroom': 1, 'Setting': 1, 'Suits': 1, 'Help': 2, 'Students': 1, 'Pay': 1, 'Right': 2, 'Price': 1, 'College': 1, 'Kitchen': 1, 'Warming': 1, 'Curry': 1, 'Wine': 1, 'Lesson': 1, 'Savennières': 1, 'Matt': 1, 'Orlando': 1, 'Brings': 1, 'Sun': 1, 'Copenhagen': 1, 'Issue': 3, 'AllHandsOnDeck': 1, 'Dumpling': 1, 'Fondue': 1, 'Bedroom': 2, 'Rover': 2, 'Maybe': 2, 'Even': 2, 'Condo': 2, 'View': 2, 'Be': 1, 'Illegal': 1, 'Apartment': 1, 'Shopping': 2, 'Wingback': 1, 'Chairs': 1, 'Upshot': 1, 'Silver': 1, 'Costs': 1, 'Gold': 1, 'Trump’s': 1, 'Actions': 1, 'Have': 1, 'Scrambled': 1, 'Insurance': 1, 'Prices': 1, 'Draw': 1, 'Drug': 2, 'Overdose': 1, 'Epidemic': 1, 'Deaths': 1, 'Rising': 1, 'Faster': 1, 'Ever': 1, 'Reporter’s': 1, '‘I’m': 1, 'Icing': 1, 'Knee': 1, 'I’m': 1, 'Boiling': 1, 'Eggs’': 1, 'Automobiles': 2, 'Automakers': 1, 'Chests': 1, 'Finance': 1, 'SelfDriving': 1, 'Subaru': 1, 'Admits': 1, 'Inspection': 1, 'Failings': 1, 'Another': 1, 'Carmakers': 1, 'Wheels': 1, 'Forgetting': 1, 'Child': 1, 'Seat': 1, 'Kill': 1, 'Cars': 1, 'May': 1, 'Soon': 1, 'Warn': 1, 'Design': 2, 'Man': 1, 'Designing': 1, 'Instagram': 1, 'Things': 1, 'Editors': 1, 'Helsinki’s': 1, 'Saunas': 1, 'CAROLINE': 1, 'BIGGS': 1, 'serious': 1, 'animal': 1, 'lovers': 1, 'pets': 1, 'family': 2, 'And': 1, 'doesn’t': 1, 'every': 1, 'member': 1, 'deserve': 1, 'space': 1, 'Homes': 1, 'Sale': 2, 'Rent': 1, 'Mortgage': 1, 'Calculator': 1, 'Emailed': 1, 'Viewed': 1, 'Trending': 1, 'Recommended': 1, 'Home': 2, 'Page': 1, 'Index': 2, 'windowmagnumwriteLogosmall': 1, 'httpsa1nytcomassetshomepage20171018133349imagesfoundationlogos': 1, 'standard': 1, 'siteindexbrandinglink': 1, 'Todays': 3, 'Corrections': 1, 'Columnists': 1, 'Editorials': 1, 'Contributors': 1, 'Letters': 1, 'Dance': 1, 'Music': 1, 'NYC': 3, 'Events': 3, 'Jobs': 1, 'Weddings': 1, 'Celebrations': 1, 'Listings': 1, 'Reader': 1, 'Center': 1, 'Classifieds': 1, 'Tools': 1, 'Services': 1, 'Photography': 1, 'NYT': 1, 'Store': 1, 'Journeys': 1, 'Manage': 1, 'Account': 1, 'NYTCo': 1, 'Delivery': 1, 'Digital': 1, 'Email': 1, 'Newsletters': 1, 'Alerts': 1, 'Gift': 1, 'Corporate': 1, 'Rate': 1, 'Applications': 1, 'Replica': 1, 'Information': 2, 'copy': 1, 'Company': 1, 'Contact': 1, 'Us': 2, 'Advertise': 1, 'Ad': 1, 'Choices': 1, 'Privacy': 1, 'Terms': 2, 'Service': 1, 'Map': 1, 'Feedback': 1, 'Version': 1, 'windowlocationsearchindexOfdisabletagx': 1, 'requirehttpsa1nytcomanalyticstagxsimpleminjs': 1, 'pageManagertrackingFireEventQueue': 1}\n"
     ]
    }
   ],
   "source": [
    "from urllib import request \n",
    "import string\n",
    " \n",
    "url = 'http://www.nytimes.com' # 뉴욕타임스\n",
    "f = request.urlopen(url)\n",
    "source_bytes = f.read()\n",
    "source = source_bytes.decode('utf-8')\n",
    "\n",
    "# 추후 숙제 답안 제출 때엔 아래 코드는 주석처리할 것                 \n",
    "#print(type(source_bytes))\n",
    "#print(type(source))\n",
    "#print(source)\n",
    "#print(source)\n",
    "\n",
    "word_flag = True\n",
    "fst = 0\n",
    "lst = 0\n",
    "cnt = 0\n",
    "l = []\n",
    "flag = True\n",
    "\n",
    "for x in source:\n",
    "    if(x == '<'):\n",
    "        word_flag = False\n",
    "    elif(x == '>'):\n",
    "        word_flag = True\n",
    "        \n",
    "    if(flag == True and word_flag == True and x != ' ' and x != '>' and x != '\\n' and x != '\\t'):\n",
    "        flag = False\n",
    "        fst = cnt\n",
    "    elif(flag == False and (x == ' ' or x == '<') and x != '\\n' and x != '\\t'):\n",
    "        flag = True\n",
    "        lst = cnt\n",
    "        l.append(source[fst:lst])\n",
    "        \n",
    "    cnt=cnt+1\n",
    "    \n",
    "n = []\n",
    "w = ' '.join(l)\n",
    "for x in range(len(w)):\n",
    "    if(w[x] not in string.punctuation):\n",
    "        n.append(w[x])\n",
    "w = ''.join(n)\n",
    "l = w.split()\n",
    "word_t = {}\n",
    "for x in l:\n",
    "    if(x in word_t):\n",
    "        word_t[x] = word_t[x]+1\n",
    "    else:\n",
    "        word_t[x] = 1\n",
    "        \n",
    "print(word_t)"
   ]
  },
  {
   "cell_type": "markdown",
   "metadata": {},
   "source": [
    "저번의 과제에 이어서 Incremental Project를 진행하였다. 이번에는 저번에 얻은 단어 리스트에서 구두 문자를 완벽히 제거해야 하므로 join 메소드를 사용하여 단어 리스트 l 내부의 원소들을 이어 하나의 문자열을 얻었다. 그리고 이 문자열의 원소들을 검사하여 구두 문자가 아닌 것들만 넣은 새로운 단어 리스트를 얻었다. 공백으로 판명되는 단어들을 제거하기 위해 split 메소드를 사용하였다. 또, 마지막 요구사항인 이들의 출현빈도를 사전형태로 저장하기 위해 for ~ in 문을 사용하였다. 이렇게 하면 맞는지는 잘 모르겠지만 이 문제를 해결할 수 있다."
   ]
  },
  {
   "cell_type": "markdown",
   "metadata": {
    "collapsed": true
   },
   "source": [
    "### 숙제이후 소감"
   ]
  },
  {
   "cell_type": "markdown",
   "metadata": {},
   "source": [
    "이번 과제는 Incremental Project를 제외하면 비교적 할 만했습니다. 그런데 과제를 하면서 느낀 것이지만 강의가 진행되면 진행될수록 배우는 것이 많아지다 보니 리스트와 튜플의 개념들이 서로 헷갈리는 듯한 느낌을 받았습니다. 아마 이 두개가 비슷한 부분이 많아서 그런 것 같은데, 앞으로는 헷갈리지 않고 이들을 자유자재로 사용하기 위해 이들의 개념과 공통점과 차이점, 그리고 각각의 기능들을 정확히 공부할 것입니다. Incremental Project는 이번에도 역시 정확히 구현한지는 잘 모르겠지만, 그래도 강의시간에 배운 여러 메소드들을 적용해 볼 수 있어서 좋았습니다. 교수님께서 강의하실 때 오직 파이썬 수업만 하시는 것이 아니라 프로그래머로서 알아두면 좋은 여러 사이트들까지 알려주셔서 강의시간이 매번 정말 유익합니다. 앞으로도 강의를 열심히 듣고 공부도 열심히 하여 지금보다 더 발전할 수 있도록 노력할 것입니다."
   ]
  }
 ],
 "metadata": {
  "kernelspec": {
   "display_name": "Python 3",
   "language": "python",
   "name": "python3"
  },
  "language_info": {
   "codemirror_mode": {
    "name": "ipython",
    "version": 3
   },
   "file_extension": ".py",
   "mimetype": "text/x-python",
   "name": "python",
   "nbconvert_exporter": "python",
   "pygments_lexer": "ipython3",
   "version": "3.6.1"
  }
 },
 "nbformat": 4,
 "nbformat_minor": 2
}
