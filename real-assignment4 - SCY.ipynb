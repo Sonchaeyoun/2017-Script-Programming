{
 "cells": [
  {
   "cell_type": "markdown",
   "metadata": {},
   "source": [
    "# 과제 4번 - 2016136062 손채연"
   ]
  },
  {
   "cell_type": "markdown",
   "metadata": {},
   "source": [
    "### 1번 문제"
   ]
  },
  {
   "cell_type": "markdown",
   "metadata": {},
   "source": [
    "* 파일 s.txt 내의 다음 내용과 함께 아래 문제의 코드를 제시하시오. "
   ]
  },
  {
   "cell_type": "markdown",
   "metadata": {},
   "source": [
    "pig ham<br/>\n",
    "cat dog<br/>\n",
    "ham bird<br/>\n",
    "dog pig<br/>"
   ]
  },
  {
   "cell_type": "markdown",
   "metadata": {},
   "source": [
    "* -1) 파일 s.txt을 읽어서 각 라인에 있는 첫 번째 단어(문자열) 자체들을 기준으로 라인별 정렬후 파일 s1.txt에 그 결과를 기록하는 코드를 작성하시오. 즉, 프로그램 수행 후 s1.txt에 있는 파일 내용은 다음과 같다."
   ]
  },
  {
   "cell_type": "markdown",
   "metadata": {},
   "source": [
    "cat dog<br/>\n",
    "dog pig<br/>\n",
    "ham bird<br/>\n",
    "pig ham<br/>"
   ]
  },
  {
   "cell_type": "code",
   "execution_count": 14,
   "metadata": {},
   "outputs": [
    {
     "name": "stdout",
     "output_type": "stream",
     "text": [
      "cat dog\n",
      "dog pig\n",
      "ham bird\n",
      "pig ham\n",
      "\n"
     ]
    }
   ],
   "source": [
    "with open('s.txt', 'r') as f:\n",
    "    l = f.readlines()\n",
    "    \n",
    "l.sort()\n",
    "\n",
    "with open('s1.txt', 'w') as f1:\n",
    "    for x in l:\n",
    "        f1.write(x)\n",
    "        \n",
    "with open('s1.txt', 'r') as f2:\n",
    "    print(f2.read())"
   ]
  },
  {
   "cell_type": "markdown",
   "metadata": {},
   "source": [
    "읽기 용도로 파일 s.txt를 연 후, readlines() 메소드를 사용하여 모든 행의 문자열을 리스트로 읽었다. 이 리스트를 sort()메소드를 사용하여 정렬한 후 파일 s1.txt를 쓰기 용도로 열어 여기에 작성하였다. "
   ]
  },
  {
   "cell_type": "markdown",
   "metadata": {},
   "source": [
    "* -2) 파일 s.txt을 읽어서 각 라인에 있는 두 번째 단어(문자열) 자체들을 기준으로 라인별 정렬후 파일 s2.txt에 그 결과를 기록하는 코드를 작성하시오. 즉, 프로그램 수행 후 s2.txt에 있는 파일 내용은 다음과 같다."
   ]
  },
  {
   "cell_type": "markdown",
   "metadata": {},
   "source": [
    "ham bird<br/>\n",
    "cat dog<br/>\n",
    "pig ham<br/>\n",
    "dog pig<br/>"
   ]
  },
  {
   "cell_type": "code",
   "execution_count": 15,
   "metadata": {},
   "outputs": [
    {
     "name": "stdout",
     "output_type": "stream",
     "text": [
      "ham bird\n",
      "cat dog\n",
      "pig ham\n",
      "dog pig\n",
      "\n"
     ]
    }
   ],
   "source": [
    "new_list = sorted(l, key=lambda l : l[4])\n",
    "\n",
    "with open('s2.txt', 'w') as f1:\n",
    "    for y in new_list:\n",
    "        f1.write(y)\n",
    "\n",
    "with open('s2.txt', 'r') as f2:\n",
    "    print(f2.read()) "
   ]
  },
  {
   "cell_type": "markdown",
   "metadata": {},
   "source": [
    "1)에서 파일을 읽어 생성한 리스트를 lambda함수와 sorted() 메소드를 사용해서 두 번째 단어의 첫 번째 글자를 기준으로 정렬하였다. 그리고 이 리스트를 쓰기 용도로 연 파일 's2.txt'에 작성하였다."
   ]
  },
  {
   "cell_type": "markdown",
   "metadata": {},
   "source": [
    "* -3) 파일 s.txt을 읽어서 각 라인들에 있는 모든 단어들을 순차적으로 다시 나열하되 각 라인에 세 개의 단어들이 오도록 하여 s3.txt에 기록하는 코드를 작성하시오. 즉, 프로그램 수행 후 s3.txt에 있는 파일 내용은 다음과 같다."
   ]
  },
  {
   "cell_type": "markdown",
   "metadata": {},
   "source": [
    "pig ham cat<br/>\n",
    "dog ham bird<br/>\n",
    "dog pig<br/>"
   ]
  },
  {
   "cell_type": "code",
   "execution_count": 16,
   "metadata": {},
   "outputs": [
    {
     "name": "stdout",
     "output_type": "stream",
     "text": [
      "pig ham cat\n",
      "dog ham bird\n",
      "dog pig\n"
     ]
    }
   ],
   "source": [
    "with open('s.txt', 'r') as f:\n",
    "    l = f.read()\n",
    "l = l.split()\n",
    "\n",
    "res = ''\n",
    "i = 0\n",
    "while i < len(l):\n",
    "    if i == 0:\n",
    "        res = res + l[i]\n",
    "        i += 1\n",
    "        continue\n",
    "    elif i % 3 == 0:\n",
    "        res = res + '\\n'\n",
    "        res = res + l[i]\n",
    "        i += 1\n",
    "        continue\n",
    "\n",
    "    res = res + ' ' + l[i]\n",
    "    i += 1\n",
    "    \n",
    "with open('s3.txt', 'w') as f1:\n",
    "    f1.write(res)\n",
    "\n",
    "with open('s3.txt', 'r') as f2:\n",
    "    print(f2.read())"
   ]
  },
  {
   "cell_type": "markdown",
   "metadata": {},
   "source": [
    "파일 's.txt'에 저장되어 있는 문자열을 공백을 기준으로 분리하였다. 이의 인덱스가 i%3이 아니면 새로운 문자열 res에 공백과 함께 작성하고, i%3이면 '\\n'도 추가로 작성되게 하여 한 줄에 세 단어씩 출력될 수 있도록 하였다. 파일 's3.txt'를 쓰기 모드로 열어 여기에 새로 만든 문자열 res를 작성하였다."
   ]
  },
  {
   "cell_type": "markdown",
   "metadata": {},
   "source": [
    "### 2번 문제"
   ]
  },
  {
   "cell_type": "markdown",
   "metadata": {},
   "source": [
    "* 다음과 같은 조건들을 참고하여 회원 가입 및 로그인 프로그램을 작성하시오."
   ]
  },
  {
   "cell_type": "markdown",
   "metadata": {},
   "source": [
    "* 1) 프로그램 시작 후 다음과 같은 메시지가 출력되어 1, 2, 3 중 하나의 값을 입력 받도록 한다."
   ]
  },
  {
   "cell_type": "markdown",
   "metadata": {},
   "source": [
    "Welcome to Our Service<br/>\n",
    "\n",
    "1.Sign Up<br/>\n",
    "2.Sign In<br/>\n",
    "3.Quit<br/>"
   ]
  },
  {
   "cell_type": "markdown",
   "metadata": {},
   "source": [
    "* 2) 1을 선택하면 ID, Password, Name, School의 4가지 정보를 입력받아 파일에 저장하는 프로그램을 작성한다.\n",
    "    * 2-1) 입력된 내용은 access.txt 라는 이름의 텍스트 파일 내에 저장된다.\n",
    "    * 2-2) access.txt 파일의 각 라인에는 가입된 회원 각각의 정보가 \"[id]: [password], [name], [school]\" 형태로 저장된다.\n",
    "    * 2-3) 즉, 가입 회원이 10명이면 access.txt 파일 내에 라인 수도 정확히 10개이다.\n",
    "    * 2-4) 암호화 방식은 sha 모듈을 활용한다. sha 모듈 활용 방법은 본 문제의 마지막에 제시된 sha 활용 예를 참고한다. 즉, access.txt 파일 내에 password 정보는 암호화 되어 저장되어야 한다.\n",
    "    * 2-5) 회원 정보를 입력 받을 때 id를 입력 받은 직후 access.txt를 확인하여 이미 존재하는 id가 입력되었다면 다음 메시지를 출력하고 id 정보를 다시 입력받는다.\n",
    "        * Sorry, the entered ID is already used.\n",
    "* 3) 2를 선택하면 ID, Password의 2가지 정보를 입력받는 프로그램을 작성한다.\n",
    "    * 3-1) 입력된 ID 정보가 access.txt에 존재하지 않으면 다음과 같은 메시지를 출력하고 다시 입력받는다.\n",
    "        * Sorry, you are not a registered member.\n",
    "    * 3-2) 입력된 ID가 올바르게 존재하지만 Password 정보가 access.txt 파일에 있는 정보와 불일치하면 다음과 같은 메시지를 출력하고 Password를 다시 입력받는다.\n",
    "        * Sorry, the entered password is not correct.\n",
    "        * 이 때에도 사용자가 입력한 Password 정보와 함께 sha 모듈이 활용되어야 한다.\n",
    "    * 3-3) 입력된 ID와 Password가 모두 올바르면 다음과 같은 메시지를 출력한다.\n",
    "        * Hello [name]!\n",
    "        * 위 [name]에는 access.txt에 기록되어 있는 name 정보를 출력한다.\n",
    "* 4) 3을 선택하면 프로그램이 끝난다.\n",
    "* [참고] sha 모듈 활용 예"
   ]
  },
  {
   "cell_type": "code",
   "execution_count": 1,
   "metadata": {},
   "outputs": [
    {
     "name": "stdout",
     "output_type": "stream",
     "text": [
      "1.Sign Up\n",
      "2.Sign In\n",
      "3.quit\n",
      "1\n",
      "ID: chaeyoun\n",
      "Password : abcde\n",
      "Name: sonchaeyoun\n",
      "School: kut\n",
      "1.Sign Up\n",
      "2.Sign In\n",
      "3.quit\n",
      "2\n",
      "ID: chaeyoun\n",
      "Password: abcde\n",
      "Hello [chaeyoun]!\n",
      "1.Sign Up\n",
      "2.Sign In\n",
      "3.quit\n",
      "2\n",
      "ID: sonchaeyoun\n",
      "Password: abcde\n",
      "Sorry, you are not a registered member.\n",
      "1.Sign Up\n",
      "2.Sign In\n",
      "3.quit\n",
      "2\n",
      "ID: chaeyoun\n",
      "Password: abc\n",
      "Sorry, the entered password is not correct.\n",
      "1.Sign Up\n",
      "2.Sign In\n",
      "3.quit\n",
      "1\n",
      "ID: chaeyoun\n",
      "Sorry, the entered ID is already used.\n",
      "1.Sign Up\n",
      "2.Sign In\n",
      "3.quit\n",
      "1\n",
      "ID: SCY\n",
      "Password : abcd\n",
      "Name: scy\n",
      "School: koreatech\n",
      "1.Sign Up\n",
      "2.Sign In\n",
      "3.quit\n",
      "2\n",
      "ID: SCY\n",
      "Password: abcd\n",
      "Hello [SCY]!\n",
      "1.Sign Up\n",
      "2.Sign In\n",
      "3.quit\n",
      "3\n"
     ]
    }
   ],
   "source": [
    "import hashlib\n",
    "import os\n",
    "import copy\n",
    "\n",
    "def menu():\n",
    "    print(\"1.Sign Up\")\n",
    "    print(\"2.Sign In\")\n",
    "    print(\"3.quit\")\n",
    "    return input()\n",
    "\n",
    "if not os.path.isfile('access.txt'):\n",
    "    f = open('access.txt','w+')\n",
    "else:\n",
    "    f = open('access.txt', 'r+')\n",
    "    if(f.read() == ''):\n",
    "        f.close()\n",
    "        f = open('access.txt','a+')\n",
    "\n",
    "def ID_Check(Id, file):\n",
    "\n",
    "    f = file\n",
    "    f.seek(0)\n",
    "    l_file = f.readlines()\n",
    "    i = 0\n",
    "    \n",
    "    while i < len(l_file):\n",
    "        if (Id in getId(l_file[i])):\n",
    "            if getId(l_file[i]) == Id:\n",
    "                return True\n",
    "        i = i + 1\n",
    "    return False\n",
    "\n",
    "def getId(info):\n",
    "    return info[:info.find(':')]\n",
    "\n",
    "def getPassword(info):\n",
    "    return info[info.find(' ') + 1:info.find(',')]\n",
    "\n",
    "def getName(info):\n",
    "    return info[info.find(',') + 2: info.rfind(',')]\n",
    "\n",
    "def is_ID_Exist(id, data):\n",
    "    data = copy.deepcopy(data)\n",
    "    i = 0\n",
    "    for x in data:\n",
    "        x = getId(x)\n",
    "        data[i] = x\n",
    "        i = i + 1\n",
    " \n",
    "    if (id not in data):\n",
    "        return False\n",
    "    else:\n",
    "        return id\n",
    "\n",
    "def is_Password_Right(id, password, data):\n",
    "    password=hashlib.sha1(password.encode('utf-8')).hexdigest()\n",
    "\n",
    "    for x in range(len(data)):\n",
    "        if (id in data[x]):\n",
    "            if (password in data[x]):\n",
    "                return True\n",
    "    return False\n",
    "\n",
    "def find_Name(id, data):\n",
    "    for i in range(len(data)):\n",
    "        if(id in data[i]):\n",
    "            if(id == getId(data[i])):\n",
    "                return getName(data[i])\n",
    "            else:\n",
    "                continue\n",
    "    return \"Id is not found\"\n",
    "\n",
    "while True:\n",
    "    sct = menu()  \n",
    "    if sct =='1': \n",
    "        id = input('ID: ')\n",
    "\n",
    "        if ID_Check(id, f) == True:\n",
    "            print(\"Sorry, the entered ID is already used.\")\n",
    "            continue\n",
    "\n",
    "        password=hashlib.sha1(input('Password : ').encode('utf-8')).hexdigest()\n",
    "        name = input('Name: ')\n",
    "        school = input('School: ')\n",
    "       \n",
    "        inputted_data = id + \": \" + password + \", \" + name + \", \" + school + \"\\n\"\n",
    "\n",
    "        if f.read() != '':\n",
    "            f = open('access.txt', 'a+')\n",
    "            f.write(inputted_data)\n",
    "        else:\n",
    "            f.write(inputted_data)\n",
    "\n",
    "    if sct == '2':\n",
    "        id = input('ID: ')\n",
    "        password = input('Password: ')\n",
    "        if f == None:\n",
    "            f = open('access.txt', 'r')\n",
    "        f.seek(0)\n",
    "        user = f.readlines()\n",
    "        id_exst = is_ID_Exist(id, user)\n",
    "    \n",
    "        if not id_exst:\n",
    "            print(\"Sorry, you are not a registered member.\")\n",
    "        else:\n",
    "            if not is_Password_Right(id_exst, password, user):\n",
    "                print(\"Sorry, the entered password is not correct.\")\n",
    "            else:\n",
    "                print(\"Hello [\"+id_exst+\"]!\")\n",
    "\n",
    "    if sct == '3':\n",
    "        break"
   ]
  },
  {
   "cell_type": "markdown",
   "metadata": {},
   "source": [
    "메뉴를 출력하는 동시에 메뉴 번호를 사용자로부터 받는 함수를 구현해서 while 반복문에서 실행시켰다. quit 메뉴인 3을 사용자가 선택하기 전까지 while 안의 코드들은 계속 반복해서 실행된다. 사용자가 1을 선택하면 ID와 password, Name, School을 받아 access.txt에 쓴다. 만약 사용자가 이미 존재하는 ID를 입력하면 Sorry, the entered ID is already used.를 출력한다. 이때, sha모듈의 암호화 방식을 사용하였다. 사용자가 2를 선택하면 ID와 password를 받아 적절한 것들인지 확인한다. 만약 ID가 틀렸다면 Sorry, you are not a registered memeber.를 출력하고 ID는 맞지만 password가 적절하지 않다면 Sorry, the entered password is not correct.를 출력한다. 이렇게 하면 이 문제를 풀 수 있다.  "
   ]
  },
  {
   "cell_type": "markdown",
   "metadata": {},
   "source": [
    "### 3번 문제"
   ]
  },
  {
   "cell_type": "markdown",
   "metadata": {},
   "source": [
    "range() 함수와 유사한 frange() 함수를 다음 조건을 참고하여 만드시오."
   ]
  },
  {
   "cell_type": "markdown",
   "metadata": {},
   "source": [
    "* 1) frange()의 인자 구성은 다음과 같이 range와 동일하지만 각 인수들은 음수를 받지 않는다고 가정한다."
   ]
  },
  {
   "cell_type": "markdown",
   "metadata": {},
   "source": [
    "range(stop)<br/>\n",
    "range(start, stop[, step])<br/>"
   ]
  },
  {
   "cell_type": "markdown",
   "metadata": {},
   "source": [
    "* 2) frange() 함수의 인자에 대한 기본 시작(start) 값은 0.0이고, 기본 단계(step) 값은 0.1이다.\n",
    "* 3) frange 사용 예\n",
    "    * 3-1) frange(0.5)\n",
    "        * [0.0, 0.1, 0.2, 0.3, 0.4]\n",
    "    * 3-2) frange(1.0, 2.0)\n",
    "        * [1.0, 1.1, 1.2, 1.3, 1.4, 1.5, 1.6, 1.7, 1.8, 1.9]\n",
    "    * 3-3) frange(2.2, 4.0, 0.5)\n",
    "        * [2.2, 2.7, 3.2, 3.7]"
   ]
  },
  {
   "cell_type": "code",
   "execution_count": 30,
   "metadata": {},
   "outputs": [
    {
     "name": "stdout",
     "output_type": "stream",
     "text": [
      "[0.0, 0.1, 0.2, 0.3, 0.4]\n",
      "[1.0, 1.1, 1.2, 1.3, 1.4, 1.5, 1.6, 1.7, 1.8, 1.9]\n",
      "[2.2, 2.7, 3.2, 3.7]\n"
     ]
    }
   ],
   "source": [
    "from decimal import *\n",
    "def frange(*arg):\n",
    "    start = 0.0\n",
    "    step = 0.1\n",
    "    step = round(step, 1)\n",
    "    \n",
    "    frange_list=[]\n",
    "    \n",
    "    # 인자가 하나만 올 경우\n",
    "    if len(arg) == 1:\n",
    "        while start < arg[0]:\n",
    "            frange_list.append(start)\n",
    "            start += step\n",
    "            start = round(start, 1)\n",
    "\n",
    "        return frange_list\n",
    "    \n",
    "    # 인자가 두 개 오는 경우\n",
    "    if len(arg) == 2:\n",
    "        start = arg[0]        \n",
    "\n",
    "        while start < arg[1]:\n",
    "            frange_list.append(start)\n",
    "            start += step\n",
    "            start = round(start, 1)\n",
    "            \n",
    "        return frange_list\n",
    "    \n",
    "    # 인자가 세 개 오는 경우\n",
    "    if len(arg) == 3:\n",
    "        start = arg[0]\n",
    "        step = arg[2]\n",
    "        \n",
    "        while start < arg[1]:\n",
    "            frange_list.append(start)\n",
    "            start += step\n",
    "            start = round(start, 1)\n",
    "            \n",
    "        return frange_list\n",
    "    \n",
    "print(frange(0.5))\n",
    "print(frange(1.0, 2.0))\n",
    "print(frange(2.2, 4.0, 0.5))"
   ]
  },
  {
   "cell_type": "markdown",
   "metadata": {
    "collapsed": true
   },
   "source": [
    "우선 인자가 몇 개 오는지를 검사하여 그에 따라 실행하도록 했다. 인자의 개수가 바뀜에 따라 start, stop, step의 값은 디폴트 값이 아닌 주어진 값으로 되어야 한다. 이렇게 해서 start에 step을 더한 값을 while문을 사용하여 start 값이 stop보다 작을 동안 반환되는 리스트 frange_list에 추가했다. 이렇게 하면 이 함수를 구현할 수 있다."
   ]
  },
  {
   "cell_type": "markdown",
   "metadata": {},
   "source": [
    "### 4번 문제"
   ]
  },
  {
   "cell_type": "markdown",
   "metadata": {},
   "source": [
    "가변인수를 받는 함수 sum()을 다음과 같은 조건을 참고하여 구현하시오"
   ]
  },
  {
   "cell_type": "markdown",
   "metadata": {},
   "source": [
    "* sum() 사용 예\n",
    "    * sum()\n",
    "        * 0\n",
    "    * sum(1, 2)\n",
    "        * 3\n",
    "    * sum(1, 2, 3, 4, 5)\n",
    "        * 15\n",
    "    * sum(1, 5, 7, 2, -10)\n",
    "        * 5"
   ]
  },
  {
   "cell_type": "code",
   "execution_count": 1,
   "metadata": {},
   "outputs": [
    {
     "name": "stdout",
     "output_type": "stream",
     "text": [
      "0\n",
      "3\n",
      "15\n",
      "5\n"
     ]
    }
   ],
   "source": [
    "def sum(*arg):\n",
    "    res = 0\n",
    "    for x in arg:\n",
    "        res += x\n",
    "    return res\n",
    "\n",
    "print(sum())\n",
    "print(sum(1,2))\n",
    "print(sum(1,2,3,4,5))\n",
    "print(sum(1,5,7,2,-10))"
   ]
  },
  {
   "cell_type": "markdown",
   "metadata": {
    "collapsed": true
   },
   "source": [
    "가변인수를 받는 함수 sum()을 구현하기 위해 가변 인수 리스트를 사용하였다. 0으로 초기화된 변수 res에 for문을 사용해 가변 인수 리스트에 있는 객체들을 누적해서 더해가는 방식으로 sum() 함수를 구현했다."
   ]
  },
  {
   "cell_type": "markdown",
   "metadata": {},
   "source": [
    "### 5번 문제"
   ]
  },
  {
   "cell_type": "markdown",
   "metadata": {},
   "source": [
    "여러 단어로 이루어진 문자열을 입력받아 각 단어의 첫글자로 이루어진 단어를 대문자로 출력하는 myinitial() 함수를 다음 조건을 참고하여 작성하시오."
   ]
  },
  {
   "cell_type": "markdown",
   "metadata": {},
   "source": [
    "* 1) 다음에 제시되는 함수들을 모두 이용해야 한다.\n",
    "    * split\n",
    "    * map\n",
    "    * join\n",
    "* 2) myinitial() 함수 사용 예\n",
    "    * myinitial(\"as soon as possible\")\n",
    "        * ASAP"
   ]
  },
  {
   "cell_type": "code",
   "execution_count": 9,
   "metadata": {},
   "outputs": [
    {
     "name": "stdout",
     "output_type": "stream",
     "text": [
      "ASAP\n"
     ]
    }
   ],
   "source": [
    "def r_first(l):\n",
    "    return l[0]\n",
    "\n",
    "def myinitial(s):\n",
    "    s = s.split()\n",
    "    mapped_s = list(map(r_first, s))\n",
    "    res = ''.join(mapped_s)\n",
    "    return res.upper()\n",
    "\n",
    "print(myinitial(\"as soon as possible\"))"
   ]
  },
  {
   "cell_type": "markdown",
   "metadata": {
    "collapsed": true
   },
   "source": [
    "문자열 s를 받아서 이를 split 메소드를 사용해 공백으로 분리한다. 그리고 이를 map 내장함수를 사용해 리스트의 첫 번째 원소를 반환하도록 구현한 r_first() 함수가 모두 적용된 원소를 지닌 map객체가 반환되도록 한다. 마지막으로 이 map객체를 join메소드로 하나의 문자열로 합친 뒤 이를 upper 메소드를 사용해 대문자로 전환하여 반환하면 myinitial() 함수를 구현할 수 있다."
   ]
  },
  {
   "cell_type": "markdown",
   "metadata": {},
   "source": [
    "### 6번 문제"
   ]
  },
  {
   "cell_type": "markdown",
   "metadata": {},
   "source": [
    "음이 아닌 정수 n를 입력받으면 n! (factorial)을 계산하는 myfact() 함수를 재귀적 함수로 구현하시오"
   ]
  },
  {
   "cell_type": "markdown",
   "metadata": {},
   "source": [
    "* [옵션] 참을 수 있는 정도 만큼의 수행시간을 직접 기다려보면서 n을 늘려보도록 합시다."
   ]
  },
  {
   "cell_type": "code",
   "execution_count": 15,
   "metadata": {},
   "outputs": [
    {
     "name": "stdout",
     "output_type": "stream",
     "text": [
      "음이 아닌 수만 입력 가능합니다.\n",
      "None\n",
      "1\n",
      "120\n",
      "30414093201713378043612608166064768844377641568960512000000000000\n",
      "93326215443944152681699238856266700490715968264381621468592963895217599993229915608941463976156518286253697920827223758251185210916864000000000000000000000000\n"
     ]
    }
   ],
   "source": [
    "def myfact(n):\n",
    "    if n == 1:\n",
    "        return n\n",
    "    elif n == 0:\n",
    "        return 1\n",
    "    elif n < 0:\n",
    "        print(\"음이 아닌 수만 입력 가능합니다.\")\n",
    "    else:\n",
    "        return n*myfact(n-1)\n",
    "    \n",
    "print(myfact(-1))\n",
    "print(myfact(0))\n",
    "print(myfact(5))\n",
    "print(myfact(50))\n",
    "print(myfact(100))"
   ]
  },
  {
   "cell_type": "markdown",
   "metadata": {
    "collapsed": true
   },
   "source": [
    "정수 n을 받아서 이를 검사한다. 만약 n이 1이면 그대로 1을 반환하고, 0이면 1을 반환한다. 그리고 음수면 음이 아닌 수만 입력 가능하다는 메시지를 출력한다. 이들을 제외한 나머지 모든 경우에 n-1을 받는 자신을 호출하여 n과 곱한다. 이렇게 하면 재귀적 함수 myfact()를 구현할 수 있다. 이를 숫자를 점점 늘려가면서 호출하면 숫자가 커질수록 그 수행시간이 길어지는 것을 확인할 수 있다."
   ]
  },
  {
   "cell_type": "markdown",
   "metadata": {},
   "source": [
    "### 7번 문제"
   ]
  },
  {
   "cell_type": "markdown",
   "metadata": {},
   "source": [
    "(서술형) import string 과 from string import * 의 차이점을 설명하시오."
   ]
  },
  {
   "cell_type": "markdown",
   "metadata": {},
   "source": [
    "답) import string은 namespace string이 그대로 유지되는 반면에 from string import*는 '_'로 시작되는 이름들을 제외한 string 모듈 안에 존재하는 모든 이름들을 현재의 namespace 로 불러들인다. 따라서 import string에서 string의 메소드들을 사용하기 위해서는 string.특정 메소드와 같은 방법을 써야 한다."
   ]
  },
  {
   "cell_type": "markdown",
   "metadata": {
    "collapsed": true
   },
   "source": [
    "### 8번 문제"
   ]
  },
  {
   "cell_type": "markdown",
   "metadata": {
    "collapsed": true
   },
   "source": [
    "이전 Assignment 3의 마지막 문제는 웹 URL로 지정된 웹페이지를 문자열로 가져와 모든 HTML 태그 및 CSS와 Javascript를 제외한 순수 텍스트를 얻어내고 그 안에 존재하는 단어를 추출하여 각 단어들에 대해 출현빈도를 사전형태({'world': 2, 'hello': 1, 'python': 1})로 저장하여 출력하는 것이었다. 이번에는 Assignment 3를 확장하여 다음과 같은 조건을 만족하도록 구현하시오.\n",
    "\n",
    "* 1) 다음 사이트에서 제시되는 영어 불용어 (Stop words)를 참고하여 이전 숙제에서 구성했던 단어 사전에서 영어 불용어들을 모두 제거하는 코드를 추가하시오.\n",
    "\n",
    "    * http://www.lextek.com/manuals/onix/stopwords1.html\n",
    "* 2) 각 URL로 지정된 웹페이지의 HTML 소스를 파일로 저장하시오.\n",
    "\n",
    "    * URL이 http://URL 이라면 파일명은 URL.html 이다.\n",
    "    * 예: URL이 http://www.cnn.com 이라면 파일명은 www.cnn.com.html 이다.\n",
    "* 3) 단어의 출현빈도가 담긴 사전 객체를 위 HTML 소스 파일과 동일한 폴더에 파일로 저장하시오.\n",
    "    * 파일입출력 (E-learning 13주차) 마지막에 학습한 pickle 모듈을 활용하시오.\n",
    "    * URL이 http://URL 이라면 사전 객체를 담고 있는 파일명은 URL.words.frequency 이다.\n",
    "    * 예: URL이 http://www.cnn.com 이라면 파일명은 www.cnn.com.words.frequency 이다.\n",
    "* 4) 최소 5개 이상의 영어 웹 사이트 각각에 대한 HTML 소스 파일과 단어 출현빈도 파일을 저장하시오.\n",
    "    * 즉, 총 10개의 파일을 동일한 폴더에 생성하시오.\n",
    "    * [주의] 영어 웹사이트 URL로만 5개 이상\n",
    "        * 가능하면 주제가 서로 다른 웹 사이트들로 선정\n",
    "* 5) 위 문제에서 저장한 모든 words.frequency 파일들을 객체로 다시 로드하여 본인이 저장하여 분석한 사이트들 각각에 대해서 가장 많이 출현한 단어 3개씩를 뽑아 제시하시오.\n",
    "    * 반드시 pickle 모듈로 저장한 5개 이상의 words.frequency를 다시 5개 이상의 사전 객체로 로드 하는 코드가 추가되어야 함\n",
    "* 6) 간단한 검색엔진 코딩 (Like Google!!!)\n",
    "    * 사용자에게 임의의 단어 1개를 입력받으시오.\n",
    "    * 입력 받은 단어와 유사도(Similarity)가 높은 웹 사이트 기준으로 위 4)에서 미리 지정해 놓은 5개 이상의 웹 사이트 URL들을 일렬로 나열하여 출력하시오.\n",
    "        * 단어와 웹 사이트 간의 유사도는 본인이 스스로 정하시오.\n",
    "            * 유사도를 정하는 최소한의 기준은 단어 출현 빈도를 기반으로 해야 하며, 이외의 본인이 생각하는 방안이 있으면 함께 사용해도 됨.\n",
    "            * 반드시 코딩 내에 similarity 라는 사전 자료 구조가 있어야 함 (즉, 다음과 유사한 코드가 있어야 함).\n",
    "                * similarity = {}\n",
    "                * ...\n",
    "                * similarity[url1] = x1\n",
    "                * ...\n",
    "                * similarity[url2] = x2\n",
    "                * ...\n",
    "            * 위 코드에서 x1 과 x2는 입력단어와 해당 URL의 웹 사이트 간의 similarity를 나타내는 수치값\n",
    "        * 유사도가 높은 웹 사이트가 상위에 출력되어야 함 (즉, 유사도 기준 내림 차순)\n",
    "            * 유사도가 동일한 웹 사이트들에 대해서는 임의 배치함.\n",
    "* 7) [주의] 필수사항\n",
    "    * 위에서 만든 검색엔진 코딩은 매우 간단한 것이라 부족한 점이 많이 존재한다.\n",
    "    * 본인이 생각하기에 상업적인 완성도 높은 검색 로봇/엔진이 되려면 어떤 기능들이 추가적으로 구현되어야 할지 최소 3가지 이상 제시하시오."
   ]
  },
  {
   "cell_type": "code",
   "execution_count": 8,
   "metadata": {},
   "outputs": [
    {
     "name": "stdout",
     "output_type": "stream",
     "text": [
      "StackOverFlow : ('for', 1, 'and', 1, 'your', 1)\n",
      "CNN : ('if', 1, 'number', 1, 'in', 1)\n",
      "NME : ('in', 1, 'and', 1, 'right', 1)\n",
      "ASOS : ('for', 1, 'the', 1, 'new', 1)\n",
      "SkySports : ('if', 1, 'on', 1, 'in', 1)\n",
      "1 : input a word | 2 : Quit\n",
      "1\n",
      "asap\n",
      "{'stackoverflow': 0, 'cnn': 0, 'nme': 0, 'asos': 0, 'ssp': 0}\n",
      "1 : stackoverflow\n",
      "2 : cnn\n",
      "3 : nme\n",
      "4 : asos\n",
      "5 : ssp\n",
      "\n",
      "1 : input a word | 2 : Quit\n",
      "1\n",
      "new\n",
      "{'stackoverflow': 1, 'cnn': 1, 'nme': 1, 'asos': 1, 'ssp': 1}\n",
      "1 : stackoverflow\n",
      "2 : cnn\n",
      "3 : nme\n",
      "4 : asos\n",
      "5 : ssp\n",
      "\n",
      "1 : input a word | 2 : Quit\n",
      "1\n",
      "scy\n",
      "{'stackoverflow': 0, 'cnn': 0, 'nme': 0, 'asos': 0, 'ssp': 0}\n",
      "1 : stackoverflow\n",
      "2 : cnn\n",
      "3 : nme\n",
      "4 : asos\n",
      "5 : ssp\n",
      "\n",
      "1 : input a word | 2 : Quit\n",
      "1\n",
      "nme\n",
      "{'stackoverflow': 0, 'cnn': 0, 'nme': 0, 'asos': 0, 'ssp': 0}\n",
      "1 : stackoverflow\n",
      "2 : cnn\n",
      "3 : nme\n",
      "4 : asos\n",
      "5 : ssp\n",
      "\n",
      "1 : input a word | 2 : Quit\n",
      "2\n"
     ]
    }
   ],
   "source": [
    "from urllib import request \n",
    "import string\n",
    "import pickle\n",
    "\n",
    "Stop_words = [\"a\", \"about\", \"above\", \"across\", \"after\", \"again\", \"against\", \"all\", \"almost\",\n",
    "              \"alone\", \"along\", \"already\", \"also\", \"although\", \"always\", \"among\", \"an\", \"and\",\n",
    "              \"another\", \"any\", \"anybody\", \"anyone\", \"anything\", \"anywhere\", \"are\", \"area\",\n",
    "              \"areas\", \"around\", \"as\", \"ask\", \"asked\", \"asking\", \"asks\", \"at\", \"away\", \"b\",\n",
    "              \"back\", \"backed\", \"backing\", \"backs\", \"be\", \"became\", \"because\", \"become\",\n",
    "              \"becomes\", \"been\", \"before\", \"began\", \"behind\", \"being\", \"beings\", \"best\",\n",
    "              \"better\", \"between\", \"big\", \"both\", \"but\", \"by\", \"c\", \"came\", \"can\", \"cannot\",\n",
    "              \"case\", \"cases\", \"certain\", \"certainly\", \"clear\", \"clearly\", \"come\", \"could\", \"d\",\n",
    "              \"did\", \"differ\", \"different\", \"differently\", \"do\", \"does\", \"done\", \"down\", \"down\",\n",
    "              \"downed\", \"downing\", \"downs\", \"during\", \"e\", \"each\", \"early\", \"either\", \"end\",\n",
    "              \"ended\", \"ending\", \"ends\", \"enough\", \"even\", \"evenly\", \"ever\", \"every\", \"everybody\",\n",
    "              \"everyone\", \"everything\", \"everywhere\", \"f\", \"face\", \"faces\", \"fact\", \"facts\", \"far\",\n",
    "              \"felt\", \"few\", \"find\", \"finds\", \"first\", \"for\", \"four\", \"from\", \"full\", \"fully\",\n",
    "              \"further\", \"furthered\", \"furthering\", \"furthers\", \"g\", \"gave\", \"general\", \"generally\",\n",
    "              \"get\", \"gets\", \"give\", \"given\", \"gives\", \"go\", \"going\", \"good\", \"goods\", \"got\",\n",
    "              \"great\", \"greater\", \"greatest\", \"group\", \"grouped\", \"grouping\", \"groups\", \"h\", \"had\", \n",
    "              \"has\", \"have\", \"having\", \"he\", \"her\", \"here\", \"herself\", \"high\", \"high\", \"high\", \n",
    "              \"higher\", \"highest\", \"him\", \"himself\", \"his\", \"how\", \"however\", \"i\", \"if\", \"important\",\n",
    "              \"in\", \"interest\", \"interested\", \"interesting\", \"interests\", \"into\", \"is\", \"it\", \"its\", \n",
    "              \"itself\", \"j\", \"just\", \"k\", \"keep\", \"keeps\", \"kind\", \"knew\", \"know\", \"known\", \"knows\",\n",
    "              \"l\", \"large\", \"largely\", \"last\", \"later\", \"latest\", \"least\", \"less\", \"let\", \"lets\",\n",
    "              \"like\", \"likely\", \"long\", \"longer\", \"longest\", \"m\", \"made\", \"make\", \"making\", \"man\",\n",
    "              \"many\", \"may\", \"me\", \"member\", \"members\", \"men\", \"might\", \"more\", \"most\", \"mostly\",\n",
    "              \"mr\", \"mrs\", \"much\", \"must\", \"my\", \"myself\", \"n\", \"necessary\", \"need\", \"needed\", \n",
    "              \"needing\", \"needs\", \"never\", \"new\", \"new\", \"newer\", \"newest\", \"next\", \"no\", \"nobody\",\n",
    "              \"non\", \"noone\", \"not\", \"nothing\", \"now\", \"nowhere\", \"number\", \"numbers\", \"o\", \"of\", \n",
    "              \"off\", \"often\", \"old\", \"older\", \"oldest\", \"on\", \"once\", \"one\", \"only\", \"open\", \"opened\",\n",
    "              \"opening\", \"opens\", \"or\", \"order\", \"ordered\", \"ordering\", \"orders\", \"other\", \"others\",\n",
    "              \"our\", \"out\", \"over\", \"p\", \"part\", \"parted\", \"parting\", \"parts\", \"per\", \"perhaps\", \n",
    "              \"place\", \"places\", \"point\", \"pointed\", \"pointing\", \"points\", \"possible\", \"present\",\n",
    "              \"presented\", \"presenting\", \"presents\", \"problem\", \"problems\", \"put\", \"puts\", \"q\", \n",
    "              \"quite\", \"r\", \"rather\", \"really\", \"right\", \"right\", \"room\", \"rooms\", \"s\", \"said\", \n",
    "              \"same\", \"saw\", \"say\", \"says\", \"second\", \"seconds\", \"see\", \"seem\", \"seemed\", \"seeming\", \n",
    "              \"seems\", \"sees\", \"several\", \"shall\", \"she\", \"should\", \"show\", \"showed\", \"showing\", \"shows\", \"side\", \n",
    "              \"sides\", \"since\", \"small\", \"smaller\", \"smallest\", \"so\", \"some\", \"somebody\", \"someone\", \"something\", \n",
    "              \"somewhere\", \"state\", \"states\", \"still\", \"still\", \"such\", \"sure\", \"t\", \"take\", \"taken\", \"than\", \"that\", \n",
    "              \"the\", \"their\", \"them\", \"then\", \"there\", \"therefore\", \"these\", \"they\", \"thing\", \"things\", \"think\",\n",
    "              \"thinks\", \"this\", \"those\", \"though\", \"thought\", \"thoughts\", \"three\", \"through\", \"thus\", \"to\", \"today\",\n",
    "              \"together\", \"too\", \"took\", \"toward\", \"turn\", \"turned\", \"turning\", \"turns\", \"two\", \"u\", \"under\", \"until\",\n",
    "              \"up\", \"upon\", \"us\", \"use\", \"used\", \"uses\", \"v\", \"very\", \"w\", \"want\", \"wanted\", \"wanting\", \"wants\", \"was\",\n",
    "              \"way\", \"ways\", \"we\", \"well\", \"wells\", \"went\", \"were\", \"what\", \"when\", \"where\", \"whether\", \"which\",\n",
    "              \"while\", \"who\", \"whole\", \"whose\", \"why\", \"will\", \"with\", \"within\", \"without\", \"work\", \"worked\", \n",
    "              \"working\", \"works\", \"would\", \"x\", \"y\", \"year\", \"years\", \"yet\", \"you\", \"young\", \"younger\", \"youngest\",\n",
    "              \"your\", \"yours\", \"z\"]\n",
    " \n",
    "def web_Scroll(url):\n",
    "\n",
    "    word_flag = True\n",
    "    fst = 0\n",
    "    lst = 0\n",
    "    cnt = 0\n",
    "    l = []\n",
    "    flag = True\n",
    "    \n",
    "    url = url.strip()\n",
    "\n",
    "    for x in url:\n",
    "        if(x == '<'):\n",
    "            word_flag = False\n",
    "        elif(x == '>'):\n",
    "            word_flag = True\n",
    "        \n",
    "        if(flag == True and word_flag == True and x != ' ' and x != '>' and x != '\\n' and x != '\\t'):\n",
    "            flag = False\n",
    "            fst = cnt\n",
    "        elif(flag == False and (x == ' ' or x == '<') and x != '\\n' and x != '\\t'):\n",
    "            flag = True\n",
    "            lst = cnt\n",
    "            l.append(url[fst:lst])\n",
    "        \n",
    "        cnt=cnt+1\n",
    "    \n",
    "    n = []\n",
    "    w = ' '.join(l)\n",
    "    for x in range(len(w)):\n",
    "        if(w[x] not in string.punctuation):\n",
    "            n.append(w[x])\n",
    "    w = ''.join(n)\n",
    "    l = w.split()\n",
    "    word_t = {}\n",
    "    for x in l:\n",
    "        if(x not in Stop_words):\n",
    "            if(x in word_t):\n",
    "                word_t = word_t[x]+1\n",
    "        else:\n",
    "            word_t[x] = 1\n",
    "        \n",
    "    return word_t\n",
    "\n",
    "def dct(file):\n",
    "    f = open(file,'rb')\n",
    "    x = pickle.load(f)\n",
    "    f.close()\n",
    "    \n",
    "    return x\n",
    "    \n",
    "def sites(site,source, dct):\n",
    "    url = site\n",
    "    f = request.urlopen(url)\n",
    "    source_bytes=f.read()\n",
    "    f = open(source, 'w', encoding='UTF8')\n",
    "    f.write(source_bytes.decode('utf-8')) \n",
    "    f.close()\n",
    "    f = open(dct, 'wb')\n",
    "    pickle.dump(web_Scroll(source_bytes.decode('utf-8')),f)\n",
    "    f.close()\n",
    "    \n",
    "sites('https://www.stackoverflow.com/','www.stackoverflow.com.html','www.stackoverflow.com.words.frequency')   \n",
    "sites('http://www.cnn.com','www.cnn.com.html','www.cnn.com.words.frequency') \n",
    "sites('http://www.nme.com','www.nme.com.html','www.nme.com.words.frequency') \n",
    "sites('http://www.asos.com','www.asos.com.html','www.asos.com.words.frequency')\n",
    "sites('http://www.skysports.com','www.skysports.com.html','www.skysports.com.words.frequency') \n",
    "\n",
    "stackoverflow = sorted(dct('www.stackoverflow.com.words.frequency').items(),key=lambda x:x[1],reverse=True)\n",
    "cnn = sorted(dct('www.cnn.com.words.frequency').items(),key=lambda x:x[1],reverse=True)\n",
    "nme = sorted(dct('www.nme.com.words.frequency').items(),key=lambda x:x[1],reverse=True)\n",
    "asos = sorted(dct('www.asos.com.words.frequency').items(),key=lambda x:x[1],reverse=True)\n",
    "ssp = sorted(dct('www.skysports.com.words.frequency').items(),key=lambda x:x[1],reverse=True)\n",
    "\n",
    "print ('StackOverFlow : '+ str(stackoverflow[0] + stackoverflow[1] + stackoverflow[2]))\n",
    "print ('CNN : '+ str(cnn[0] + cnn[1] + cnn[2])) \n",
    "print ('NME : '+ str(nme[0] + nme[1] + nme[2]))\n",
    "print ('ASOS : '+ str(asos[0] + asos[1] + asos[2]))\n",
    "print ('SkySports : '+ str(ssp[0] + ssp[1] + ssp[2]))\n",
    "\n",
    "def mini_Google(input_word):\n",
    "    similarlity = {}\n",
    "    \n",
    "    for x in stackoverflow:\n",
    "        if(input_word == x[0]):\n",
    "            similarlity['stackoverflow'] = x[1]\n",
    "            break;       \n",
    "    else:\n",
    "        similarlity['stackoverflow'] = 0           \n",
    "              \n",
    "    for x in cnn:\n",
    "        if(input_word == x[0]):\n",
    "            similarlity['cnn'] = x[1]\n",
    "            break;         \n",
    "    else:\n",
    "        similarlity['cnn'] = 0\n",
    "            \n",
    "    for x in nme:\n",
    "        if(input_word == x[0]):\n",
    "            similarlity['nme'] = x[1]\n",
    "            break;\n",
    "    else:\n",
    "        similarlity['nme'] = 0    \n",
    "    \n",
    "    for x in asos:\n",
    "        if(input_word == x[0]):\n",
    "            similarlity['asos'] = x[1]\n",
    "            break;  \n",
    "    else:\n",
    "        similarlity['asos'] = 0 \n",
    "        \n",
    "    for x in ssp:\n",
    "        if(input_word == x[0]):\n",
    "            similarlity['ssp'] = x[1]\n",
    "            break;       \n",
    "    else:\n",
    "        similarlity['ssp'] = 0 \n",
    "            \n",
    "    print(similarlity)\n",
    "    srted = sorted(similarlity.items(),key=lambda x:x[1],reverse=True)\n",
    "    \n",
    "    for key,x in enumerate(srted):\n",
    "        print(str(key+1)+' : '+x[0] )\n",
    "    print()\n",
    "    \n",
    "while True:\n",
    "    print(\"1 : input a word | 2 : Quit\")\n",
    "    sct = input()\n",
    "    if(sct == '1'):\n",
    "        mini_Google(input())\n",
    "    if(sct == '2'):\n",
    "        break"
   ]
  },
  {
   "cell_type": "markdown",
   "metadata": {
    "collapsed": true
   },
   "source": [
    "- 유사도가 높은 웹 사이트를 상위에 출력하는 동시에 그와 비슷한 다른 웹 사이트들도 모두 출력하는 기능이 필요할 것 같다.<br/>\n",
    "- 사용자가 검색한 단어가 사이트에서 어떻게 쓰였는지를 보여주기 위해 그 단어가 사용된 사이트들 밑에 그 단어가 사용된 사이트 내의 문장을 출력한다. 이 기능이 있으면 이 사이트가 정말 사용자에게 필요한 사이트인지를 일일이 들어가보지 않아도 쉽게 구분할 수 있다.<br/>\n",
    "- 주로 어떤 성향의 사용자들이 주로 해당 사이트를 사용하는지 출력해 준다. 이렇게 하면 사용자는 자신에게 필요한 사이트인지 쉽게 구분할 수 있다.<br/>"
   ]
  },
  {
   "cell_type": "markdown",
   "metadata": {},
   "source": [
    "이 문제는 저번에 했던 과제에 여러가지를 추가하여서 풀었다. 파일 입출력을 이용하여 html 소스 파일과 단어 출현빈도 파일을 저장했고, 이를 pickle 모듈을 활용해 객체로 다시 로드하였다. 마지막으로 간단한 검색 엔진을 만들어보는 문제는 단어 출현 빈도를 기반으로 하여 사용자로부터 입력 받은 단어와 유사도가 높은 웹 사이트 순으로 출력되도록 하였다."
   ]
  },
  {
   "cell_type": "markdown",
   "metadata": {},
   "source": [
    "### 숙제이후 소감"
   ]
  },
  {
   "cell_type": "markdown",
   "metadata": {},
   "source": [
    "이번 과제는 정말 시간도 많이 걸리고 어려웠습니다. 다른 문제들은 그래도 할 만 했지만 2번과 마지막 문제가 특히 어려웠습니다. 맞게 코드를 짰다고 생각하고 실행을 시켰는데 에러가 발생하는 경우가 정말 많아 힘들었는데, 그럴 때마다 교수님께서 강의시간에 항상 참고하라고 하시는 stackoverflow 사이트가 많은 도움이 되었습니다. 매번 느끼는것이지만 교수님께서 강의시간에 간간히 소개해 주시는 참고 사이트들은 정말 도움이 많이 되는 것 같아 좋습니다. 솔직히 이번 과제의 마지막 문제는 포기하고 싶을 정도로 힘들었지만, 그래도 이렇게 과제를 하면서 그동안 많이 접해 볼 수 없었던 웹에 대한 공부를 할 수 있어서 좋은 것 같습니다. 이렇게 과제를 끝낸 것에서 그치지 않고 앞으로도 웹에 대한 공부를 다방면으로 많이 해 볼 것입니다. "
   ]
  }
 ],
 "metadata": {
  "kernelspec": {
   "display_name": "Python 3",
   "language": "python",
   "name": "python3"
  },
  "language_info": {
   "codemirror_mode": {
    "name": "ipython",
    "version": 3
   },
   "file_extension": ".py",
   "mimetype": "text/x-python",
   "name": "python",
   "nbconvert_exporter": "python",
   "pygments_lexer": "ipython3",
   "version": "3.6.1"
  }
 },
 "nbformat": 4,
 "nbformat_minor": 2
}
